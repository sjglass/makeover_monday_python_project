{
 "cells": [
  {
   "cell_type": "code",
   "execution_count": 88,
   "metadata": {},
   "outputs": [],
   "source": [
    "import pandas as pd\n",
    "import numpy as np\n",
    "\n",
    "#Various visualization libraries\n",
    "import seaborn as sns\n",
    "import matplotlib.pyplot as plt\n",
    "%matplotlib inline\n",
    "import plotly_express as px"
   ]
  },
  {
   "cell_type": "code",
   "execution_count": 89,
   "metadata": {},
   "outputs": [
    {
     "data": {
      "text/html": [
       "<div>\n",
       "<style scoped>\n",
       "    .dataframe tbody tr th:only-of-type {\n",
       "        vertical-align: middle;\n",
       "    }\n",
       "\n",
       "    .dataframe tbody tr th {\n",
       "        vertical-align: top;\n",
       "    }\n",
       "\n",
       "    .dataframe thead th {\n",
       "        text-align: right;\n",
       "    }\n",
       "</style>\n",
       "<table border=\"1\" class=\"dataframe\">\n",
       "  <thead>\n",
       "    <tr style=\"text-align: right;\">\n",
       "      <th></th>\n",
       "      <th>Generation</th>\n",
       "      <th>Category</th>\n",
       "      <th>% of Spending</th>\n",
       "    </tr>\n",
       "  </thead>\n",
       "  <tbody>\n",
       "    <tr>\n",
       "      <th>0</th>\n",
       "      <td>Millenials</td>\n",
       "      <td>Restaurants</td>\n",
       "      <td>0.238</td>\n",
       "    </tr>\n",
       "    <tr>\n",
       "      <th>1</th>\n",
       "      <td>Millenials</td>\n",
       "      <td>Groceries</td>\n",
       "      <td>0.217</td>\n",
       "    </tr>\n",
       "    <tr>\n",
       "      <th>2</th>\n",
       "      <td>Millenials</td>\n",
       "      <td>Gasoline</td>\n",
       "      <td>0.108</td>\n",
       "    </tr>\n",
       "    <tr>\n",
       "      <th>3</th>\n",
       "      <td>Millenials</td>\n",
       "      <td>Pharmacies</td>\n",
       "      <td>0.030</td>\n",
       "    </tr>\n",
       "    <tr>\n",
       "      <th>4</th>\n",
       "      <td>Millenials</td>\n",
       "      <td>Furniture/Building</td>\n",
       "      <td>0.045</td>\n",
       "    </tr>\n",
       "    <tr>\n",
       "      <th>5</th>\n",
       "      <td>Millenials</td>\n",
       "      <td>Elec/Hobbies/Clothing</td>\n",
       "      <td>0.185</td>\n",
       "    </tr>\n",
       "    <tr>\n",
       "      <th>6</th>\n",
       "      <td>Millenials</td>\n",
       "      <td>General/Misc</td>\n",
       "      <td>0.177</td>\n",
       "    </tr>\n",
       "    <tr>\n",
       "      <th>7</th>\n",
       "      <td>Generation X</td>\n",
       "      <td>Restaurants</td>\n",
       "      <td>0.177</td>\n",
       "    </tr>\n",
       "    <tr>\n",
       "      <th>8</th>\n",
       "      <td>Generation X</td>\n",
       "      <td>Groceries</td>\n",
       "      <td>0.253</td>\n",
       "    </tr>\n",
       "    <tr>\n",
       "      <th>9</th>\n",
       "      <td>Generation X</td>\n",
       "      <td>Gasoline</td>\n",
       "      <td>0.097</td>\n",
       "    </tr>\n",
       "    <tr>\n",
       "      <th>10</th>\n",
       "      <td>Generation X</td>\n",
       "      <td>Pharmacies</td>\n",
       "      <td>0.029</td>\n",
       "    </tr>\n",
       "    <tr>\n",
       "      <th>11</th>\n",
       "      <td>Generation X</td>\n",
       "      <td>Furniture/Building</td>\n",
       "      <td>0.073</td>\n",
       "    </tr>\n",
       "    <tr>\n",
       "      <th>12</th>\n",
       "      <td>Generation X</td>\n",
       "      <td>Elec/Hobbies/Clothing</td>\n",
       "      <td>0.168</td>\n",
       "    </tr>\n",
       "    <tr>\n",
       "      <th>13</th>\n",
       "      <td>Generation X</td>\n",
       "      <td>General/Misc</td>\n",
       "      <td>0.203</td>\n",
       "    </tr>\n",
       "    <tr>\n",
       "      <th>14</th>\n",
       "      <td>Baby Boomers</td>\n",
       "      <td>Restaurants</td>\n",
       "      <td>0.135</td>\n",
       "    </tr>\n",
       "    <tr>\n",
       "      <th>15</th>\n",
       "      <td>Baby Boomers</td>\n",
       "      <td>Groceries</td>\n",
       "      <td>0.272</td>\n",
       "    </tr>\n",
       "    <tr>\n",
       "      <th>16</th>\n",
       "      <td>Baby Boomers</td>\n",
       "      <td>Gasoline</td>\n",
       "      <td>0.085</td>\n",
       "    </tr>\n",
       "    <tr>\n",
       "      <th>17</th>\n",
       "      <td>Baby Boomers</td>\n",
       "      <td>Pharmacies</td>\n",
       "      <td>0.037</td>\n",
       "    </tr>\n",
       "    <tr>\n",
       "      <th>18</th>\n",
       "      <td>Baby Boomers</td>\n",
       "      <td>Furniture/Building</td>\n",
       "      <td>0.100</td>\n",
       "    </tr>\n",
       "    <tr>\n",
       "      <th>19</th>\n",
       "      <td>Baby Boomers</td>\n",
       "      <td>Elec/Hobbies/Clothing</td>\n",
       "      <td>0.147</td>\n",
       "    </tr>\n",
       "    <tr>\n",
       "      <th>20</th>\n",
       "      <td>Baby Boomers</td>\n",
       "      <td>General/Misc</td>\n",
       "      <td>0.223</td>\n",
       "    </tr>\n",
       "    <tr>\n",
       "      <th>21</th>\n",
       "      <td>Traditionalists</td>\n",
       "      <td>Restaurants</td>\n",
       "      <td>0.128</td>\n",
       "    </tr>\n",
       "    <tr>\n",
       "      <th>22</th>\n",
       "      <td>Traditionalists</td>\n",
       "      <td>Groceries</td>\n",
       "      <td>0.304</td>\n",
       "    </tr>\n",
       "    <tr>\n",
       "      <th>23</th>\n",
       "      <td>Traditionalists</td>\n",
       "      <td>Gasoline</td>\n",
       "      <td>0.067</td>\n",
       "    </tr>\n",
       "    <tr>\n",
       "      <th>24</th>\n",
       "      <td>Traditionalists</td>\n",
       "      <td>Pharmacies</td>\n",
       "      <td>0.064</td>\n",
       "    </tr>\n",
       "    <tr>\n",
       "      <th>25</th>\n",
       "      <td>Traditionalists</td>\n",
       "      <td>Furniture/Building</td>\n",
       "      <td>0.094</td>\n",
       "    </tr>\n",
       "    <tr>\n",
       "      <th>26</th>\n",
       "      <td>Traditionalists</td>\n",
       "      <td>Elec/Hobbies/Clothing</td>\n",
       "      <td>0.118</td>\n",
       "    </tr>\n",
       "    <tr>\n",
       "      <th>27</th>\n",
       "      <td>Traditionalists</td>\n",
       "      <td>General/Misc</td>\n",
       "      <td>0.225</td>\n",
       "    </tr>\n",
       "  </tbody>\n",
       "</table>\n",
       "</div>"
      ],
      "text/plain": [
       "         Generation               Category  % of Spending\n",
       "0        Millenials            Restaurants          0.238\n",
       "1        Millenials              Groceries          0.217\n",
       "2        Millenials               Gasoline          0.108\n",
       "3        Millenials             Pharmacies          0.030\n",
       "4        Millenials     Furniture/Building          0.045\n",
       "5        Millenials  Elec/Hobbies/Clothing          0.185\n",
       "6        Millenials           General/Misc          0.177\n",
       "7      Generation X            Restaurants          0.177\n",
       "8      Generation X              Groceries          0.253\n",
       "9      Generation X               Gasoline          0.097\n",
       "10     Generation X             Pharmacies          0.029\n",
       "11     Generation X     Furniture/Building          0.073\n",
       "12     Generation X  Elec/Hobbies/Clothing          0.168\n",
       "13     Generation X           General/Misc          0.203\n",
       "14     Baby Boomers            Restaurants          0.135\n",
       "15     Baby Boomers              Groceries          0.272\n",
       "16     Baby Boomers               Gasoline          0.085\n",
       "17     Baby Boomers             Pharmacies          0.037\n",
       "18     Baby Boomers     Furniture/Building          0.100\n",
       "19     Baby Boomers  Elec/Hobbies/Clothing          0.147\n",
       "20     Baby Boomers           General/Misc          0.223\n",
       "21  Traditionalists            Restaurants          0.128\n",
       "22  Traditionalists              Groceries          0.304\n",
       "23  Traditionalists               Gasoline          0.067\n",
       "24  Traditionalists             Pharmacies          0.064\n",
       "25  Traditionalists     Furniture/Building          0.094\n",
       "26  Traditionalists  Elec/Hobbies/Clothing          0.118\n",
       "27  Traditionalists           General/Misc          0.225"
      ]
     },
     "execution_count": 89,
     "metadata": {},
     "output_type": "execute_result"
    }
   ],
   "source": [
    "# Makover Monday Week 13: http://www.makeovermonday.co.uk/data/\n",
    "# Original Article: https://finance.yahoo.com/news/chart-reveals-huge-difference-millennials-201133732.html\n",
    "# Data on data.world: https://data.world/makeovermonday/2019w13\n",
    "df_data = pd.read_csv('Consumer Spending by Generation.csv')\n",
    "df_data"
   ]
  },
  {
   "cell_type": "code",
   "execution_count": 90,
   "metadata": {},
   "outputs": [
    {
     "data": {
      "text/html": [
       "<div>\n",
       "<style scoped>\n",
       "    .dataframe tbody tr th:only-of-type {\n",
       "        vertical-align: middle;\n",
       "    }\n",
       "\n",
       "    .dataframe tbody tr th {\n",
       "        vertical-align: top;\n",
       "    }\n",
       "\n",
       "    .dataframe thead th {\n",
       "        text-align: right;\n",
       "    }\n",
       "</style>\n",
       "<table border=\"1\" class=\"dataframe\">\n",
       "  <thead>\n",
       "    <tr style=\"text-align: right;\">\n",
       "      <th></th>\n",
       "      <th>Generation</th>\n",
       "      <th>Category</th>\n",
       "      <th>% of Spending</th>\n",
       "      <th>Cat Mean % of Spending</th>\n",
       "      <th>Category Rank</th>\n",
       "      <th>row</th>\n",
       "      <th>col</th>\n",
       "    </tr>\n",
       "  </thead>\n",
       "  <tbody>\n",
       "    <tr>\n",
       "      <th>0</th>\n",
       "      <td>Millenials</td>\n",
       "      <td>Restaurants</td>\n",
       "      <td>0.238</td>\n",
       "      <td>0.16950</td>\n",
       "      <td>3</td>\n",
       "      <td>1</td>\n",
       "      <td>3</td>\n",
       "    </tr>\n",
       "    <tr>\n",
       "      <th>1</th>\n",
       "      <td>Generation X</td>\n",
       "      <td>Restaurants</td>\n",
       "      <td>0.177</td>\n",
       "      <td>0.16950</td>\n",
       "      <td>3</td>\n",
       "      <td>1</td>\n",
       "      <td>3</td>\n",
       "    </tr>\n",
       "    <tr>\n",
       "      <th>2</th>\n",
       "      <td>Baby Boomers</td>\n",
       "      <td>Restaurants</td>\n",
       "      <td>0.135</td>\n",
       "      <td>0.16950</td>\n",
       "      <td>3</td>\n",
       "      <td>1</td>\n",
       "      <td>3</td>\n",
       "    </tr>\n",
       "    <tr>\n",
       "      <th>3</th>\n",
       "      <td>Traditionalists</td>\n",
       "      <td>Restaurants</td>\n",
       "      <td>0.128</td>\n",
       "      <td>0.16950</td>\n",
       "      <td>3</td>\n",
       "      <td>1</td>\n",
       "      <td>3</td>\n",
       "    </tr>\n",
       "    <tr>\n",
       "      <th>4</th>\n",
       "      <td>Millenials</td>\n",
       "      <td>Groceries</td>\n",
       "      <td>0.217</td>\n",
       "      <td>0.26150</td>\n",
       "      <td>1</td>\n",
       "      <td>1</td>\n",
       "      <td>1</td>\n",
       "    </tr>\n",
       "    <tr>\n",
       "      <th>5</th>\n",
       "      <td>Generation X</td>\n",
       "      <td>Groceries</td>\n",
       "      <td>0.253</td>\n",
       "      <td>0.26150</td>\n",
       "      <td>1</td>\n",
       "      <td>1</td>\n",
       "      <td>1</td>\n",
       "    </tr>\n",
       "    <tr>\n",
       "      <th>6</th>\n",
       "      <td>Baby Boomers</td>\n",
       "      <td>Groceries</td>\n",
       "      <td>0.272</td>\n",
       "      <td>0.26150</td>\n",
       "      <td>1</td>\n",
       "      <td>1</td>\n",
       "      <td>1</td>\n",
       "    </tr>\n",
       "    <tr>\n",
       "      <th>7</th>\n",
       "      <td>Traditionalists</td>\n",
       "      <td>Groceries</td>\n",
       "      <td>0.304</td>\n",
       "      <td>0.26150</td>\n",
       "      <td>1</td>\n",
       "      <td>1</td>\n",
       "      <td>1</td>\n",
       "    </tr>\n",
       "    <tr>\n",
       "      <th>8</th>\n",
       "      <td>Millenials</td>\n",
       "      <td>Gasoline</td>\n",
       "      <td>0.108</td>\n",
       "      <td>0.08925</td>\n",
       "      <td>5</td>\n",
       "      <td>2</td>\n",
       "      <td>2</td>\n",
       "    </tr>\n",
       "    <tr>\n",
       "      <th>9</th>\n",
       "      <td>Generation X</td>\n",
       "      <td>Gasoline</td>\n",
       "      <td>0.097</td>\n",
       "      <td>0.08925</td>\n",
       "      <td>5</td>\n",
       "      <td>2</td>\n",
       "      <td>2</td>\n",
       "    </tr>\n",
       "    <tr>\n",
       "      <th>10</th>\n",
       "      <td>Baby Boomers</td>\n",
       "      <td>Gasoline</td>\n",
       "      <td>0.085</td>\n",
       "      <td>0.08925</td>\n",
       "      <td>5</td>\n",
       "      <td>2</td>\n",
       "      <td>2</td>\n",
       "    </tr>\n",
       "    <tr>\n",
       "      <th>11</th>\n",
       "      <td>Traditionalists</td>\n",
       "      <td>Gasoline</td>\n",
       "      <td>0.067</td>\n",
       "      <td>0.08925</td>\n",
       "      <td>5</td>\n",
       "      <td>2</td>\n",
       "      <td>2</td>\n",
       "    </tr>\n",
       "    <tr>\n",
       "      <th>12</th>\n",
       "      <td>Millenials</td>\n",
       "      <td>Pharmacies</td>\n",
       "      <td>0.030</td>\n",
       "      <td>0.04000</td>\n",
       "      <td>7</td>\n",
       "      <td>3</td>\n",
       "      <td>1</td>\n",
       "    </tr>\n",
       "    <tr>\n",
       "      <th>13</th>\n",
       "      <td>Generation X</td>\n",
       "      <td>Pharmacies</td>\n",
       "      <td>0.029</td>\n",
       "      <td>0.04000</td>\n",
       "      <td>7</td>\n",
       "      <td>3</td>\n",
       "      <td>1</td>\n",
       "    </tr>\n",
       "    <tr>\n",
       "      <th>14</th>\n",
       "      <td>Baby Boomers</td>\n",
       "      <td>Pharmacies</td>\n",
       "      <td>0.037</td>\n",
       "      <td>0.04000</td>\n",
       "      <td>7</td>\n",
       "      <td>3</td>\n",
       "      <td>1</td>\n",
       "    </tr>\n",
       "    <tr>\n",
       "      <th>15</th>\n",
       "      <td>Traditionalists</td>\n",
       "      <td>Pharmacies</td>\n",
       "      <td>0.064</td>\n",
       "      <td>0.04000</td>\n",
       "      <td>7</td>\n",
       "      <td>3</td>\n",
       "      <td>1</td>\n",
       "    </tr>\n",
       "    <tr>\n",
       "      <th>16</th>\n",
       "      <td>Millenials</td>\n",
       "      <td>Furniture/Building</td>\n",
       "      <td>0.045</td>\n",
       "      <td>0.07800</td>\n",
       "      <td>6</td>\n",
       "      <td>2</td>\n",
       "      <td>3</td>\n",
       "    </tr>\n",
       "    <tr>\n",
       "      <th>17</th>\n",
       "      <td>Generation X</td>\n",
       "      <td>Furniture/Building</td>\n",
       "      <td>0.073</td>\n",
       "      <td>0.07800</td>\n",
       "      <td>6</td>\n",
       "      <td>2</td>\n",
       "      <td>3</td>\n",
       "    </tr>\n",
       "    <tr>\n",
       "      <th>18</th>\n",
       "      <td>Baby Boomers</td>\n",
       "      <td>Furniture/Building</td>\n",
       "      <td>0.100</td>\n",
       "      <td>0.07800</td>\n",
       "      <td>6</td>\n",
       "      <td>2</td>\n",
       "      <td>3</td>\n",
       "    </tr>\n",
       "    <tr>\n",
       "      <th>19</th>\n",
       "      <td>Traditionalists</td>\n",
       "      <td>Furniture/Building</td>\n",
       "      <td>0.094</td>\n",
       "      <td>0.07800</td>\n",
       "      <td>6</td>\n",
       "      <td>2</td>\n",
       "      <td>3</td>\n",
       "    </tr>\n",
       "    <tr>\n",
       "      <th>20</th>\n",
       "      <td>Millenials</td>\n",
       "      <td>Elec/Hobbies/Clothing</td>\n",
       "      <td>0.185</td>\n",
       "      <td>0.15450</td>\n",
       "      <td>4</td>\n",
       "      <td>2</td>\n",
       "      <td>1</td>\n",
       "    </tr>\n",
       "    <tr>\n",
       "      <th>21</th>\n",
       "      <td>Generation X</td>\n",
       "      <td>Elec/Hobbies/Clothing</td>\n",
       "      <td>0.168</td>\n",
       "      <td>0.15450</td>\n",
       "      <td>4</td>\n",
       "      <td>2</td>\n",
       "      <td>1</td>\n",
       "    </tr>\n",
       "    <tr>\n",
       "      <th>22</th>\n",
       "      <td>Baby Boomers</td>\n",
       "      <td>Elec/Hobbies/Clothing</td>\n",
       "      <td>0.147</td>\n",
       "      <td>0.15450</td>\n",
       "      <td>4</td>\n",
       "      <td>2</td>\n",
       "      <td>1</td>\n",
       "    </tr>\n",
       "    <tr>\n",
       "      <th>23</th>\n",
       "      <td>Traditionalists</td>\n",
       "      <td>Elec/Hobbies/Clothing</td>\n",
       "      <td>0.118</td>\n",
       "      <td>0.15450</td>\n",
       "      <td>4</td>\n",
       "      <td>2</td>\n",
       "      <td>1</td>\n",
       "    </tr>\n",
       "    <tr>\n",
       "      <th>24</th>\n",
       "      <td>Millenials</td>\n",
       "      <td>General/Misc</td>\n",
       "      <td>0.177</td>\n",
       "      <td>0.20700</td>\n",
       "      <td>2</td>\n",
       "      <td>1</td>\n",
       "      <td>2</td>\n",
       "    </tr>\n",
       "    <tr>\n",
       "      <th>25</th>\n",
       "      <td>Generation X</td>\n",
       "      <td>General/Misc</td>\n",
       "      <td>0.203</td>\n",
       "      <td>0.20700</td>\n",
       "      <td>2</td>\n",
       "      <td>1</td>\n",
       "      <td>2</td>\n",
       "    </tr>\n",
       "    <tr>\n",
       "      <th>26</th>\n",
       "      <td>Baby Boomers</td>\n",
       "      <td>General/Misc</td>\n",
       "      <td>0.223</td>\n",
       "      <td>0.20700</td>\n",
       "      <td>2</td>\n",
       "      <td>1</td>\n",
       "      <td>2</td>\n",
       "    </tr>\n",
       "    <tr>\n",
       "      <th>27</th>\n",
       "      <td>Traditionalists</td>\n",
       "      <td>General/Misc</td>\n",
       "      <td>0.225</td>\n",
       "      <td>0.20700</td>\n",
       "      <td>2</td>\n",
       "      <td>1</td>\n",
       "      <td>2</td>\n",
       "    </tr>\n",
       "  </tbody>\n",
       "</table>\n",
       "</div>"
      ],
      "text/plain": [
       "         Generation               Category  % of Spending  \\\n",
       "0        Millenials            Restaurants          0.238   \n",
       "1      Generation X            Restaurants          0.177   \n",
       "2      Baby Boomers            Restaurants          0.135   \n",
       "3   Traditionalists            Restaurants          0.128   \n",
       "4        Millenials              Groceries          0.217   \n",
       "5      Generation X              Groceries          0.253   \n",
       "6      Baby Boomers              Groceries          0.272   \n",
       "7   Traditionalists              Groceries          0.304   \n",
       "8        Millenials               Gasoline          0.108   \n",
       "9      Generation X               Gasoline          0.097   \n",
       "10     Baby Boomers               Gasoline          0.085   \n",
       "11  Traditionalists               Gasoline          0.067   \n",
       "12       Millenials             Pharmacies          0.030   \n",
       "13     Generation X             Pharmacies          0.029   \n",
       "14     Baby Boomers             Pharmacies          0.037   \n",
       "15  Traditionalists             Pharmacies          0.064   \n",
       "16       Millenials     Furniture/Building          0.045   \n",
       "17     Generation X     Furniture/Building          0.073   \n",
       "18     Baby Boomers     Furniture/Building          0.100   \n",
       "19  Traditionalists     Furniture/Building          0.094   \n",
       "20       Millenials  Elec/Hobbies/Clothing          0.185   \n",
       "21     Generation X  Elec/Hobbies/Clothing          0.168   \n",
       "22     Baby Boomers  Elec/Hobbies/Clothing          0.147   \n",
       "23  Traditionalists  Elec/Hobbies/Clothing          0.118   \n",
       "24       Millenials           General/Misc          0.177   \n",
       "25     Generation X           General/Misc          0.203   \n",
       "26     Baby Boomers           General/Misc          0.223   \n",
       "27  Traditionalists           General/Misc          0.225   \n",
       "\n",
       "    Cat Mean % of Spending  Category Rank  row  col  \n",
       "0                  0.16950              3    1    3  \n",
       "1                  0.16950              3    1    3  \n",
       "2                  0.16950              3    1    3  \n",
       "3                  0.16950              3    1    3  \n",
       "4                  0.26150              1    1    1  \n",
       "5                  0.26150              1    1    1  \n",
       "6                  0.26150              1    1    1  \n",
       "7                  0.26150              1    1    1  \n",
       "8                  0.08925              5    2    2  \n",
       "9                  0.08925              5    2    2  \n",
       "10                 0.08925              5    2    2  \n",
       "11                 0.08925              5    2    2  \n",
       "12                 0.04000              7    3    1  \n",
       "13                 0.04000              7    3    1  \n",
       "14                 0.04000              7    3    1  \n",
       "15                 0.04000              7    3    1  \n",
       "16                 0.07800              6    2    3  \n",
       "17                 0.07800              6    2    3  \n",
       "18                 0.07800              6    2    3  \n",
       "19                 0.07800              6    2    3  \n",
       "20                 0.15450              4    2    1  \n",
       "21                 0.15450              4    2    1  \n",
       "22                 0.15450              4    2    1  \n",
       "23                 0.15450              4    2    1  \n",
       "24                 0.20700              2    1    2  \n",
       "25                 0.20700              2    1    2  \n",
       "26                 0.20700              2    1    2  \n",
       "27                 0.20700              2    1    2  "
      ]
     },
     "execution_count": 90,
     "metadata": {},
     "output_type": "execute_result"
    }
   ],
   "source": [
    "# It's difficult to show all 7 categories # 4 Generations in one row or column of bar charts\n",
    "# Assigning each category a number (based on overall percent spending)\n",
    "# allows, for example, a trellis chart based on the rank\n",
    "# Although FWIW 7 is a terrible number for trellis charts too.\n",
    "cat_means = df_data.groupby(\"Category\").mean().reset_index().rename(index=str, columns={\"% of Spending\": \"Cat Mean % of Spending\"})\n",
    "# dense ranks should always be integers\n",
    "cat_means['Category Rank']=cat_means['Cat Mean % of Spending'].rank(ascending=0,method='dense').astype(int)\n",
    "cat_means['row']=((cat_means['Category Rank'].astype(int)-1)/3 + 1).astype(int)\n",
    "cat_means['col']=(cat_means['Category Rank']%3).replace(0, 3).astype(int)\n",
    "df_data = df_data.merge(cat_means, on='Category')\n",
    "df_data"
   ]
  },
  {
   "cell_type": "code",
   "execution_count": 103,
   "metadata": {},
   "outputs": [
    {
     "data": {
      "text/html": [
       "<div>\n",
       "<style scoped>\n",
       "    .dataframe tbody tr th:only-of-type {\n",
       "        vertical-align: middle;\n",
       "    }\n",
       "\n",
       "    .dataframe tbody tr th {\n",
       "        vertical-align: top;\n",
       "    }\n",
       "\n",
       "    .dataframe thead th {\n",
       "        text-align: right;\n",
       "    }\n",
       "</style>\n",
       "<table border=\"1\" class=\"dataframe\">\n",
       "  <thead>\n",
       "    <tr style=\"text-align: right;\">\n",
       "      <th></th>\n",
       "      <th>Generation</th>\n",
       "      <th>Category</th>\n",
       "      <th>% of Spending</th>\n",
       "      <th>Cat Mean % of Spending</th>\n",
       "      <th>Category Rank</th>\n",
       "      <th>row</th>\n",
       "      <th>col</th>\n",
       "    </tr>\n",
       "  </thead>\n",
       "  <tbody>\n",
       "    <tr>\n",
       "      <th>0</th>\n",
       "      <td>Millenials</td>\n",
       "      <td>Restaurants</td>\n",
       "      <td>0.238</td>\n",
       "      <td>0.16950</td>\n",
       "      <td>3</td>\n",
       "      <td>1</td>\n",
       "      <td>3</td>\n",
       "    </tr>\n",
       "    <tr>\n",
       "      <th>24</th>\n",
       "      <td>Millenials</td>\n",
       "      <td>General/Misc</td>\n",
       "      <td>0.177</td>\n",
       "      <td>0.20700</td>\n",
       "      <td>2</td>\n",
       "      <td>1</td>\n",
       "      <td>2</td>\n",
       "    </tr>\n",
       "    <tr>\n",
       "      <th>4</th>\n",
       "      <td>Millenials</td>\n",
       "      <td>Groceries</td>\n",
       "      <td>0.217</td>\n",
       "      <td>0.26150</td>\n",
       "      <td>1</td>\n",
       "      <td>1</td>\n",
       "      <td>1</td>\n",
       "    </tr>\n",
       "    <tr>\n",
       "      <th>20</th>\n",
       "      <td>Millenials</td>\n",
       "      <td>Elec/Hobbies/Clothing</td>\n",
       "      <td>0.185</td>\n",
       "      <td>0.15450</td>\n",
       "      <td>4</td>\n",
       "      <td>2</td>\n",
       "      <td>1</td>\n",
       "    </tr>\n",
       "    <tr>\n",
       "      <th>16</th>\n",
       "      <td>Millenials</td>\n",
       "      <td>Furniture/Building</td>\n",
       "      <td>0.045</td>\n",
       "      <td>0.07800</td>\n",
       "      <td>6</td>\n",
       "      <td>2</td>\n",
       "      <td>3</td>\n",
       "    </tr>\n",
       "    <tr>\n",
       "      <th>8</th>\n",
       "      <td>Millenials</td>\n",
       "      <td>Gasoline</td>\n",
       "      <td>0.108</td>\n",
       "      <td>0.08925</td>\n",
       "      <td>5</td>\n",
       "      <td>2</td>\n",
       "      <td>2</td>\n",
       "    </tr>\n",
       "    <tr>\n",
       "      <th>12</th>\n",
       "      <td>Millenials</td>\n",
       "      <td>Pharmacies</td>\n",
       "      <td>0.030</td>\n",
       "      <td>0.04000</td>\n",
       "      <td>7</td>\n",
       "      <td>3</td>\n",
       "      <td>1</td>\n",
       "    </tr>\n",
       "    <tr>\n",
       "      <th>25</th>\n",
       "      <td>Generation X</td>\n",
       "      <td>General/Misc</td>\n",
       "      <td>0.203</td>\n",
       "      <td>0.20700</td>\n",
       "      <td>2</td>\n",
       "      <td>1</td>\n",
       "      <td>2</td>\n",
       "    </tr>\n",
       "    <tr>\n",
       "      <th>21</th>\n",
       "      <td>Generation X</td>\n",
       "      <td>Elec/Hobbies/Clothing</td>\n",
       "      <td>0.168</td>\n",
       "      <td>0.15450</td>\n",
       "      <td>4</td>\n",
       "      <td>2</td>\n",
       "      <td>1</td>\n",
       "    </tr>\n",
       "    <tr>\n",
       "      <th>17</th>\n",
       "      <td>Generation X</td>\n",
       "      <td>Furniture/Building</td>\n",
       "      <td>0.073</td>\n",
       "      <td>0.07800</td>\n",
       "      <td>6</td>\n",
       "      <td>2</td>\n",
       "      <td>3</td>\n",
       "    </tr>\n",
       "    <tr>\n",
       "      <th>13</th>\n",
       "      <td>Generation X</td>\n",
       "      <td>Pharmacies</td>\n",
       "      <td>0.029</td>\n",
       "      <td>0.04000</td>\n",
       "      <td>7</td>\n",
       "      <td>3</td>\n",
       "      <td>1</td>\n",
       "    </tr>\n",
       "    <tr>\n",
       "      <th>9</th>\n",
       "      <td>Generation X</td>\n",
       "      <td>Gasoline</td>\n",
       "      <td>0.097</td>\n",
       "      <td>0.08925</td>\n",
       "      <td>5</td>\n",
       "      <td>2</td>\n",
       "      <td>2</td>\n",
       "    </tr>\n",
       "    <tr>\n",
       "      <th>1</th>\n",
       "      <td>Generation X</td>\n",
       "      <td>Restaurants</td>\n",
       "      <td>0.177</td>\n",
       "      <td>0.16950</td>\n",
       "      <td>3</td>\n",
       "      <td>1</td>\n",
       "      <td>3</td>\n",
       "    </tr>\n",
       "    <tr>\n",
       "      <th>5</th>\n",
       "      <td>Generation X</td>\n",
       "      <td>Groceries</td>\n",
       "      <td>0.253</td>\n",
       "      <td>0.26150</td>\n",
       "      <td>1</td>\n",
       "      <td>1</td>\n",
       "      <td>1</td>\n",
       "    </tr>\n",
       "    <tr>\n",
       "      <th>26</th>\n",
       "      <td>Baby Boomers</td>\n",
       "      <td>General/Misc</td>\n",
       "      <td>0.223</td>\n",
       "      <td>0.20700</td>\n",
       "      <td>2</td>\n",
       "      <td>1</td>\n",
       "      <td>2</td>\n",
       "    </tr>\n",
       "    <tr>\n",
       "      <th>14</th>\n",
       "      <td>Baby Boomers</td>\n",
       "      <td>Pharmacies</td>\n",
       "      <td>0.037</td>\n",
       "      <td>0.04000</td>\n",
       "      <td>7</td>\n",
       "      <td>3</td>\n",
       "      <td>1</td>\n",
       "    </tr>\n",
       "    <tr>\n",
       "      <th>2</th>\n",
       "      <td>Baby Boomers</td>\n",
       "      <td>Restaurants</td>\n",
       "      <td>0.135</td>\n",
       "      <td>0.16950</td>\n",
       "      <td>3</td>\n",
       "      <td>1</td>\n",
       "      <td>3</td>\n",
       "    </tr>\n",
       "    <tr>\n",
       "      <th>6</th>\n",
       "      <td>Baby Boomers</td>\n",
       "      <td>Groceries</td>\n",
       "      <td>0.272</td>\n",
       "      <td>0.26150</td>\n",
       "      <td>1</td>\n",
       "      <td>1</td>\n",
       "      <td>1</td>\n",
       "    </tr>\n",
       "    <tr>\n",
       "      <th>18</th>\n",
       "      <td>Baby Boomers</td>\n",
       "      <td>Furniture/Building</td>\n",
       "      <td>0.100</td>\n",
       "      <td>0.07800</td>\n",
       "      <td>6</td>\n",
       "      <td>2</td>\n",
       "      <td>3</td>\n",
       "    </tr>\n",
       "    <tr>\n",
       "      <th>10</th>\n",
       "      <td>Baby Boomers</td>\n",
       "      <td>Gasoline</td>\n",
       "      <td>0.085</td>\n",
       "      <td>0.08925</td>\n",
       "      <td>5</td>\n",
       "      <td>2</td>\n",
       "      <td>2</td>\n",
       "    </tr>\n",
       "    <tr>\n",
       "      <th>22</th>\n",
       "      <td>Baby Boomers</td>\n",
       "      <td>Elec/Hobbies/Clothing</td>\n",
       "      <td>0.147</td>\n",
       "      <td>0.15450</td>\n",
       "      <td>4</td>\n",
       "      <td>2</td>\n",
       "      <td>1</td>\n",
       "    </tr>\n",
       "    <tr>\n",
       "      <th>11</th>\n",
       "      <td>Traditionalists</td>\n",
       "      <td>Gasoline</td>\n",
       "      <td>0.067</td>\n",
       "      <td>0.08925</td>\n",
       "      <td>5</td>\n",
       "      <td>2</td>\n",
       "      <td>2</td>\n",
       "    </tr>\n",
       "    <tr>\n",
       "      <th>23</th>\n",
       "      <td>Traditionalists</td>\n",
       "      <td>Elec/Hobbies/Clothing</td>\n",
       "      <td>0.118</td>\n",
       "      <td>0.15450</td>\n",
       "      <td>4</td>\n",
       "      <td>2</td>\n",
       "      <td>1</td>\n",
       "    </tr>\n",
       "    <tr>\n",
       "      <th>19</th>\n",
       "      <td>Traditionalists</td>\n",
       "      <td>Furniture/Building</td>\n",
       "      <td>0.094</td>\n",
       "      <td>0.07800</td>\n",
       "      <td>6</td>\n",
       "      <td>2</td>\n",
       "      <td>3</td>\n",
       "    </tr>\n",
       "    <tr>\n",
       "      <th>7</th>\n",
       "      <td>Traditionalists</td>\n",
       "      <td>Groceries</td>\n",
       "      <td>0.304</td>\n",
       "      <td>0.26150</td>\n",
       "      <td>1</td>\n",
       "      <td>1</td>\n",
       "      <td>1</td>\n",
       "    </tr>\n",
       "    <tr>\n",
       "      <th>15</th>\n",
       "      <td>Traditionalists</td>\n",
       "      <td>Pharmacies</td>\n",
       "      <td>0.064</td>\n",
       "      <td>0.04000</td>\n",
       "      <td>7</td>\n",
       "      <td>3</td>\n",
       "      <td>1</td>\n",
       "    </tr>\n",
       "    <tr>\n",
       "      <th>3</th>\n",
       "      <td>Traditionalists</td>\n",
       "      <td>Restaurants</td>\n",
       "      <td>0.128</td>\n",
       "      <td>0.16950</td>\n",
       "      <td>3</td>\n",
       "      <td>1</td>\n",
       "      <td>3</td>\n",
       "    </tr>\n",
       "    <tr>\n",
       "      <th>27</th>\n",
       "      <td>Traditionalists</td>\n",
       "      <td>General/Misc</td>\n",
       "      <td>0.225</td>\n",
       "      <td>0.20700</td>\n",
       "      <td>2</td>\n",
       "      <td>1</td>\n",
       "      <td>2</td>\n",
       "    </tr>\n",
       "  </tbody>\n",
       "</table>\n",
       "</div>"
      ],
      "text/plain": [
       "         Generation               Category  % of Spending  \\\n",
       "0        Millenials            Restaurants          0.238   \n",
       "24       Millenials           General/Misc          0.177   \n",
       "4        Millenials              Groceries          0.217   \n",
       "20       Millenials  Elec/Hobbies/Clothing          0.185   \n",
       "16       Millenials     Furniture/Building          0.045   \n",
       "8        Millenials               Gasoline          0.108   \n",
       "12       Millenials             Pharmacies          0.030   \n",
       "25     Generation X           General/Misc          0.203   \n",
       "21     Generation X  Elec/Hobbies/Clothing          0.168   \n",
       "17     Generation X     Furniture/Building          0.073   \n",
       "13     Generation X             Pharmacies          0.029   \n",
       "9      Generation X               Gasoline          0.097   \n",
       "1      Generation X            Restaurants          0.177   \n",
       "5      Generation X              Groceries          0.253   \n",
       "26     Baby Boomers           General/Misc          0.223   \n",
       "14     Baby Boomers             Pharmacies          0.037   \n",
       "2      Baby Boomers            Restaurants          0.135   \n",
       "6      Baby Boomers              Groceries          0.272   \n",
       "18     Baby Boomers     Furniture/Building          0.100   \n",
       "10     Baby Boomers               Gasoline          0.085   \n",
       "22     Baby Boomers  Elec/Hobbies/Clothing          0.147   \n",
       "11  Traditionalists               Gasoline          0.067   \n",
       "23  Traditionalists  Elec/Hobbies/Clothing          0.118   \n",
       "19  Traditionalists     Furniture/Building          0.094   \n",
       "7   Traditionalists              Groceries          0.304   \n",
       "15  Traditionalists             Pharmacies          0.064   \n",
       "3   Traditionalists            Restaurants          0.128   \n",
       "27  Traditionalists           General/Misc          0.225   \n",
       "\n",
       "    Cat Mean % of Spending  Category Rank  row  col  \n",
       "0                  0.16950              3    1    3  \n",
       "24                 0.20700              2    1    2  \n",
       "4                  0.26150              1    1    1  \n",
       "20                 0.15450              4    2    1  \n",
       "16                 0.07800              6    2    3  \n",
       "8                  0.08925              5    2    2  \n",
       "12                 0.04000              7    3    1  \n",
       "25                 0.20700              2    1    2  \n",
       "21                 0.15450              4    2    1  \n",
       "17                 0.07800              6    2    3  \n",
       "13                 0.04000              7    3    1  \n",
       "9                  0.08925              5    2    2  \n",
       "1                  0.16950              3    1    3  \n",
       "5                  0.26150              1    1    1  \n",
       "26                 0.20700              2    1    2  \n",
       "14                 0.04000              7    3    1  \n",
       "2                  0.16950              3    1    3  \n",
       "6                  0.26150              1    1    1  \n",
       "18                 0.07800              6    2    3  \n",
       "10                 0.08925              5    2    2  \n",
       "22                 0.15450              4    2    1  \n",
       "11                 0.08925              5    2    2  \n",
       "23                 0.15450              4    2    1  \n",
       "19                 0.07800              6    2    3  \n",
       "7                  0.26150              1    1    1  \n",
       "15                 0.04000              7    3    1  \n",
       "3                  0.16950              3    1    3  \n",
       "27                 0.20700              2    1    2  "
      ]
     },
     "execution_count": 103,
     "metadata": {},
     "output_type": "execute_result"
    }
   ],
   "source": [
    "# Assign a default order to Generation values by using the Categorical type\n",
    "df_data['Generation'] = pd.Categorical(df_data['Generation'], \\\n",
    "    [\"Millenials\", \"Generation X\", \"Baby Boomers\", \"Traditionalists\"])\n",
    "df_data.sort_values('Generation')"
   ]
  },
  {
   "cell_type": "code",
   "execution_count": 92,
   "metadata": {},
   "outputs": [
    {
     "data": {
      "application/vnd.plotly.v1+json": {
       "config": {
        "linkText": "Export to plot.ly",
        "plotlyServerURL": "https://plot.ly",
        "showLink": false
       },
       "data": [
        {
         "alignmentgroup": "True",
         "hovertemplate": "Category=Elec/Hobbies/Clothing<br>Generation=Baby Boomers<br>Generation=%{x}<br>% of Spending=%{y}<extra></extra>",
         "legendgroup": "Generation=Baby Boomers",
         "marker": {
          "color": "#636efa"
         },
         "name": "Generation=Baby Boomers",
         "offsetgroup": "Generation=Baby Boomers",
         "orientation": "v",
         "showlegend": true,
         "textposition": "auto",
         "type": "bar",
         "uid": "b27a460c-4864-4db1-9083-40e392f4d029",
         "x": [
          "Baby Boomers"
         ],
         "xaxis": "x",
         "y": [
          0.147
         ],
         "yaxis": "y"
        },
        {
         "alignmentgroup": "True",
         "hovertemplate": "Category=Elec/Hobbies/Clothing<br>Generation=Generation X<br>Generation=%{x}<br>% of Spending=%{y}<extra></extra>",
         "legendgroup": "Generation=Generation X",
         "marker": {
          "color": "#EF553B"
         },
         "name": "Generation=Generation X",
         "offsetgroup": "Generation=Generation X",
         "orientation": "v",
         "showlegend": true,
         "textposition": "auto",
         "type": "bar",
         "uid": "d5fd6bfa-05ea-45e5-bfa2-02a420b06eb4",
         "x": [
          "Generation X"
         ],
         "xaxis": "x",
         "y": [
          0.168
         ],
         "yaxis": "y"
        },
        {
         "alignmentgroup": "True",
         "hovertemplate": "Category=Elec/Hobbies/Clothing<br>Generation=Millenials<br>Generation=%{x}<br>% of Spending=%{y}<extra></extra>",
         "legendgroup": "Generation=Millenials",
         "marker": {
          "color": "#00cc96"
         },
         "name": "Generation=Millenials",
         "offsetgroup": "Generation=Millenials",
         "orientation": "v",
         "showlegend": true,
         "textposition": "auto",
         "type": "bar",
         "uid": "f965b8ca-54d1-4727-bf7d-d19cdb42a567",
         "x": [
          "Millenials"
         ],
         "xaxis": "x",
         "y": [
          0.185
         ],
         "yaxis": "y"
        },
        {
         "alignmentgroup": "True",
         "hovertemplate": "Category=Elec/Hobbies/Clothing<br>Generation=Traditionalists<br>Generation=%{x}<br>% of Spending=%{y}<extra></extra>",
         "legendgroup": "Generation=Traditionalists",
         "marker": {
          "color": "#ab63fa"
         },
         "name": "Generation=Traditionalists",
         "offsetgroup": "Generation=Traditionalists",
         "orientation": "v",
         "showlegend": true,
         "textposition": "auto",
         "type": "bar",
         "uid": "2b1f640e-dc80-48e0-9f3c-4bbdf38140f2",
         "x": [
          "Traditionalists"
         ],
         "xaxis": "x",
         "y": [
          0.11800000000000001
         ],
         "yaxis": "y"
        },
        {
         "alignmentgroup": "True",
         "hovertemplate": "Category=Furniture/Building<br>Generation=Baby Boomers<br>Generation=%{x}<br>% of Spending=%{y}<extra></extra>",
         "legendgroup": "Generation=Baby Boomers",
         "marker": {
          "color": "#636efa"
         },
         "name": "Generation=Baby Boomers",
         "offsetgroup": "Generation=Baby Boomers",
         "orientation": "v",
         "showlegend": false,
         "textposition": "auto",
         "type": "bar",
         "uid": "147f0ae5-9a83-4be5-a71f-ca0bd75ad169",
         "x": [
          "Baby Boomers"
         ],
         "xaxis": "x2",
         "y": [
          0.1
         ],
         "yaxis": "y"
        },
        {
         "alignmentgroup": "True",
         "hovertemplate": "Category=Furniture/Building<br>Generation=Generation X<br>Generation=%{x}<br>% of Spending=%{y}<extra></extra>",
         "legendgroup": "Generation=Generation X",
         "marker": {
          "color": "#EF553B"
         },
         "name": "Generation=Generation X",
         "offsetgroup": "Generation=Generation X",
         "orientation": "v",
         "showlegend": false,
         "textposition": "auto",
         "type": "bar",
         "uid": "6bee4cb7-ec5d-429b-8621-f2fc95c9c797",
         "x": [
          "Generation X"
         ],
         "xaxis": "x2",
         "y": [
          0.073
         ],
         "yaxis": "y"
        },
        {
         "alignmentgroup": "True",
         "hovertemplate": "Category=Furniture/Building<br>Generation=Millenials<br>Generation=%{x}<br>% of Spending=%{y}<extra></extra>",
         "legendgroup": "Generation=Millenials",
         "marker": {
          "color": "#00cc96"
         },
         "name": "Generation=Millenials",
         "offsetgroup": "Generation=Millenials",
         "orientation": "v",
         "showlegend": false,
         "textposition": "auto",
         "type": "bar",
         "uid": "d4a2cccb-5aba-4706-9fad-b73a251e812f",
         "x": [
          "Millenials"
         ],
         "xaxis": "x2",
         "y": [
          0.045
         ],
         "yaxis": "y"
        },
        {
         "alignmentgroup": "True",
         "hovertemplate": "Category=Furniture/Building<br>Generation=Traditionalists<br>Generation=%{x}<br>% of Spending=%{y}<extra></extra>",
         "legendgroup": "Generation=Traditionalists",
         "marker": {
          "color": "#ab63fa"
         },
         "name": "Generation=Traditionalists",
         "offsetgroup": "Generation=Traditionalists",
         "orientation": "v",
         "showlegend": false,
         "textposition": "auto",
         "type": "bar",
         "uid": "6f16c3aa-fe63-4b80-a8b3-48cd4990240c",
         "x": [
          "Traditionalists"
         ],
         "xaxis": "x2",
         "y": [
          0.094
         ],
         "yaxis": "y"
        },
        {
         "alignmentgroup": "True",
         "hovertemplate": "Category=Gasoline<br>Generation=Baby Boomers<br>Generation=%{x}<br>% of Spending=%{y}<extra></extra>",
         "legendgroup": "Generation=Baby Boomers",
         "marker": {
          "color": "#636efa"
         },
         "name": "Generation=Baby Boomers",
         "offsetgroup": "Generation=Baby Boomers",
         "orientation": "v",
         "showlegend": false,
         "textposition": "auto",
         "type": "bar",
         "uid": "1422638b-5e0a-40e0-8a1a-40e21cc3805e",
         "x": [
          "Baby Boomers"
         ],
         "xaxis": "x3",
         "y": [
          0.085
         ],
         "yaxis": "y"
        },
        {
         "alignmentgroup": "True",
         "hovertemplate": "Category=Gasoline<br>Generation=Generation X<br>Generation=%{x}<br>% of Spending=%{y}<extra></extra>",
         "legendgroup": "Generation=Generation X",
         "marker": {
          "color": "#EF553B"
         },
         "name": "Generation=Generation X",
         "offsetgroup": "Generation=Generation X",
         "orientation": "v",
         "showlegend": false,
         "textposition": "auto",
         "type": "bar",
         "uid": "05472941-0f6b-4909-9090-8e408dfc9ae5",
         "x": [
          "Generation X"
         ],
         "xaxis": "x3",
         "y": [
          0.09699999999999999
         ],
         "yaxis": "y"
        },
        {
         "alignmentgroup": "True",
         "hovertemplate": "Category=Gasoline<br>Generation=Millenials<br>Generation=%{x}<br>% of Spending=%{y}<extra></extra>",
         "legendgroup": "Generation=Millenials",
         "marker": {
          "color": "#00cc96"
         },
         "name": "Generation=Millenials",
         "offsetgroup": "Generation=Millenials",
         "orientation": "v",
         "showlegend": false,
         "textposition": "auto",
         "type": "bar",
         "uid": "e645d1eb-01b4-45be-8e33-873910bb92d0",
         "x": [
          "Millenials"
         ],
         "xaxis": "x3",
         "y": [
          0.10800000000000001
         ],
         "yaxis": "y"
        },
        {
         "alignmentgroup": "True",
         "hovertemplate": "Category=Gasoline<br>Generation=Traditionalists<br>Generation=%{x}<br>% of Spending=%{y}<extra></extra>",
         "legendgroup": "Generation=Traditionalists",
         "marker": {
          "color": "#ab63fa"
         },
         "name": "Generation=Traditionalists",
         "offsetgroup": "Generation=Traditionalists",
         "orientation": "v",
         "showlegend": false,
         "textposition": "auto",
         "type": "bar",
         "uid": "85eb78ff-c260-449f-a648-5b8e7f387edd",
         "x": [
          "Traditionalists"
         ],
         "xaxis": "x3",
         "y": [
          0.067
         ],
         "yaxis": "y"
        },
        {
         "alignmentgroup": "True",
         "hovertemplate": "Category=General/Misc<br>Generation=Baby Boomers<br>Generation=%{x}<br>% of Spending=%{y}<extra></extra>",
         "legendgroup": "Generation=Baby Boomers",
         "marker": {
          "color": "#636efa"
         },
         "name": "Generation=Baby Boomers",
         "offsetgroup": "Generation=Baby Boomers",
         "orientation": "v",
         "showlegend": false,
         "textposition": "auto",
         "type": "bar",
         "uid": "2beb1e27-a50c-4dea-9b4b-ca1b453ff570",
         "x": [
          "Baby Boomers"
         ],
         "xaxis": "x4",
         "y": [
          0.223
         ],
         "yaxis": "y"
        },
        {
         "alignmentgroup": "True",
         "hovertemplate": "Category=General/Misc<br>Generation=Generation X<br>Generation=%{x}<br>% of Spending=%{y}<extra></extra>",
         "legendgroup": "Generation=Generation X",
         "marker": {
          "color": "#EF553B"
         },
         "name": "Generation=Generation X",
         "offsetgroup": "Generation=Generation X",
         "orientation": "v",
         "showlegend": false,
         "textposition": "auto",
         "type": "bar",
         "uid": "736ac35a-c6ae-44a4-a054-b319d0f16371",
         "x": [
          "Generation X"
         ],
         "xaxis": "x4",
         "y": [
          0.203
         ],
         "yaxis": "y"
        },
        {
         "alignmentgroup": "True",
         "hovertemplate": "Category=General/Misc<br>Generation=Millenials<br>Generation=%{x}<br>% of Spending=%{y}<extra></extra>",
         "legendgroup": "Generation=Millenials",
         "marker": {
          "color": "#00cc96"
         },
         "name": "Generation=Millenials",
         "offsetgroup": "Generation=Millenials",
         "orientation": "v",
         "showlegend": false,
         "textposition": "auto",
         "type": "bar",
         "uid": "ac8a4a50-00ee-4fc0-ad01-082d894fc895",
         "x": [
          "Millenials"
         ],
         "xaxis": "x4",
         "y": [
          0.177
         ],
         "yaxis": "y"
        },
        {
         "alignmentgroup": "True",
         "hovertemplate": "Category=General/Misc<br>Generation=Traditionalists<br>Generation=%{x}<br>% of Spending=%{y}<extra></extra>",
         "legendgroup": "Generation=Traditionalists",
         "marker": {
          "color": "#ab63fa"
         },
         "name": "Generation=Traditionalists",
         "offsetgroup": "Generation=Traditionalists",
         "orientation": "v",
         "showlegend": false,
         "textposition": "auto",
         "type": "bar",
         "uid": "0ff5c563-15f9-48b2-8dab-65a9d8b4e9b7",
         "x": [
          "Traditionalists"
         ],
         "xaxis": "x4",
         "y": [
          0.225
         ],
         "yaxis": "y"
        },
        {
         "alignmentgroup": "True",
         "hovertemplate": "Category=Groceries<br>Generation=Baby Boomers<br>Generation=%{x}<br>% of Spending=%{y}<extra></extra>",
         "legendgroup": "Generation=Baby Boomers",
         "marker": {
          "color": "#636efa"
         },
         "name": "Generation=Baby Boomers",
         "offsetgroup": "Generation=Baby Boomers",
         "orientation": "v",
         "showlegend": false,
         "textposition": "auto",
         "type": "bar",
         "uid": "cfeef0ef-ebcc-4f11-bc32-49de88109d28",
         "x": [
          "Baby Boomers"
         ],
         "xaxis": "x5",
         "y": [
          0.272
         ],
         "yaxis": "y"
        },
        {
         "alignmentgroup": "True",
         "hovertemplate": "Category=Groceries<br>Generation=Generation X<br>Generation=%{x}<br>% of Spending=%{y}<extra></extra>",
         "legendgroup": "Generation=Generation X",
         "marker": {
          "color": "#EF553B"
         },
         "name": "Generation=Generation X",
         "offsetgroup": "Generation=Generation X",
         "orientation": "v",
         "showlegend": false,
         "textposition": "auto",
         "type": "bar",
         "uid": "4df31a1d-a54f-45e2-b644-2041bbe3b779",
         "x": [
          "Generation X"
         ],
         "xaxis": "x5",
         "y": [
          0.253
         ],
         "yaxis": "y"
        },
        {
         "alignmentgroup": "True",
         "hovertemplate": "Category=Groceries<br>Generation=Millenials<br>Generation=%{x}<br>% of Spending=%{y}<extra></extra>",
         "legendgroup": "Generation=Millenials",
         "marker": {
          "color": "#00cc96"
         },
         "name": "Generation=Millenials",
         "offsetgroup": "Generation=Millenials",
         "orientation": "v",
         "showlegend": false,
         "textposition": "auto",
         "type": "bar",
         "uid": "4bb531dc-e241-4f32-9b93-ffbc6735ee18",
         "x": [
          "Millenials"
         ],
         "xaxis": "x5",
         "y": [
          0.217
         ],
         "yaxis": "y"
        },
        {
         "alignmentgroup": "True",
         "hovertemplate": "Category=Groceries<br>Generation=Traditionalists<br>Generation=%{x}<br>% of Spending=%{y}<extra></extra>",
         "legendgroup": "Generation=Traditionalists",
         "marker": {
          "color": "#ab63fa"
         },
         "name": "Generation=Traditionalists",
         "offsetgroup": "Generation=Traditionalists",
         "orientation": "v",
         "showlegend": false,
         "textposition": "auto",
         "type": "bar",
         "uid": "4b1dcc6d-9349-4d3a-ada3-cbdd869ccf48",
         "x": [
          "Traditionalists"
         ],
         "xaxis": "x5",
         "y": [
          0.304
         ],
         "yaxis": "y"
        },
        {
         "alignmentgroup": "True",
         "hovertemplate": "Category=Pharmacies<br>Generation=Baby Boomers<br>Generation=%{x}<br>% of Spending=%{y}<extra></extra>",
         "legendgroup": "Generation=Baby Boomers",
         "marker": {
          "color": "#636efa"
         },
         "name": "Generation=Baby Boomers",
         "offsetgroup": "Generation=Baby Boomers",
         "orientation": "v",
         "showlegend": false,
         "textposition": "auto",
         "type": "bar",
         "uid": "771575f3-4e41-4624-a575-2af8febe4cc6",
         "x": [
          "Baby Boomers"
         ],
         "xaxis": "x6",
         "y": [
          0.037000000000000005
         ],
         "yaxis": "y"
        },
        {
         "alignmentgroup": "True",
         "hovertemplate": "Category=Pharmacies<br>Generation=Generation X<br>Generation=%{x}<br>% of Spending=%{y}<extra></extra>",
         "legendgroup": "Generation=Generation X",
         "marker": {
          "color": "#EF553B"
         },
         "name": "Generation=Generation X",
         "offsetgroup": "Generation=Generation X",
         "orientation": "v",
         "showlegend": false,
         "textposition": "auto",
         "type": "bar",
         "uid": "f8e58fd6-743f-4352-bb1e-9b1cb751d155",
         "x": [
          "Generation X"
         ],
         "xaxis": "x6",
         "y": [
          0.028999999999999998
         ],
         "yaxis": "y"
        },
        {
         "alignmentgroup": "True",
         "hovertemplate": "Category=Pharmacies<br>Generation=Millenials<br>Generation=%{x}<br>% of Spending=%{y}<extra></extra>",
         "legendgroup": "Generation=Millenials",
         "marker": {
          "color": "#00cc96"
         },
         "name": "Generation=Millenials",
         "offsetgroup": "Generation=Millenials",
         "orientation": "v",
         "showlegend": false,
         "textposition": "auto",
         "type": "bar",
         "uid": "d4277688-bd44-4602-8b7d-a30ba786cd8b",
         "x": [
          "Millenials"
         ],
         "xaxis": "x6",
         "y": [
          0.03
         ],
         "yaxis": "y"
        },
        {
         "alignmentgroup": "True",
         "hovertemplate": "Category=Pharmacies<br>Generation=Traditionalists<br>Generation=%{x}<br>% of Spending=%{y}<extra></extra>",
         "legendgroup": "Generation=Traditionalists",
         "marker": {
          "color": "#ab63fa"
         },
         "name": "Generation=Traditionalists",
         "offsetgroup": "Generation=Traditionalists",
         "orientation": "v",
         "showlegend": false,
         "textposition": "auto",
         "type": "bar",
         "uid": "b6da913a-8847-4969-9421-ee6f980ef707",
         "x": [
          "Traditionalists"
         ],
         "xaxis": "x6",
         "y": [
          0.064
         ],
         "yaxis": "y"
        },
        {
         "alignmentgroup": "True",
         "hovertemplate": "Category=Restaurants<br>Generation=Baby Boomers<br>Generation=%{x}<br>% of Spending=%{y}<extra></extra>",
         "legendgroup": "Generation=Baby Boomers",
         "marker": {
          "color": "#636efa"
         },
         "name": "Generation=Baby Boomers",
         "offsetgroup": "Generation=Baby Boomers",
         "orientation": "v",
         "showlegend": false,
         "textposition": "auto",
         "type": "bar",
         "uid": "dff38407-f82a-4d6f-8fc1-59e22b3af7a4",
         "x": [
          "Baby Boomers"
         ],
         "xaxis": "x7",
         "y": [
          0.135
         ],
         "yaxis": "y"
        },
        {
         "alignmentgroup": "True",
         "hovertemplate": "Category=Restaurants<br>Generation=Generation X<br>Generation=%{x}<br>% of Spending=%{y}<extra></extra>",
         "legendgroup": "Generation=Generation X",
         "marker": {
          "color": "#EF553B"
         },
         "name": "Generation=Generation X",
         "offsetgroup": "Generation=Generation X",
         "orientation": "v",
         "showlegend": false,
         "textposition": "auto",
         "type": "bar",
         "uid": "cfc7620d-480f-4cdc-9fc6-0fbca4b9ad84",
         "x": [
          "Generation X"
         ],
         "xaxis": "x7",
         "y": [
          0.177
         ],
         "yaxis": "y"
        },
        {
         "alignmentgroup": "True",
         "hovertemplate": "Category=Restaurants<br>Generation=Millenials<br>Generation=%{x}<br>% of Spending=%{y}<extra></extra>",
         "legendgroup": "Generation=Millenials",
         "marker": {
          "color": "#00cc96"
         },
         "name": "Generation=Millenials",
         "offsetgroup": "Generation=Millenials",
         "orientation": "v",
         "showlegend": false,
         "textposition": "auto",
         "type": "bar",
         "uid": "05f48f53-7e70-4ae9-8a40-50f494016050",
         "x": [
          "Millenials"
         ],
         "xaxis": "x7",
         "y": [
          0.23800000000000002
         ],
         "yaxis": "y"
        },
        {
         "alignmentgroup": "True",
         "hovertemplate": "Category=Restaurants<br>Generation=Traditionalists<br>Generation=%{x}<br>% of Spending=%{y}<extra></extra>",
         "legendgroup": "Generation=Traditionalists",
         "marker": {
          "color": "#ab63fa"
         },
         "name": "Generation=Traditionalists",
         "offsetgroup": "Generation=Traditionalists",
         "orientation": "v",
         "showlegend": false,
         "textposition": "auto",
         "type": "bar",
         "uid": "68aaada3-6bf7-481b-a543-17e222aded41",
         "x": [
          "Traditionalists"
         ],
         "xaxis": "x7",
         "y": [
          0.128
         ],
         "yaxis": "y"
        }
       ],
       "layout": {
        "annotations": [
         {
          "showarrow": false,
          "text": "Category=Elec/Hobbies/Clothing",
          "textangle": 0,
          "x": 0.06521739130434782,
          "xanchor": "center",
          "xref": "paper",
          "y": 1.02,
          "yanchor": "middle",
          "yref": "paper"
         },
         {
          "showarrow": false,
          "text": "Category=Furniture/Building",
          "textangle": 0,
          "x": 0.21014492753623187,
          "xanchor": "center",
          "xref": "paper",
          "y": 1.02,
          "yanchor": "middle",
          "yref": "paper"
         },
         {
          "showarrow": false,
          "text": "Category=Gasoline",
          "textangle": 0,
          "x": 0.35507246376811596,
          "xanchor": "center",
          "xref": "paper",
          "y": 1.02,
          "yanchor": "middle",
          "yref": "paper"
         },
         {
          "showarrow": false,
          "text": "Category=General/Misc",
          "textangle": 0,
          "x": 0.5,
          "xanchor": "center",
          "xref": "paper",
          "y": 1.02,
          "yanchor": "middle",
          "yref": "paper"
         },
         {
          "showarrow": false,
          "text": "Category=Groceries",
          "textangle": 0,
          "x": 0.6449275362318841,
          "xanchor": "center",
          "xref": "paper",
          "y": 1.02,
          "yanchor": "middle",
          "yref": "paper"
         },
         {
          "showarrow": false,
          "text": "Category=Pharmacies",
          "textangle": 0,
          "x": 0.7898550724637682,
          "xanchor": "center",
          "xref": "paper",
          "y": 1.02,
          "yanchor": "middle",
          "yref": "paper"
         },
         {
          "showarrow": false,
          "text": "Category=Restaurants",
          "textangle": 0,
          "x": 0.9347826086956522,
          "xanchor": "center",
          "xref": "paper",
          "y": 1.02,
          "yanchor": "middle",
          "yref": "paper"
         }
        ],
        "barmode": "relative",
        "grid": {
         "xaxes": [
          "x",
          "x2",
          "x3",
          "x4",
          "x5",
          "x6",
          "x7"
         ],
         "xgap": 0.1,
         "xside": "bottom",
         "yaxes": [
          "y"
         ],
         "ygap": 0.1,
         "yside": "left"
        },
        "height": 600,
        "legend": {
         "tracegroupgap": 0
        },
        "template": {
         "data": {
          "bar": [
           {
            "marker": {
             "line": {
              "color": "#E5ECF6",
              "width": 0.5
             }
            },
            "type": "bar"
           }
          ],
          "barpolar": [
           {
            "marker": {
             "line": {
              "color": "#E5ECF6",
              "width": 0.5
             }
            },
            "type": "barpolar"
           }
          ],
          "carpet": [
           {
            "aaxis": {
             "endlinecolor": "#2a3f5f",
             "gridcolor": "white",
             "linecolor": "white",
             "minorgridcolor": "white",
             "startlinecolor": "#2a3f5f"
            },
            "baxis": {
             "endlinecolor": "#2a3f5f",
             "gridcolor": "white",
             "linecolor": "white",
             "minorgridcolor": "white",
             "startlinecolor": "#2a3f5f"
            },
            "type": "carpet"
           }
          ],
          "choropleth": [
           {
            "colorbar": {
             "outlinewidth": 0,
             "ticks": ""
            },
            "type": "choropleth"
           }
          ],
          "contour": [
           {
            "autocolorscale": true,
            "colorbar": {
             "outlinewidth": 0,
             "ticks": ""
            },
            "type": "contour"
           }
          ],
          "contourcarpet": [
           {
            "colorbar": {
             "outlinewidth": 0,
             "ticks": ""
            },
            "type": "contourcarpet"
           }
          ],
          "heatmap": [
           {
            "autocolorscale": true,
            "colorbar": {
             "outlinewidth": 0,
             "ticks": ""
            },
            "type": "heatmap"
           }
          ],
          "heatmapgl": [
           {
            "colorbar": {
             "outlinewidth": 0,
             "ticks": ""
            },
            "type": "heatmapgl"
           }
          ],
          "histogram": [
           {
            "marker": {
             "colorbar": {
              "outlinewidth": 0,
              "ticks": ""
             }
            },
            "type": "histogram"
           }
          ],
          "histogram2d": [
           {
            "autocolorscale": true,
            "colorbar": {
             "outlinewidth": 0,
             "ticks": ""
            },
            "type": "histogram2d"
           }
          ],
          "histogram2dcontour": [
           {
            "autocolorscale": true,
            "colorbar": {
             "outlinewidth": 0,
             "ticks": ""
            },
            "type": "histogram2dcontour"
           }
          ],
          "mesh3d": [
           {
            "colorbar": {
             "outlinewidth": 0,
             "ticks": ""
            },
            "type": "mesh3d"
           }
          ],
          "parcoords": [
           {
            "line": {
             "colorbar": {
              "outlinewidth": 0,
              "ticks": ""
             }
            },
            "type": "parcoords"
           }
          ],
          "scatter": [
           {
            "marker": {
             "colorbar": {
              "outlinewidth": 0,
              "ticks": ""
             }
            },
            "type": "scatter"
           }
          ],
          "scatter3d": [
           {
            "marker": {
             "colorbar": {
              "outlinewidth": 0,
              "ticks": ""
             }
            },
            "type": "scatter3d"
           }
          ],
          "scattercarpet": [
           {
            "marker": {
             "colorbar": {
              "outlinewidth": 0,
              "ticks": ""
             }
            },
            "type": "scattercarpet"
           }
          ],
          "scattergeo": [
           {
            "marker": {
             "colorbar": {
              "outlinewidth": 0,
              "ticks": ""
             }
            },
            "type": "scattergeo"
           }
          ],
          "scattergl": [
           {
            "marker": {
             "colorbar": {
              "outlinewidth": 0,
              "ticks": ""
             }
            },
            "type": "scattergl"
           }
          ],
          "scattermapbox": [
           {
            "marker": {
             "colorbar": {
              "outlinewidth": 0,
              "ticks": ""
             }
            },
            "type": "scattermapbox"
           }
          ],
          "scatterpolar": [
           {
            "marker": {
             "colorbar": {
              "outlinewidth": 0,
              "ticks": ""
             }
            },
            "type": "scatterpolar"
           }
          ],
          "scatterpolargl": [
           {
            "marker": {
             "colorbar": {
              "outlinewidth": 0,
              "ticks": ""
             }
            },
            "type": "scatterpolargl"
           }
          ],
          "scatterternary": [
           {
            "marker": {
             "colorbar": {
              "outlinewidth": 0,
              "ticks": ""
             }
            },
            "type": "scatterternary"
           }
          ],
          "surface": [
           {
            "colorbar": {
             "outlinewidth": 0,
             "ticks": ""
            },
            "type": "surface"
           }
          ],
          "table": [
           {
            "cells": {
             "fill": {
              "color": "#EBF0F8"
             },
             "line": {
              "color": "white"
             }
            },
            "header": {
             "fill": {
              "color": "#C8D4E3"
             },
             "line": {
              "color": "white"
             }
            },
            "type": "table"
           }
          ]
         },
         "layout": {
          "annotationdefaults": {
           "arrowcolor": "#506784",
           "arrowhead": 0,
           "arrowwidth": 1
          },
          "colorscale": {
           "diverging": [
            [
             0,
             "#8e0152"
            ],
            [
             0.1,
             "#c51b7d"
            ],
            [
             0.2,
             "#de77ae"
            ],
            [
             0.3,
             "#f1b6da"
            ],
            [
             0.4,
             "#fde0ef"
            ],
            [
             0.5,
             "#f7f7f7"
            ],
            [
             0.6,
             "#e6f5d0"
            ],
            [
             0.7,
             "#b8e186"
            ],
            [
             0.8,
             "#7fbc41"
            ],
            [
             0.9,
             "#4d9221"
            ],
            [
             1,
             "#276419"
            ]
           ],
           "sequential": [
            [
             0,
             "#0508b8"
            ],
            [
             0.0893854748603352,
             "#1910d8"
            ],
            [
             0.1787709497206704,
             "#3c19f0"
            ],
            [
             0.2681564245810056,
             "#6b1cfb"
            ],
            [
             0.3575418994413408,
             "#981cfd"
            ],
            [
             0.44692737430167595,
             "#bf1cfd"
            ],
            [
             0.5363128491620112,
             "#dd2bfd"
            ],
            [
             0.6256983240223464,
             "#f246fe"
            ],
            [
             0.7150837988826816,
             "#fc67fd"
            ],
            [
             0.8044692737430168,
             "#fe88fc"
            ],
            [
             0.8938547486033519,
             "#fea5fd"
            ],
            [
             0.9832402234636871,
             "#febefe"
            ],
            [
             1,
             "#fec3fe"
            ]
           ],
           "sequentialminus": [
            [
             0,
             "#0508b8"
            ],
            [
             0.0893854748603352,
             "#1910d8"
            ],
            [
             0.1787709497206704,
             "#3c19f0"
            ],
            [
             0.2681564245810056,
             "#6b1cfb"
            ],
            [
             0.3575418994413408,
             "#981cfd"
            ],
            [
             0.44692737430167595,
             "#bf1cfd"
            ],
            [
             0.5363128491620112,
             "#dd2bfd"
            ],
            [
             0.6256983240223464,
             "#f246fe"
            ],
            [
             0.7150837988826816,
             "#fc67fd"
            ],
            [
             0.8044692737430168,
             "#fe88fc"
            ],
            [
             0.8938547486033519,
             "#fea5fd"
            ],
            [
             0.9832402234636871,
             "#febefe"
            ],
            [
             1,
             "#fec3fe"
            ]
           ]
          },
          "colorway": [
           "#636efa",
           "#EF553B",
           "#00cc96",
           "#ab63fa",
           "#19d3f3",
           "#e763fa",
           "#FECB52",
           "#FFA15A",
           "#FF6692",
           "#B6E880"
          ],
          "font": {
           "color": "#2a3f5f"
          },
          "geo": {
           "bgcolor": "white",
           "lakecolor": "white",
           "landcolor": "#E5ECF6",
           "showlakes": true,
           "showland": true,
           "subunitcolor": "white"
          },
          "hovermode": "closest",
          "mapbox": {
           "style": "light"
          },
          "paper_bgcolor": "white",
          "plot_bgcolor": "#E5ECF6",
          "polar": {
           "angularaxis": {
            "gridcolor": "white",
            "linecolor": "white",
            "ticks": ""
           },
           "bgcolor": "#E5ECF6",
           "radialaxis": {
            "gridcolor": "white",
            "linecolor": "white",
            "ticks": ""
           }
          },
          "scene": {
           "xaxis": {
            "backgroundcolor": "#E5ECF6",
            "gridcolor": "white",
            "gridwidth": 2,
            "linecolor": "white",
            "showbackground": true,
            "ticks": "",
            "zerolinecolor": "white"
           },
           "yaxis": {
            "backgroundcolor": "#E5ECF6",
            "gridcolor": "white",
            "gridwidth": 2,
            "linecolor": "white",
            "showbackground": true,
            "ticks": "",
            "zerolinecolor": "white"
           },
           "zaxis": {
            "backgroundcolor": "#E5ECF6",
            "gridcolor": "white",
            "gridwidth": 2,
            "linecolor": "white",
            "showbackground": true,
            "ticks": "",
            "zerolinecolor": "white"
           }
          },
          "shapedefaults": {
           "fillcolor": "#506784",
           "line": {
            "width": 0
           },
           "opacity": 0.4
          },
          "ternary": {
           "aaxis": {
            "gridcolor": "white",
            "linecolor": "white",
            "ticks": ""
           },
           "baxis": {
            "gridcolor": "white",
            "linecolor": "white",
            "ticks": ""
           },
           "bgcolor": "#E5ECF6",
           "caxis": {
            "gridcolor": "white",
            "linecolor": "white",
            "ticks": ""
           }
          },
          "title": {
           "x": 0.05
          },
          "xaxis": {
           "automargin": true,
           "gridcolor": "white",
           "linecolor": "white",
           "ticks": "",
           "zerolinecolor": "white",
           "zerolinewidth": 2
          },
          "yaxis": {
           "automargin": true,
           "gridcolor": "white",
           "linecolor": "white",
           "ticks": "",
           "zerolinecolor": "white",
           "zerolinewidth": 2
          }
         }
        },
        "title": {
         "text": "Percent of Spending By Category and Generation"
        },
        "xaxis": {
         "categoryarray": [
          "Baby Boomers",
          "Generation X",
          "Millenials",
          "Traditionalists"
         ],
         "categoryorder": "array",
         "title": {
          "text": "Generation"
         }
        },
        "xaxis2": {
         "matches": "x",
         "title": {
          "text": "Generation"
         }
        },
        "xaxis3": {
         "matches": "x",
         "title": {
          "text": "Generation"
         }
        },
        "xaxis4": {
         "matches": "x",
         "title": {
          "text": "Generation"
         }
        },
        "xaxis5": {
         "matches": "x",
         "title": {
          "text": "Generation"
         }
        },
        "xaxis6": {
         "matches": "x",
         "title": {
          "text": "Generation"
         }
        },
        "xaxis7": {
         "matches": "x",
         "title": {
          "text": "Generation"
         }
        },
        "yaxis": {
         "title": {
          "text": "% of Spending"
         }
        }
       }
      },
      "text/html": [
       "<div id=\"95a0dbf0-2306-4424-8df0-7a3fb1101219\" style=\"height: 600px; width: 100%;\" class=\"plotly-graph-div\"></div><script type=\"text/javascript\">require([\"plotly\"], function(Plotly) { window.PLOTLYENV=window.PLOTLYENV || {};window.PLOTLYENV.BASE_URL=\"https://plot.ly\";\n",
       "if (document.getElementById(\"95a0dbf0-2306-4424-8df0-7a3fb1101219\")) {\n",
       "    Plotly.newPlot(\"95a0dbf0-2306-4424-8df0-7a3fb1101219\", [{\"alignmentgroup\": \"True\", \"hovertemplate\": \"Category=Elec/Hobbies/Clothing<br>Generation=Baby Boomers<br>Generation=%{x}<br>% of Spending=%{y}<extra></extra>\", \"legendgroup\": \"Generation=Baby Boomers\", \"marker\": {\"color\": \"#636efa\"}, \"name\": \"Generation=Baby Boomers\", \"offsetgroup\": \"Generation=Baby Boomers\", \"orientation\": \"v\", \"showlegend\": true, \"textposition\": \"auto\", \"x\": [\"Baby Boomers\"], \"xaxis\": \"x\", \"y\": [0.147], \"yaxis\": \"y\", \"type\": \"bar\", \"uid\": \"b27a460c-4864-4db1-9083-40e392f4d029\"}, {\"alignmentgroup\": \"True\", \"hovertemplate\": \"Category=Elec/Hobbies/Clothing<br>Generation=Generation X<br>Generation=%{x}<br>% of Spending=%{y}<extra></extra>\", \"legendgroup\": \"Generation=Generation X\", \"marker\": {\"color\": \"#EF553B\"}, \"name\": \"Generation=Generation X\", \"offsetgroup\": \"Generation=Generation X\", \"orientation\": \"v\", \"showlegend\": true, \"textposition\": \"auto\", \"x\": [\"Generation X\"], \"xaxis\": \"x\", \"y\": [0.168], \"yaxis\": \"y\", \"type\": \"bar\", \"uid\": \"d5fd6bfa-05ea-45e5-bfa2-02a420b06eb4\"}, {\"alignmentgroup\": \"True\", \"hovertemplate\": \"Category=Elec/Hobbies/Clothing<br>Generation=Millenials<br>Generation=%{x}<br>% of Spending=%{y}<extra></extra>\", \"legendgroup\": \"Generation=Millenials\", \"marker\": {\"color\": \"#00cc96\"}, \"name\": \"Generation=Millenials\", \"offsetgroup\": \"Generation=Millenials\", \"orientation\": \"v\", \"showlegend\": true, \"textposition\": \"auto\", \"x\": [\"Millenials\"], \"xaxis\": \"x\", \"y\": [0.185], \"yaxis\": \"y\", \"type\": \"bar\", \"uid\": \"f965b8ca-54d1-4727-bf7d-d19cdb42a567\"}, {\"alignmentgroup\": \"True\", \"hovertemplate\": \"Category=Elec/Hobbies/Clothing<br>Generation=Traditionalists<br>Generation=%{x}<br>% of Spending=%{y}<extra></extra>\", \"legendgroup\": \"Generation=Traditionalists\", \"marker\": {\"color\": \"#ab63fa\"}, \"name\": \"Generation=Traditionalists\", \"offsetgroup\": \"Generation=Traditionalists\", \"orientation\": \"v\", \"showlegend\": true, \"textposition\": \"auto\", \"x\": [\"Traditionalists\"], \"xaxis\": \"x\", \"y\": [0.11800000000000001], \"yaxis\": \"y\", \"type\": \"bar\", \"uid\": \"2b1f640e-dc80-48e0-9f3c-4bbdf38140f2\"}, {\"alignmentgroup\": \"True\", \"hovertemplate\": \"Category=Furniture/Building<br>Generation=Baby Boomers<br>Generation=%{x}<br>% of Spending=%{y}<extra></extra>\", \"legendgroup\": \"Generation=Baby Boomers\", \"marker\": {\"color\": \"#636efa\"}, \"name\": \"Generation=Baby Boomers\", \"offsetgroup\": \"Generation=Baby Boomers\", \"orientation\": \"v\", \"showlegend\": false, \"textposition\": \"auto\", \"x\": [\"Baby Boomers\"], \"xaxis\": \"x2\", \"y\": [0.1], \"yaxis\": \"y\", \"type\": \"bar\", \"uid\": \"147f0ae5-9a83-4be5-a71f-ca0bd75ad169\"}, {\"alignmentgroup\": \"True\", \"hovertemplate\": \"Category=Furniture/Building<br>Generation=Generation X<br>Generation=%{x}<br>% of Spending=%{y}<extra></extra>\", \"legendgroup\": \"Generation=Generation X\", \"marker\": {\"color\": \"#EF553B\"}, \"name\": \"Generation=Generation X\", \"offsetgroup\": \"Generation=Generation X\", \"orientation\": \"v\", \"showlegend\": false, \"textposition\": \"auto\", \"x\": [\"Generation X\"], \"xaxis\": \"x2\", \"y\": [0.073], \"yaxis\": \"y\", \"type\": \"bar\", \"uid\": \"6bee4cb7-ec5d-429b-8621-f2fc95c9c797\"}, {\"alignmentgroup\": \"True\", \"hovertemplate\": \"Category=Furniture/Building<br>Generation=Millenials<br>Generation=%{x}<br>% of Spending=%{y}<extra></extra>\", \"legendgroup\": \"Generation=Millenials\", \"marker\": {\"color\": \"#00cc96\"}, \"name\": \"Generation=Millenials\", \"offsetgroup\": \"Generation=Millenials\", \"orientation\": \"v\", \"showlegend\": false, \"textposition\": \"auto\", \"x\": [\"Millenials\"], \"xaxis\": \"x2\", \"y\": [0.045], \"yaxis\": \"y\", \"type\": \"bar\", \"uid\": \"d4a2cccb-5aba-4706-9fad-b73a251e812f\"}, {\"alignmentgroup\": \"True\", \"hovertemplate\": \"Category=Furniture/Building<br>Generation=Traditionalists<br>Generation=%{x}<br>% of Spending=%{y}<extra></extra>\", \"legendgroup\": \"Generation=Traditionalists\", \"marker\": {\"color\": \"#ab63fa\"}, \"name\": \"Generation=Traditionalists\", \"offsetgroup\": \"Generation=Traditionalists\", \"orientation\": \"v\", \"showlegend\": false, \"textposition\": \"auto\", \"x\": [\"Traditionalists\"], \"xaxis\": \"x2\", \"y\": [0.094], \"yaxis\": \"y\", \"type\": \"bar\", \"uid\": \"6f16c3aa-fe63-4b80-a8b3-48cd4990240c\"}, {\"alignmentgroup\": \"True\", \"hovertemplate\": \"Category=Gasoline<br>Generation=Baby Boomers<br>Generation=%{x}<br>% of Spending=%{y}<extra></extra>\", \"legendgroup\": \"Generation=Baby Boomers\", \"marker\": {\"color\": \"#636efa\"}, \"name\": \"Generation=Baby Boomers\", \"offsetgroup\": \"Generation=Baby Boomers\", \"orientation\": \"v\", \"showlegend\": false, \"textposition\": \"auto\", \"x\": [\"Baby Boomers\"], \"xaxis\": \"x3\", \"y\": [0.085], \"yaxis\": \"y\", \"type\": \"bar\", \"uid\": \"1422638b-5e0a-40e0-8a1a-40e21cc3805e\"}, {\"alignmentgroup\": \"True\", \"hovertemplate\": \"Category=Gasoline<br>Generation=Generation X<br>Generation=%{x}<br>% of Spending=%{y}<extra></extra>\", \"legendgroup\": \"Generation=Generation X\", \"marker\": {\"color\": \"#EF553B\"}, \"name\": \"Generation=Generation X\", \"offsetgroup\": \"Generation=Generation X\", \"orientation\": \"v\", \"showlegend\": false, \"textposition\": \"auto\", \"x\": [\"Generation X\"], \"xaxis\": \"x3\", \"y\": [0.09699999999999999], \"yaxis\": \"y\", \"type\": \"bar\", \"uid\": \"05472941-0f6b-4909-9090-8e408dfc9ae5\"}, {\"alignmentgroup\": \"True\", \"hovertemplate\": \"Category=Gasoline<br>Generation=Millenials<br>Generation=%{x}<br>% of Spending=%{y}<extra></extra>\", \"legendgroup\": \"Generation=Millenials\", \"marker\": {\"color\": \"#00cc96\"}, \"name\": \"Generation=Millenials\", \"offsetgroup\": \"Generation=Millenials\", \"orientation\": \"v\", \"showlegend\": false, \"textposition\": \"auto\", \"x\": [\"Millenials\"], \"xaxis\": \"x3\", \"y\": [0.10800000000000001], \"yaxis\": \"y\", \"type\": \"bar\", \"uid\": \"e645d1eb-01b4-45be-8e33-873910bb92d0\"}, {\"alignmentgroup\": \"True\", \"hovertemplate\": \"Category=Gasoline<br>Generation=Traditionalists<br>Generation=%{x}<br>% of Spending=%{y}<extra></extra>\", \"legendgroup\": \"Generation=Traditionalists\", \"marker\": {\"color\": \"#ab63fa\"}, \"name\": \"Generation=Traditionalists\", \"offsetgroup\": \"Generation=Traditionalists\", \"orientation\": \"v\", \"showlegend\": false, \"textposition\": \"auto\", \"x\": [\"Traditionalists\"], \"xaxis\": \"x3\", \"y\": [0.067], \"yaxis\": \"y\", \"type\": \"bar\", \"uid\": \"85eb78ff-c260-449f-a648-5b8e7f387edd\"}, {\"alignmentgroup\": \"True\", \"hovertemplate\": \"Category=General/Misc<br>Generation=Baby Boomers<br>Generation=%{x}<br>% of Spending=%{y}<extra></extra>\", \"legendgroup\": \"Generation=Baby Boomers\", \"marker\": {\"color\": \"#636efa\"}, \"name\": \"Generation=Baby Boomers\", \"offsetgroup\": \"Generation=Baby Boomers\", \"orientation\": \"v\", \"showlegend\": false, \"textposition\": \"auto\", \"x\": [\"Baby Boomers\"], \"xaxis\": \"x4\", \"y\": [0.223], \"yaxis\": \"y\", \"type\": \"bar\", \"uid\": \"2beb1e27-a50c-4dea-9b4b-ca1b453ff570\"}, {\"alignmentgroup\": \"True\", \"hovertemplate\": \"Category=General/Misc<br>Generation=Generation X<br>Generation=%{x}<br>% of Spending=%{y}<extra></extra>\", \"legendgroup\": \"Generation=Generation X\", \"marker\": {\"color\": \"#EF553B\"}, \"name\": \"Generation=Generation X\", \"offsetgroup\": \"Generation=Generation X\", \"orientation\": \"v\", \"showlegend\": false, \"textposition\": \"auto\", \"x\": [\"Generation X\"], \"xaxis\": \"x4\", \"y\": [0.203], \"yaxis\": \"y\", \"type\": \"bar\", \"uid\": \"736ac35a-c6ae-44a4-a054-b319d0f16371\"}, {\"alignmentgroup\": \"True\", \"hovertemplate\": \"Category=General/Misc<br>Generation=Millenials<br>Generation=%{x}<br>% of Spending=%{y}<extra></extra>\", \"legendgroup\": \"Generation=Millenials\", \"marker\": {\"color\": \"#00cc96\"}, \"name\": \"Generation=Millenials\", \"offsetgroup\": \"Generation=Millenials\", \"orientation\": \"v\", \"showlegend\": false, \"textposition\": \"auto\", \"x\": [\"Millenials\"], \"xaxis\": \"x4\", \"y\": [0.177], \"yaxis\": \"y\", \"type\": \"bar\", \"uid\": \"ac8a4a50-00ee-4fc0-ad01-082d894fc895\"}, {\"alignmentgroup\": \"True\", \"hovertemplate\": \"Category=General/Misc<br>Generation=Traditionalists<br>Generation=%{x}<br>% of Spending=%{y}<extra></extra>\", \"legendgroup\": \"Generation=Traditionalists\", \"marker\": {\"color\": \"#ab63fa\"}, \"name\": \"Generation=Traditionalists\", \"offsetgroup\": \"Generation=Traditionalists\", \"orientation\": \"v\", \"showlegend\": false, \"textposition\": \"auto\", \"x\": [\"Traditionalists\"], \"xaxis\": \"x4\", \"y\": [0.225], \"yaxis\": \"y\", \"type\": \"bar\", \"uid\": \"0ff5c563-15f9-48b2-8dab-65a9d8b4e9b7\"}, {\"alignmentgroup\": \"True\", \"hovertemplate\": \"Category=Groceries<br>Generation=Baby Boomers<br>Generation=%{x}<br>% of Spending=%{y}<extra></extra>\", \"legendgroup\": \"Generation=Baby Boomers\", \"marker\": {\"color\": \"#636efa\"}, \"name\": \"Generation=Baby Boomers\", \"offsetgroup\": \"Generation=Baby Boomers\", \"orientation\": \"v\", \"showlegend\": false, \"textposition\": \"auto\", \"x\": [\"Baby Boomers\"], \"xaxis\": \"x5\", \"y\": [0.272], \"yaxis\": \"y\", \"type\": \"bar\", \"uid\": \"cfeef0ef-ebcc-4f11-bc32-49de88109d28\"}, {\"alignmentgroup\": \"True\", \"hovertemplate\": \"Category=Groceries<br>Generation=Generation X<br>Generation=%{x}<br>% of Spending=%{y}<extra></extra>\", \"legendgroup\": \"Generation=Generation X\", \"marker\": {\"color\": \"#EF553B\"}, \"name\": \"Generation=Generation X\", \"offsetgroup\": \"Generation=Generation X\", \"orientation\": \"v\", \"showlegend\": false, \"textposition\": \"auto\", \"x\": [\"Generation X\"], \"xaxis\": \"x5\", \"y\": [0.253], \"yaxis\": \"y\", \"type\": \"bar\", \"uid\": \"4df31a1d-a54f-45e2-b644-2041bbe3b779\"}, {\"alignmentgroup\": \"True\", \"hovertemplate\": \"Category=Groceries<br>Generation=Millenials<br>Generation=%{x}<br>% of Spending=%{y}<extra></extra>\", \"legendgroup\": \"Generation=Millenials\", \"marker\": {\"color\": \"#00cc96\"}, \"name\": \"Generation=Millenials\", \"offsetgroup\": \"Generation=Millenials\", \"orientation\": \"v\", \"showlegend\": false, \"textposition\": \"auto\", \"x\": [\"Millenials\"], \"xaxis\": \"x5\", \"y\": [0.217], \"yaxis\": \"y\", \"type\": \"bar\", \"uid\": \"4bb531dc-e241-4f32-9b93-ffbc6735ee18\"}, {\"alignmentgroup\": \"True\", \"hovertemplate\": \"Category=Groceries<br>Generation=Traditionalists<br>Generation=%{x}<br>% of Spending=%{y}<extra></extra>\", \"legendgroup\": \"Generation=Traditionalists\", \"marker\": {\"color\": \"#ab63fa\"}, \"name\": \"Generation=Traditionalists\", \"offsetgroup\": \"Generation=Traditionalists\", \"orientation\": \"v\", \"showlegend\": false, \"textposition\": \"auto\", \"x\": [\"Traditionalists\"], \"xaxis\": \"x5\", \"y\": [0.304], \"yaxis\": \"y\", \"type\": \"bar\", \"uid\": \"4b1dcc6d-9349-4d3a-ada3-cbdd869ccf48\"}, {\"alignmentgroup\": \"True\", \"hovertemplate\": \"Category=Pharmacies<br>Generation=Baby Boomers<br>Generation=%{x}<br>% of Spending=%{y}<extra></extra>\", \"legendgroup\": \"Generation=Baby Boomers\", \"marker\": {\"color\": \"#636efa\"}, \"name\": \"Generation=Baby Boomers\", \"offsetgroup\": \"Generation=Baby Boomers\", \"orientation\": \"v\", \"showlegend\": false, \"textposition\": \"auto\", \"x\": [\"Baby Boomers\"], \"xaxis\": \"x6\", \"y\": [0.037000000000000005], \"yaxis\": \"y\", \"type\": \"bar\", \"uid\": \"771575f3-4e41-4624-a575-2af8febe4cc6\"}, {\"alignmentgroup\": \"True\", \"hovertemplate\": \"Category=Pharmacies<br>Generation=Generation X<br>Generation=%{x}<br>% of Spending=%{y}<extra></extra>\", \"legendgroup\": \"Generation=Generation X\", \"marker\": {\"color\": \"#EF553B\"}, \"name\": \"Generation=Generation X\", \"offsetgroup\": \"Generation=Generation X\", \"orientation\": \"v\", \"showlegend\": false, \"textposition\": \"auto\", \"x\": [\"Generation X\"], \"xaxis\": \"x6\", \"y\": [0.028999999999999998], \"yaxis\": \"y\", \"type\": \"bar\", \"uid\": \"f8e58fd6-743f-4352-bb1e-9b1cb751d155\"}, {\"alignmentgroup\": \"True\", \"hovertemplate\": \"Category=Pharmacies<br>Generation=Millenials<br>Generation=%{x}<br>% of Spending=%{y}<extra></extra>\", \"legendgroup\": \"Generation=Millenials\", \"marker\": {\"color\": \"#00cc96\"}, \"name\": \"Generation=Millenials\", \"offsetgroup\": \"Generation=Millenials\", \"orientation\": \"v\", \"showlegend\": false, \"textposition\": \"auto\", \"x\": [\"Millenials\"], \"xaxis\": \"x6\", \"y\": [0.03], \"yaxis\": \"y\", \"type\": \"bar\", \"uid\": \"d4277688-bd44-4602-8b7d-a30ba786cd8b\"}, {\"alignmentgroup\": \"True\", \"hovertemplate\": \"Category=Pharmacies<br>Generation=Traditionalists<br>Generation=%{x}<br>% of Spending=%{y}<extra></extra>\", \"legendgroup\": \"Generation=Traditionalists\", \"marker\": {\"color\": \"#ab63fa\"}, \"name\": \"Generation=Traditionalists\", \"offsetgroup\": \"Generation=Traditionalists\", \"orientation\": \"v\", \"showlegend\": false, \"textposition\": \"auto\", \"x\": [\"Traditionalists\"], \"xaxis\": \"x6\", \"y\": [0.064], \"yaxis\": \"y\", \"type\": \"bar\", \"uid\": \"b6da913a-8847-4969-9421-ee6f980ef707\"}, {\"alignmentgroup\": \"True\", \"hovertemplate\": \"Category=Restaurants<br>Generation=Baby Boomers<br>Generation=%{x}<br>% of Spending=%{y}<extra></extra>\", \"legendgroup\": \"Generation=Baby Boomers\", \"marker\": {\"color\": \"#636efa\"}, \"name\": \"Generation=Baby Boomers\", \"offsetgroup\": \"Generation=Baby Boomers\", \"orientation\": \"v\", \"showlegend\": false, \"textposition\": \"auto\", \"x\": [\"Baby Boomers\"], \"xaxis\": \"x7\", \"y\": [0.135], \"yaxis\": \"y\", \"type\": \"bar\", \"uid\": \"dff38407-f82a-4d6f-8fc1-59e22b3af7a4\"}, {\"alignmentgroup\": \"True\", \"hovertemplate\": \"Category=Restaurants<br>Generation=Generation X<br>Generation=%{x}<br>% of Spending=%{y}<extra></extra>\", \"legendgroup\": \"Generation=Generation X\", \"marker\": {\"color\": \"#EF553B\"}, \"name\": \"Generation=Generation X\", \"offsetgroup\": \"Generation=Generation X\", \"orientation\": \"v\", \"showlegend\": false, \"textposition\": \"auto\", \"x\": [\"Generation X\"], \"xaxis\": \"x7\", \"y\": [0.177], \"yaxis\": \"y\", \"type\": \"bar\", \"uid\": \"cfc7620d-480f-4cdc-9fc6-0fbca4b9ad84\"}, {\"alignmentgroup\": \"True\", \"hovertemplate\": \"Category=Restaurants<br>Generation=Millenials<br>Generation=%{x}<br>% of Spending=%{y}<extra></extra>\", \"legendgroup\": \"Generation=Millenials\", \"marker\": {\"color\": \"#00cc96\"}, \"name\": \"Generation=Millenials\", \"offsetgroup\": \"Generation=Millenials\", \"orientation\": \"v\", \"showlegend\": false, \"textposition\": \"auto\", \"x\": [\"Millenials\"], \"xaxis\": \"x7\", \"y\": [0.23800000000000002], \"yaxis\": \"y\", \"type\": \"bar\", \"uid\": \"05f48f53-7e70-4ae9-8a40-50f494016050\"}, {\"alignmentgroup\": \"True\", \"hovertemplate\": \"Category=Restaurants<br>Generation=Traditionalists<br>Generation=%{x}<br>% of Spending=%{y}<extra></extra>\", \"legendgroup\": \"Generation=Traditionalists\", \"marker\": {\"color\": \"#ab63fa\"}, \"name\": \"Generation=Traditionalists\", \"offsetgroup\": \"Generation=Traditionalists\", \"orientation\": \"v\", \"showlegend\": false, \"textposition\": \"auto\", \"x\": [\"Traditionalists\"], \"xaxis\": \"x7\", \"y\": [0.128], \"yaxis\": \"y\", \"type\": \"bar\", \"uid\": \"68aaada3-6bf7-481b-a543-17e222aded41\"}], {\"barmode\": \"relative\", \"height\": 600, \"legend\": {\"tracegroupgap\": 0}, \"template\": {\"data\": {\"barpolar\": [{\"marker\": {\"line\": {\"color\": \"#E5ECF6\", \"width\": 0.5}}, \"type\": \"barpolar\"}], \"bar\": [{\"marker\": {\"line\": {\"color\": \"#E5ECF6\", \"width\": 0.5}}, \"type\": \"bar\"}], \"carpet\": [{\"aaxis\": {\"endlinecolor\": \"#2a3f5f\", \"gridcolor\": \"white\", \"linecolor\": \"white\", \"minorgridcolor\": \"white\", \"startlinecolor\": \"#2a3f5f\"}, \"baxis\": {\"endlinecolor\": \"#2a3f5f\", \"gridcolor\": \"white\", \"linecolor\": \"white\", \"minorgridcolor\": \"white\", \"startlinecolor\": \"#2a3f5f\"}, \"type\": \"carpet\"}], \"choropleth\": [{\"colorbar\": {\"outlinewidth\": 0, \"ticks\": \"\"}, \"type\": \"choropleth\"}], \"contourcarpet\": [{\"colorbar\": {\"outlinewidth\": 0, \"ticks\": \"\"}, \"type\": \"contourcarpet\"}], \"contour\": [{\"autocolorscale\": true, \"colorbar\": {\"outlinewidth\": 0, \"ticks\": \"\"}, \"type\": \"contour\"}], \"heatmapgl\": [{\"colorbar\": {\"outlinewidth\": 0, \"ticks\": \"\"}, \"type\": \"heatmapgl\"}], \"heatmap\": [{\"autocolorscale\": true, \"colorbar\": {\"outlinewidth\": 0, \"ticks\": \"\"}, \"type\": \"heatmap\"}], \"histogram2dcontour\": [{\"autocolorscale\": true, \"colorbar\": {\"outlinewidth\": 0, \"ticks\": \"\"}, \"type\": \"histogram2dcontour\"}], \"histogram2d\": [{\"autocolorscale\": true, \"colorbar\": {\"outlinewidth\": 0, \"ticks\": \"\"}, \"type\": \"histogram2d\"}], \"histogram\": [{\"marker\": {\"colorbar\": {\"outlinewidth\": 0, \"ticks\": \"\"}}, \"type\": \"histogram\"}], \"mesh3d\": [{\"colorbar\": {\"outlinewidth\": 0, \"ticks\": \"\"}, \"type\": \"mesh3d\"}], \"parcoords\": [{\"line\": {\"colorbar\": {\"outlinewidth\": 0, \"ticks\": \"\"}}, \"type\": \"parcoords\"}], \"scatter3d\": [{\"marker\": {\"colorbar\": {\"outlinewidth\": 0, \"ticks\": \"\"}}, \"type\": \"scatter3d\"}], \"scattercarpet\": [{\"marker\": {\"colorbar\": {\"outlinewidth\": 0, \"ticks\": \"\"}}, \"type\": \"scattercarpet\"}], \"scattergeo\": [{\"marker\": {\"colorbar\": {\"outlinewidth\": 0, \"ticks\": \"\"}}, \"type\": \"scattergeo\"}], \"scattergl\": [{\"marker\": {\"colorbar\": {\"outlinewidth\": 0, \"ticks\": \"\"}}, \"type\": \"scattergl\"}], \"scattermapbox\": [{\"marker\": {\"colorbar\": {\"outlinewidth\": 0, \"ticks\": \"\"}}, \"type\": \"scattermapbox\"}], \"scatterpolargl\": [{\"marker\": {\"colorbar\": {\"outlinewidth\": 0, \"ticks\": \"\"}}, \"type\": \"scatterpolargl\"}], \"scatterpolar\": [{\"marker\": {\"colorbar\": {\"outlinewidth\": 0, \"ticks\": \"\"}}, \"type\": \"scatterpolar\"}], \"scatter\": [{\"marker\": {\"colorbar\": {\"outlinewidth\": 0, \"ticks\": \"\"}}, \"type\": \"scatter\"}], \"scatterternary\": [{\"marker\": {\"colorbar\": {\"outlinewidth\": 0, \"ticks\": \"\"}}, \"type\": \"scatterternary\"}], \"surface\": [{\"colorbar\": {\"outlinewidth\": 0, \"ticks\": \"\"}, \"type\": \"surface\"}], \"table\": [{\"cells\": {\"fill\": {\"color\": \"#EBF0F8\"}, \"line\": {\"color\": \"white\"}}, \"header\": {\"fill\": {\"color\": \"#C8D4E3\"}, \"line\": {\"color\": \"white\"}}, \"type\": \"table\"}]}, \"layout\": {\"annotationdefaults\": {\"arrowcolor\": \"#506784\", \"arrowhead\": 0, \"arrowwidth\": 1}, \"colorscale\": {\"diverging\": [[0, \"#8e0152\"], [0.1, \"#c51b7d\"], [0.2, \"#de77ae\"], [0.3, \"#f1b6da\"], [0.4, \"#fde0ef\"], [0.5, \"#f7f7f7\"], [0.6, \"#e6f5d0\"], [0.7, \"#b8e186\"], [0.8, \"#7fbc41\"], [0.9, \"#4d9221\"], [1, \"#276419\"]], \"sequential\": [[0.0, \"#0508b8\"], [0.0893854748603352, \"#1910d8\"], [0.1787709497206704, \"#3c19f0\"], [0.2681564245810056, \"#6b1cfb\"], [0.3575418994413408, \"#981cfd\"], [0.44692737430167595, \"#bf1cfd\"], [0.5363128491620112, \"#dd2bfd\"], [0.6256983240223464, \"#f246fe\"], [0.7150837988826816, \"#fc67fd\"], [0.8044692737430168, \"#fe88fc\"], [0.8938547486033519, \"#fea5fd\"], [0.9832402234636871, \"#febefe\"], [1.0, \"#fec3fe\"]], \"sequentialminus\": [[0.0, \"#0508b8\"], [0.0893854748603352, \"#1910d8\"], [0.1787709497206704, \"#3c19f0\"], [0.2681564245810056, \"#6b1cfb\"], [0.3575418994413408, \"#981cfd\"], [0.44692737430167595, \"#bf1cfd\"], [0.5363128491620112, \"#dd2bfd\"], [0.6256983240223464, \"#f246fe\"], [0.7150837988826816, \"#fc67fd\"], [0.8044692737430168, \"#fe88fc\"], [0.8938547486033519, \"#fea5fd\"], [0.9832402234636871, \"#febefe\"], [1.0, \"#fec3fe\"]]}, \"colorway\": [\"#636efa\", \"#EF553B\", \"#00cc96\", \"#ab63fa\", \"#19d3f3\", \"#e763fa\", \"#FECB52\", \"#FFA15A\", \"#FF6692\", \"#B6E880\"], \"font\": {\"color\": \"#2a3f5f\"}, \"geo\": {\"bgcolor\": \"white\", \"lakecolor\": \"white\", \"landcolor\": \"#E5ECF6\", \"showlakes\": true, \"showland\": true, \"subunitcolor\": \"white\"}, \"hovermode\": \"closest\", \"mapbox\": {\"style\": \"light\"}, \"paper_bgcolor\": \"white\", \"plot_bgcolor\": \"#E5ECF6\", \"polar\": {\"angularaxis\": {\"gridcolor\": \"white\", \"linecolor\": \"white\", \"ticks\": \"\"}, \"bgcolor\": \"#E5ECF6\", \"radialaxis\": {\"gridcolor\": \"white\", \"linecolor\": \"white\", \"ticks\": \"\"}}, \"scene\": {\"xaxis\": {\"backgroundcolor\": \"#E5ECF6\", \"gridcolor\": \"white\", \"gridwidth\": 2, \"linecolor\": \"white\", \"showbackground\": true, \"ticks\": \"\", \"zerolinecolor\": \"white\"}, \"yaxis\": {\"backgroundcolor\": \"#E5ECF6\", \"gridcolor\": \"white\", \"gridwidth\": 2, \"linecolor\": \"white\", \"showbackground\": true, \"ticks\": \"\", \"zerolinecolor\": \"white\"}, \"zaxis\": {\"backgroundcolor\": \"#E5ECF6\", \"gridcolor\": \"white\", \"gridwidth\": 2, \"linecolor\": \"white\", \"showbackground\": true, \"ticks\": \"\", \"zerolinecolor\": \"white\"}}, \"shapedefaults\": {\"fillcolor\": \"#506784\", \"line\": {\"width\": 0}, \"opacity\": 0.4}, \"ternary\": {\"aaxis\": {\"gridcolor\": \"white\", \"linecolor\": \"white\", \"ticks\": \"\"}, \"baxis\": {\"gridcolor\": \"white\", \"linecolor\": \"white\", \"ticks\": \"\"}, \"bgcolor\": \"#E5ECF6\", \"caxis\": {\"gridcolor\": \"white\", \"linecolor\": \"white\", \"ticks\": \"\"}}, \"title\": {\"x\": 0.05}, \"xaxis\": {\"automargin\": true, \"gridcolor\": \"white\", \"linecolor\": \"white\", \"ticks\": \"\", \"zerolinecolor\": \"white\", \"zerolinewidth\": 2}, \"yaxis\": {\"automargin\": true, \"gridcolor\": \"white\", \"linecolor\": \"white\", \"ticks\": \"\", \"zerolinecolor\": \"white\", \"zerolinewidth\": 2}}}, \"title\": {\"text\": \"Percent of Spending By Category and Generation\"}, \"grid\": {\"xaxes\": [\"x\", \"x2\", \"x3\", \"x4\", \"x5\", \"x6\", \"x7\"], \"yaxes\": [\"y\"], \"xgap\": 0.1, \"ygap\": 0.1, \"xside\": \"bottom\", \"yside\": \"left\"}, \"xaxis\": {\"title\": {\"text\": \"Generation\"}, \"categoryorder\": \"array\", \"categoryarray\": [\"Baby Boomers\", \"Generation X\", \"Millenials\", \"Traditionalists\"]}, \"xaxis2\": {\"title\": {\"text\": \"Generation\"}, \"matches\": \"x\"}, \"xaxis3\": {\"title\": {\"text\": \"Generation\"}, \"matches\": \"x\"}, \"xaxis4\": {\"title\": {\"text\": \"Generation\"}, \"matches\": \"x\"}, \"xaxis5\": {\"title\": {\"text\": \"Generation\"}, \"matches\": \"x\"}, \"xaxis6\": {\"title\": {\"text\": \"Generation\"}, \"matches\": \"x\"}, \"xaxis7\": {\"title\": {\"text\": \"Generation\"}, \"matches\": \"x\"}, \"annotations\": [{\"showarrow\": false, \"text\": \"Category=Elec/Hobbies/Clothing\", \"textangle\": 0, \"x\": 0.06521739130434782, \"xanchor\": \"center\", \"xref\": \"paper\", \"y\": 1.02, \"yanchor\": \"middle\", \"yref\": \"paper\"}, {\"showarrow\": false, \"text\": \"Category=Furniture/Building\", \"textangle\": 0, \"x\": 0.21014492753623187, \"xanchor\": \"center\", \"xref\": \"paper\", \"y\": 1.02, \"yanchor\": \"middle\", \"yref\": \"paper\"}, {\"showarrow\": false, \"text\": \"Category=Gasoline\", \"textangle\": 0, \"x\": 0.35507246376811596, \"xanchor\": \"center\", \"xref\": \"paper\", \"y\": 1.02, \"yanchor\": \"middle\", \"yref\": \"paper\"}, {\"showarrow\": false, \"text\": \"Category=General/Misc\", \"textangle\": 0, \"x\": 0.5, \"xanchor\": \"center\", \"xref\": \"paper\", \"y\": 1.02, \"yanchor\": \"middle\", \"yref\": \"paper\"}, {\"showarrow\": false, \"text\": \"Category=Groceries\", \"textangle\": 0, \"x\": 0.6449275362318841, \"xanchor\": \"center\", \"xref\": \"paper\", \"y\": 1.02, \"yanchor\": \"middle\", \"yref\": \"paper\"}, {\"showarrow\": false, \"text\": \"Category=Pharmacies\", \"textangle\": 0, \"x\": 0.7898550724637682, \"xanchor\": \"center\", \"xref\": \"paper\", \"y\": 1.02, \"yanchor\": \"middle\", \"yref\": \"paper\"}, {\"showarrow\": false, \"text\": \"Category=Restaurants\", \"textangle\": 0, \"x\": 0.9347826086956522, \"xanchor\": \"center\", \"xref\": \"paper\", \"y\": 1.02, \"yanchor\": \"middle\", \"yref\": \"paper\"}], \"yaxis\": {\"title\": {\"text\": \"% of Spending\"}}}, {\"showLink\": false, \"linkText\": \"Export to plot.ly\", \"plotlyServerURL\": \"https://plot.ly\"}); \n",
       "}\n",
       "});</script><script type=\"text/javascript\">window.addEventListener(\"resize\", function(){if (document.getElementById(\"95a0dbf0-2306-4424-8df0-7a3fb1101219\")) {window._Plotly.Plots.resize(document.getElementById(\"95a0dbf0-2306-4424-8df0-7a3fb1101219\"));};})</script>"
      ],
      "text/vnd.plotly.v1+html": [
       "<div id=\"95a0dbf0-2306-4424-8df0-7a3fb1101219\" style=\"height: 600px; width: 100%;\" class=\"plotly-graph-div\"></div><script type=\"text/javascript\">require([\"plotly\"], function(Plotly) { window.PLOTLYENV=window.PLOTLYENV || {};window.PLOTLYENV.BASE_URL=\"https://plot.ly\";\n",
       "if (document.getElementById(\"95a0dbf0-2306-4424-8df0-7a3fb1101219\")) {\n",
       "    Plotly.newPlot(\"95a0dbf0-2306-4424-8df0-7a3fb1101219\", [{\"alignmentgroup\": \"True\", \"hovertemplate\": \"Category=Elec/Hobbies/Clothing<br>Generation=Baby Boomers<br>Generation=%{x}<br>% of Spending=%{y}<extra></extra>\", \"legendgroup\": \"Generation=Baby Boomers\", \"marker\": {\"color\": \"#636efa\"}, \"name\": \"Generation=Baby Boomers\", \"offsetgroup\": \"Generation=Baby Boomers\", \"orientation\": \"v\", \"showlegend\": true, \"textposition\": \"auto\", \"x\": [\"Baby Boomers\"], \"xaxis\": \"x\", \"y\": [0.147], \"yaxis\": \"y\", \"type\": \"bar\", \"uid\": \"b27a460c-4864-4db1-9083-40e392f4d029\"}, {\"alignmentgroup\": \"True\", \"hovertemplate\": \"Category=Elec/Hobbies/Clothing<br>Generation=Generation X<br>Generation=%{x}<br>% of Spending=%{y}<extra></extra>\", \"legendgroup\": \"Generation=Generation X\", \"marker\": {\"color\": \"#EF553B\"}, \"name\": \"Generation=Generation X\", \"offsetgroup\": \"Generation=Generation X\", \"orientation\": \"v\", \"showlegend\": true, \"textposition\": \"auto\", \"x\": [\"Generation X\"], \"xaxis\": \"x\", \"y\": [0.168], \"yaxis\": \"y\", \"type\": \"bar\", \"uid\": \"d5fd6bfa-05ea-45e5-bfa2-02a420b06eb4\"}, {\"alignmentgroup\": \"True\", \"hovertemplate\": \"Category=Elec/Hobbies/Clothing<br>Generation=Millenials<br>Generation=%{x}<br>% of Spending=%{y}<extra></extra>\", \"legendgroup\": \"Generation=Millenials\", \"marker\": {\"color\": \"#00cc96\"}, \"name\": \"Generation=Millenials\", \"offsetgroup\": \"Generation=Millenials\", \"orientation\": \"v\", \"showlegend\": true, \"textposition\": \"auto\", \"x\": [\"Millenials\"], \"xaxis\": \"x\", \"y\": [0.185], \"yaxis\": \"y\", \"type\": \"bar\", \"uid\": \"f965b8ca-54d1-4727-bf7d-d19cdb42a567\"}, {\"alignmentgroup\": \"True\", \"hovertemplate\": \"Category=Elec/Hobbies/Clothing<br>Generation=Traditionalists<br>Generation=%{x}<br>% of Spending=%{y}<extra></extra>\", \"legendgroup\": \"Generation=Traditionalists\", \"marker\": {\"color\": \"#ab63fa\"}, \"name\": \"Generation=Traditionalists\", \"offsetgroup\": \"Generation=Traditionalists\", \"orientation\": \"v\", \"showlegend\": true, \"textposition\": \"auto\", \"x\": [\"Traditionalists\"], \"xaxis\": \"x\", \"y\": [0.11800000000000001], \"yaxis\": \"y\", \"type\": \"bar\", \"uid\": \"2b1f640e-dc80-48e0-9f3c-4bbdf38140f2\"}, {\"alignmentgroup\": \"True\", \"hovertemplate\": \"Category=Furniture/Building<br>Generation=Baby Boomers<br>Generation=%{x}<br>% of Spending=%{y}<extra></extra>\", \"legendgroup\": \"Generation=Baby Boomers\", \"marker\": {\"color\": \"#636efa\"}, \"name\": \"Generation=Baby Boomers\", \"offsetgroup\": \"Generation=Baby Boomers\", \"orientation\": \"v\", \"showlegend\": false, \"textposition\": \"auto\", \"x\": [\"Baby Boomers\"], \"xaxis\": \"x2\", \"y\": [0.1], \"yaxis\": \"y\", \"type\": \"bar\", \"uid\": \"147f0ae5-9a83-4be5-a71f-ca0bd75ad169\"}, {\"alignmentgroup\": \"True\", \"hovertemplate\": \"Category=Furniture/Building<br>Generation=Generation X<br>Generation=%{x}<br>% of Spending=%{y}<extra></extra>\", \"legendgroup\": \"Generation=Generation X\", \"marker\": {\"color\": \"#EF553B\"}, \"name\": \"Generation=Generation X\", \"offsetgroup\": \"Generation=Generation X\", \"orientation\": \"v\", \"showlegend\": false, \"textposition\": \"auto\", \"x\": [\"Generation X\"], \"xaxis\": \"x2\", \"y\": [0.073], \"yaxis\": \"y\", \"type\": \"bar\", \"uid\": \"6bee4cb7-ec5d-429b-8621-f2fc95c9c797\"}, {\"alignmentgroup\": \"True\", \"hovertemplate\": \"Category=Furniture/Building<br>Generation=Millenials<br>Generation=%{x}<br>% of Spending=%{y}<extra></extra>\", \"legendgroup\": \"Generation=Millenials\", \"marker\": {\"color\": \"#00cc96\"}, \"name\": \"Generation=Millenials\", \"offsetgroup\": \"Generation=Millenials\", \"orientation\": \"v\", \"showlegend\": false, \"textposition\": \"auto\", \"x\": [\"Millenials\"], \"xaxis\": \"x2\", \"y\": [0.045], \"yaxis\": \"y\", \"type\": \"bar\", \"uid\": \"d4a2cccb-5aba-4706-9fad-b73a251e812f\"}, {\"alignmentgroup\": \"True\", \"hovertemplate\": \"Category=Furniture/Building<br>Generation=Traditionalists<br>Generation=%{x}<br>% of Spending=%{y}<extra></extra>\", \"legendgroup\": \"Generation=Traditionalists\", \"marker\": {\"color\": \"#ab63fa\"}, \"name\": \"Generation=Traditionalists\", \"offsetgroup\": \"Generation=Traditionalists\", \"orientation\": \"v\", \"showlegend\": false, \"textposition\": \"auto\", \"x\": [\"Traditionalists\"], \"xaxis\": \"x2\", \"y\": [0.094], \"yaxis\": \"y\", \"type\": \"bar\", \"uid\": \"6f16c3aa-fe63-4b80-a8b3-48cd4990240c\"}, {\"alignmentgroup\": \"True\", \"hovertemplate\": \"Category=Gasoline<br>Generation=Baby Boomers<br>Generation=%{x}<br>% of Spending=%{y}<extra></extra>\", \"legendgroup\": \"Generation=Baby Boomers\", \"marker\": {\"color\": \"#636efa\"}, \"name\": \"Generation=Baby Boomers\", \"offsetgroup\": \"Generation=Baby Boomers\", \"orientation\": \"v\", \"showlegend\": false, \"textposition\": \"auto\", \"x\": [\"Baby Boomers\"], \"xaxis\": \"x3\", \"y\": [0.085], \"yaxis\": \"y\", \"type\": \"bar\", \"uid\": \"1422638b-5e0a-40e0-8a1a-40e21cc3805e\"}, {\"alignmentgroup\": \"True\", \"hovertemplate\": \"Category=Gasoline<br>Generation=Generation X<br>Generation=%{x}<br>% of Spending=%{y}<extra></extra>\", \"legendgroup\": \"Generation=Generation X\", \"marker\": {\"color\": \"#EF553B\"}, \"name\": \"Generation=Generation X\", \"offsetgroup\": \"Generation=Generation X\", \"orientation\": \"v\", \"showlegend\": false, \"textposition\": \"auto\", \"x\": [\"Generation X\"], \"xaxis\": \"x3\", \"y\": [0.09699999999999999], \"yaxis\": \"y\", \"type\": \"bar\", \"uid\": \"05472941-0f6b-4909-9090-8e408dfc9ae5\"}, {\"alignmentgroup\": \"True\", \"hovertemplate\": \"Category=Gasoline<br>Generation=Millenials<br>Generation=%{x}<br>% of Spending=%{y}<extra></extra>\", \"legendgroup\": \"Generation=Millenials\", \"marker\": {\"color\": \"#00cc96\"}, \"name\": \"Generation=Millenials\", \"offsetgroup\": \"Generation=Millenials\", \"orientation\": \"v\", \"showlegend\": false, \"textposition\": \"auto\", \"x\": [\"Millenials\"], \"xaxis\": \"x3\", \"y\": [0.10800000000000001], \"yaxis\": \"y\", \"type\": \"bar\", \"uid\": \"e645d1eb-01b4-45be-8e33-873910bb92d0\"}, {\"alignmentgroup\": \"True\", \"hovertemplate\": \"Category=Gasoline<br>Generation=Traditionalists<br>Generation=%{x}<br>% of Spending=%{y}<extra></extra>\", \"legendgroup\": \"Generation=Traditionalists\", \"marker\": {\"color\": \"#ab63fa\"}, \"name\": \"Generation=Traditionalists\", \"offsetgroup\": \"Generation=Traditionalists\", \"orientation\": \"v\", \"showlegend\": false, \"textposition\": \"auto\", \"x\": [\"Traditionalists\"], \"xaxis\": \"x3\", \"y\": [0.067], \"yaxis\": \"y\", \"type\": \"bar\", \"uid\": \"85eb78ff-c260-449f-a648-5b8e7f387edd\"}, {\"alignmentgroup\": \"True\", \"hovertemplate\": \"Category=General/Misc<br>Generation=Baby Boomers<br>Generation=%{x}<br>% of Spending=%{y}<extra></extra>\", \"legendgroup\": \"Generation=Baby Boomers\", \"marker\": {\"color\": \"#636efa\"}, \"name\": \"Generation=Baby Boomers\", \"offsetgroup\": \"Generation=Baby Boomers\", \"orientation\": \"v\", \"showlegend\": false, \"textposition\": \"auto\", \"x\": [\"Baby Boomers\"], \"xaxis\": \"x4\", \"y\": [0.223], \"yaxis\": \"y\", \"type\": \"bar\", \"uid\": \"2beb1e27-a50c-4dea-9b4b-ca1b453ff570\"}, {\"alignmentgroup\": \"True\", \"hovertemplate\": \"Category=General/Misc<br>Generation=Generation X<br>Generation=%{x}<br>% of Spending=%{y}<extra></extra>\", \"legendgroup\": \"Generation=Generation X\", \"marker\": {\"color\": \"#EF553B\"}, \"name\": \"Generation=Generation X\", \"offsetgroup\": \"Generation=Generation X\", \"orientation\": \"v\", \"showlegend\": false, \"textposition\": \"auto\", \"x\": [\"Generation X\"], \"xaxis\": \"x4\", \"y\": [0.203], \"yaxis\": \"y\", \"type\": \"bar\", \"uid\": \"736ac35a-c6ae-44a4-a054-b319d0f16371\"}, {\"alignmentgroup\": \"True\", \"hovertemplate\": \"Category=General/Misc<br>Generation=Millenials<br>Generation=%{x}<br>% of Spending=%{y}<extra></extra>\", \"legendgroup\": \"Generation=Millenials\", \"marker\": {\"color\": \"#00cc96\"}, \"name\": \"Generation=Millenials\", \"offsetgroup\": \"Generation=Millenials\", \"orientation\": \"v\", \"showlegend\": false, \"textposition\": \"auto\", \"x\": [\"Millenials\"], \"xaxis\": \"x4\", \"y\": [0.177], \"yaxis\": \"y\", \"type\": \"bar\", \"uid\": \"ac8a4a50-00ee-4fc0-ad01-082d894fc895\"}, {\"alignmentgroup\": \"True\", \"hovertemplate\": \"Category=General/Misc<br>Generation=Traditionalists<br>Generation=%{x}<br>% of Spending=%{y}<extra></extra>\", \"legendgroup\": \"Generation=Traditionalists\", \"marker\": {\"color\": \"#ab63fa\"}, \"name\": \"Generation=Traditionalists\", \"offsetgroup\": \"Generation=Traditionalists\", \"orientation\": \"v\", \"showlegend\": false, \"textposition\": \"auto\", \"x\": [\"Traditionalists\"], \"xaxis\": \"x4\", \"y\": [0.225], \"yaxis\": \"y\", \"type\": \"bar\", \"uid\": \"0ff5c563-15f9-48b2-8dab-65a9d8b4e9b7\"}, {\"alignmentgroup\": \"True\", \"hovertemplate\": \"Category=Groceries<br>Generation=Baby Boomers<br>Generation=%{x}<br>% of Spending=%{y}<extra></extra>\", \"legendgroup\": \"Generation=Baby Boomers\", \"marker\": {\"color\": \"#636efa\"}, \"name\": \"Generation=Baby Boomers\", \"offsetgroup\": \"Generation=Baby Boomers\", \"orientation\": \"v\", \"showlegend\": false, \"textposition\": \"auto\", \"x\": [\"Baby Boomers\"], \"xaxis\": \"x5\", \"y\": [0.272], \"yaxis\": \"y\", \"type\": \"bar\", \"uid\": \"cfeef0ef-ebcc-4f11-bc32-49de88109d28\"}, {\"alignmentgroup\": \"True\", \"hovertemplate\": \"Category=Groceries<br>Generation=Generation X<br>Generation=%{x}<br>% of Spending=%{y}<extra></extra>\", \"legendgroup\": \"Generation=Generation X\", \"marker\": {\"color\": \"#EF553B\"}, \"name\": \"Generation=Generation X\", \"offsetgroup\": \"Generation=Generation X\", \"orientation\": \"v\", \"showlegend\": false, \"textposition\": \"auto\", \"x\": [\"Generation X\"], \"xaxis\": \"x5\", \"y\": [0.253], \"yaxis\": \"y\", \"type\": \"bar\", \"uid\": \"4df31a1d-a54f-45e2-b644-2041bbe3b779\"}, {\"alignmentgroup\": \"True\", \"hovertemplate\": \"Category=Groceries<br>Generation=Millenials<br>Generation=%{x}<br>% of Spending=%{y}<extra></extra>\", \"legendgroup\": \"Generation=Millenials\", \"marker\": {\"color\": \"#00cc96\"}, \"name\": \"Generation=Millenials\", \"offsetgroup\": \"Generation=Millenials\", \"orientation\": \"v\", \"showlegend\": false, \"textposition\": \"auto\", \"x\": [\"Millenials\"], \"xaxis\": \"x5\", \"y\": [0.217], \"yaxis\": \"y\", \"type\": \"bar\", \"uid\": \"4bb531dc-e241-4f32-9b93-ffbc6735ee18\"}, {\"alignmentgroup\": \"True\", \"hovertemplate\": \"Category=Groceries<br>Generation=Traditionalists<br>Generation=%{x}<br>% of Spending=%{y}<extra></extra>\", \"legendgroup\": \"Generation=Traditionalists\", \"marker\": {\"color\": \"#ab63fa\"}, \"name\": \"Generation=Traditionalists\", \"offsetgroup\": \"Generation=Traditionalists\", \"orientation\": \"v\", \"showlegend\": false, \"textposition\": \"auto\", \"x\": [\"Traditionalists\"], \"xaxis\": \"x5\", \"y\": [0.304], \"yaxis\": \"y\", \"type\": \"bar\", \"uid\": \"4b1dcc6d-9349-4d3a-ada3-cbdd869ccf48\"}, {\"alignmentgroup\": \"True\", \"hovertemplate\": \"Category=Pharmacies<br>Generation=Baby Boomers<br>Generation=%{x}<br>% of Spending=%{y}<extra></extra>\", \"legendgroup\": \"Generation=Baby Boomers\", \"marker\": {\"color\": \"#636efa\"}, \"name\": \"Generation=Baby Boomers\", \"offsetgroup\": \"Generation=Baby Boomers\", \"orientation\": \"v\", \"showlegend\": false, \"textposition\": \"auto\", \"x\": [\"Baby Boomers\"], \"xaxis\": \"x6\", \"y\": [0.037000000000000005], \"yaxis\": \"y\", \"type\": \"bar\", \"uid\": \"771575f3-4e41-4624-a575-2af8febe4cc6\"}, {\"alignmentgroup\": \"True\", \"hovertemplate\": \"Category=Pharmacies<br>Generation=Generation X<br>Generation=%{x}<br>% of Spending=%{y}<extra></extra>\", \"legendgroup\": \"Generation=Generation X\", \"marker\": {\"color\": \"#EF553B\"}, \"name\": \"Generation=Generation X\", \"offsetgroup\": \"Generation=Generation X\", \"orientation\": \"v\", \"showlegend\": false, \"textposition\": \"auto\", \"x\": [\"Generation X\"], \"xaxis\": \"x6\", \"y\": [0.028999999999999998], \"yaxis\": \"y\", \"type\": \"bar\", \"uid\": \"f8e58fd6-743f-4352-bb1e-9b1cb751d155\"}, {\"alignmentgroup\": \"True\", \"hovertemplate\": \"Category=Pharmacies<br>Generation=Millenials<br>Generation=%{x}<br>% of Spending=%{y}<extra></extra>\", \"legendgroup\": \"Generation=Millenials\", \"marker\": {\"color\": \"#00cc96\"}, \"name\": \"Generation=Millenials\", \"offsetgroup\": \"Generation=Millenials\", \"orientation\": \"v\", \"showlegend\": false, \"textposition\": \"auto\", \"x\": [\"Millenials\"], \"xaxis\": \"x6\", \"y\": [0.03], \"yaxis\": \"y\", \"type\": \"bar\", \"uid\": \"d4277688-bd44-4602-8b7d-a30ba786cd8b\"}, {\"alignmentgroup\": \"True\", \"hovertemplate\": \"Category=Pharmacies<br>Generation=Traditionalists<br>Generation=%{x}<br>% of Spending=%{y}<extra></extra>\", \"legendgroup\": \"Generation=Traditionalists\", \"marker\": {\"color\": \"#ab63fa\"}, \"name\": \"Generation=Traditionalists\", \"offsetgroup\": \"Generation=Traditionalists\", \"orientation\": \"v\", \"showlegend\": false, \"textposition\": \"auto\", \"x\": [\"Traditionalists\"], \"xaxis\": \"x6\", \"y\": [0.064], \"yaxis\": \"y\", \"type\": \"bar\", \"uid\": \"b6da913a-8847-4969-9421-ee6f980ef707\"}, {\"alignmentgroup\": \"True\", \"hovertemplate\": \"Category=Restaurants<br>Generation=Baby Boomers<br>Generation=%{x}<br>% of Spending=%{y}<extra></extra>\", \"legendgroup\": \"Generation=Baby Boomers\", \"marker\": {\"color\": \"#636efa\"}, \"name\": \"Generation=Baby Boomers\", \"offsetgroup\": \"Generation=Baby Boomers\", \"orientation\": \"v\", \"showlegend\": false, \"textposition\": \"auto\", \"x\": [\"Baby Boomers\"], \"xaxis\": \"x7\", \"y\": [0.135], \"yaxis\": \"y\", \"type\": \"bar\", \"uid\": \"dff38407-f82a-4d6f-8fc1-59e22b3af7a4\"}, {\"alignmentgroup\": \"True\", \"hovertemplate\": \"Category=Restaurants<br>Generation=Generation X<br>Generation=%{x}<br>% of Spending=%{y}<extra></extra>\", \"legendgroup\": \"Generation=Generation X\", \"marker\": {\"color\": \"#EF553B\"}, \"name\": \"Generation=Generation X\", \"offsetgroup\": \"Generation=Generation X\", \"orientation\": \"v\", \"showlegend\": false, \"textposition\": \"auto\", \"x\": [\"Generation X\"], \"xaxis\": \"x7\", \"y\": [0.177], \"yaxis\": \"y\", \"type\": \"bar\", \"uid\": \"cfc7620d-480f-4cdc-9fc6-0fbca4b9ad84\"}, {\"alignmentgroup\": \"True\", \"hovertemplate\": \"Category=Restaurants<br>Generation=Millenials<br>Generation=%{x}<br>% of Spending=%{y}<extra></extra>\", \"legendgroup\": \"Generation=Millenials\", \"marker\": {\"color\": \"#00cc96\"}, \"name\": \"Generation=Millenials\", \"offsetgroup\": \"Generation=Millenials\", \"orientation\": \"v\", \"showlegend\": false, \"textposition\": \"auto\", \"x\": [\"Millenials\"], \"xaxis\": \"x7\", \"y\": [0.23800000000000002], \"yaxis\": \"y\", \"type\": \"bar\", \"uid\": \"05f48f53-7e70-4ae9-8a40-50f494016050\"}, {\"alignmentgroup\": \"True\", \"hovertemplate\": \"Category=Restaurants<br>Generation=Traditionalists<br>Generation=%{x}<br>% of Spending=%{y}<extra></extra>\", \"legendgroup\": \"Generation=Traditionalists\", \"marker\": {\"color\": \"#ab63fa\"}, \"name\": \"Generation=Traditionalists\", \"offsetgroup\": \"Generation=Traditionalists\", \"orientation\": \"v\", \"showlegend\": false, \"textposition\": \"auto\", \"x\": [\"Traditionalists\"], \"xaxis\": \"x7\", \"y\": [0.128], \"yaxis\": \"y\", \"type\": \"bar\", \"uid\": \"68aaada3-6bf7-481b-a543-17e222aded41\"}], {\"barmode\": \"relative\", \"height\": 600, \"legend\": {\"tracegroupgap\": 0}, \"template\": {\"data\": {\"barpolar\": [{\"marker\": {\"line\": {\"color\": \"#E5ECF6\", \"width\": 0.5}}, \"type\": \"barpolar\"}], \"bar\": [{\"marker\": {\"line\": {\"color\": \"#E5ECF6\", \"width\": 0.5}}, \"type\": \"bar\"}], \"carpet\": [{\"aaxis\": {\"endlinecolor\": \"#2a3f5f\", \"gridcolor\": \"white\", \"linecolor\": \"white\", \"minorgridcolor\": \"white\", \"startlinecolor\": \"#2a3f5f\"}, \"baxis\": {\"endlinecolor\": \"#2a3f5f\", \"gridcolor\": \"white\", \"linecolor\": \"white\", \"minorgridcolor\": \"white\", \"startlinecolor\": \"#2a3f5f\"}, \"type\": \"carpet\"}], \"choropleth\": [{\"colorbar\": {\"outlinewidth\": 0, \"ticks\": \"\"}, \"type\": \"choropleth\"}], \"contourcarpet\": [{\"colorbar\": {\"outlinewidth\": 0, \"ticks\": \"\"}, \"type\": \"contourcarpet\"}], \"contour\": [{\"autocolorscale\": true, \"colorbar\": {\"outlinewidth\": 0, \"ticks\": \"\"}, \"type\": \"contour\"}], \"heatmapgl\": [{\"colorbar\": {\"outlinewidth\": 0, \"ticks\": \"\"}, \"type\": \"heatmapgl\"}], \"heatmap\": [{\"autocolorscale\": true, \"colorbar\": {\"outlinewidth\": 0, \"ticks\": \"\"}, \"type\": \"heatmap\"}], \"histogram2dcontour\": [{\"autocolorscale\": true, \"colorbar\": {\"outlinewidth\": 0, \"ticks\": \"\"}, \"type\": \"histogram2dcontour\"}], \"histogram2d\": [{\"autocolorscale\": true, \"colorbar\": {\"outlinewidth\": 0, \"ticks\": \"\"}, \"type\": \"histogram2d\"}], \"histogram\": [{\"marker\": {\"colorbar\": {\"outlinewidth\": 0, \"ticks\": \"\"}}, \"type\": \"histogram\"}], \"mesh3d\": [{\"colorbar\": {\"outlinewidth\": 0, \"ticks\": \"\"}, \"type\": \"mesh3d\"}], \"parcoords\": [{\"line\": {\"colorbar\": {\"outlinewidth\": 0, \"ticks\": \"\"}}, \"type\": \"parcoords\"}], \"scatter3d\": [{\"marker\": {\"colorbar\": {\"outlinewidth\": 0, \"ticks\": \"\"}}, \"type\": \"scatter3d\"}], \"scattercarpet\": [{\"marker\": {\"colorbar\": {\"outlinewidth\": 0, \"ticks\": \"\"}}, \"type\": \"scattercarpet\"}], \"scattergeo\": [{\"marker\": {\"colorbar\": {\"outlinewidth\": 0, \"ticks\": \"\"}}, \"type\": \"scattergeo\"}], \"scattergl\": [{\"marker\": {\"colorbar\": {\"outlinewidth\": 0, \"ticks\": \"\"}}, \"type\": \"scattergl\"}], \"scattermapbox\": [{\"marker\": {\"colorbar\": {\"outlinewidth\": 0, \"ticks\": \"\"}}, \"type\": \"scattermapbox\"}], \"scatterpolargl\": [{\"marker\": {\"colorbar\": {\"outlinewidth\": 0, \"ticks\": \"\"}}, \"type\": \"scatterpolargl\"}], \"scatterpolar\": [{\"marker\": {\"colorbar\": {\"outlinewidth\": 0, \"ticks\": \"\"}}, \"type\": \"scatterpolar\"}], \"scatter\": [{\"marker\": {\"colorbar\": {\"outlinewidth\": 0, \"ticks\": \"\"}}, \"type\": \"scatter\"}], \"scatterternary\": [{\"marker\": {\"colorbar\": {\"outlinewidth\": 0, \"ticks\": \"\"}}, \"type\": \"scatterternary\"}], \"surface\": [{\"colorbar\": {\"outlinewidth\": 0, \"ticks\": \"\"}, \"type\": \"surface\"}], \"table\": [{\"cells\": {\"fill\": {\"color\": \"#EBF0F8\"}, \"line\": {\"color\": \"white\"}}, \"header\": {\"fill\": {\"color\": \"#C8D4E3\"}, \"line\": {\"color\": \"white\"}}, \"type\": \"table\"}]}, \"layout\": {\"annotationdefaults\": {\"arrowcolor\": \"#506784\", \"arrowhead\": 0, \"arrowwidth\": 1}, \"colorscale\": {\"diverging\": [[0, \"#8e0152\"], [0.1, \"#c51b7d\"], [0.2, \"#de77ae\"], [0.3, \"#f1b6da\"], [0.4, \"#fde0ef\"], [0.5, \"#f7f7f7\"], [0.6, \"#e6f5d0\"], [0.7, \"#b8e186\"], [0.8, \"#7fbc41\"], [0.9, \"#4d9221\"], [1, \"#276419\"]], \"sequential\": [[0.0, \"#0508b8\"], [0.0893854748603352, \"#1910d8\"], [0.1787709497206704, \"#3c19f0\"], [0.2681564245810056, \"#6b1cfb\"], [0.3575418994413408, \"#981cfd\"], [0.44692737430167595, \"#bf1cfd\"], [0.5363128491620112, \"#dd2bfd\"], [0.6256983240223464, \"#f246fe\"], [0.7150837988826816, \"#fc67fd\"], [0.8044692737430168, \"#fe88fc\"], [0.8938547486033519, \"#fea5fd\"], [0.9832402234636871, \"#febefe\"], [1.0, \"#fec3fe\"]], \"sequentialminus\": [[0.0, \"#0508b8\"], [0.0893854748603352, \"#1910d8\"], [0.1787709497206704, \"#3c19f0\"], [0.2681564245810056, \"#6b1cfb\"], [0.3575418994413408, \"#981cfd\"], [0.44692737430167595, \"#bf1cfd\"], [0.5363128491620112, \"#dd2bfd\"], [0.6256983240223464, \"#f246fe\"], [0.7150837988826816, \"#fc67fd\"], [0.8044692737430168, \"#fe88fc\"], [0.8938547486033519, \"#fea5fd\"], [0.9832402234636871, \"#febefe\"], [1.0, \"#fec3fe\"]]}, \"colorway\": [\"#636efa\", \"#EF553B\", \"#00cc96\", \"#ab63fa\", \"#19d3f3\", \"#e763fa\", \"#FECB52\", \"#FFA15A\", \"#FF6692\", \"#B6E880\"], \"font\": {\"color\": \"#2a3f5f\"}, \"geo\": {\"bgcolor\": \"white\", \"lakecolor\": \"white\", \"landcolor\": \"#E5ECF6\", \"showlakes\": true, \"showland\": true, \"subunitcolor\": \"white\"}, \"hovermode\": \"closest\", \"mapbox\": {\"style\": \"light\"}, \"paper_bgcolor\": \"white\", \"plot_bgcolor\": \"#E5ECF6\", \"polar\": {\"angularaxis\": {\"gridcolor\": \"white\", \"linecolor\": \"white\", \"ticks\": \"\"}, \"bgcolor\": \"#E5ECF6\", \"radialaxis\": {\"gridcolor\": \"white\", \"linecolor\": \"white\", \"ticks\": \"\"}}, \"scene\": {\"xaxis\": {\"backgroundcolor\": \"#E5ECF6\", \"gridcolor\": \"white\", \"gridwidth\": 2, \"linecolor\": \"white\", \"showbackground\": true, \"ticks\": \"\", \"zerolinecolor\": \"white\"}, \"yaxis\": {\"backgroundcolor\": \"#E5ECF6\", \"gridcolor\": \"white\", \"gridwidth\": 2, \"linecolor\": \"white\", \"showbackground\": true, \"ticks\": \"\", \"zerolinecolor\": \"white\"}, \"zaxis\": {\"backgroundcolor\": \"#E5ECF6\", \"gridcolor\": \"white\", \"gridwidth\": 2, \"linecolor\": \"white\", \"showbackground\": true, \"ticks\": \"\", \"zerolinecolor\": \"white\"}}, \"shapedefaults\": {\"fillcolor\": \"#506784\", \"line\": {\"width\": 0}, \"opacity\": 0.4}, \"ternary\": {\"aaxis\": {\"gridcolor\": \"white\", \"linecolor\": \"white\", \"ticks\": \"\"}, \"baxis\": {\"gridcolor\": \"white\", \"linecolor\": \"white\", \"ticks\": \"\"}, \"bgcolor\": \"#E5ECF6\", \"caxis\": {\"gridcolor\": \"white\", \"linecolor\": \"white\", \"ticks\": \"\"}}, \"title\": {\"x\": 0.05}, \"xaxis\": {\"automargin\": true, \"gridcolor\": \"white\", \"linecolor\": \"white\", \"ticks\": \"\", \"zerolinecolor\": \"white\", \"zerolinewidth\": 2}, \"yaxis\": {\"automargin\": true, \"gridcolor\": \"white\", \"linecolor\": \"white\", \"ticks\": \"\", \"zerolinecolor\": \"white\", \"zerolinewidth\": 2}}}, \"title\": {\"text\": \"Percent of Spending By Category and Generation\"}, \"grid\": {\"xaxes\": [\"x\", \"x2\", \"x3\", \"x4\", \"x5\", \"x6\", \"x7\"], \"yaxes\": [\"y\"], \"xgap\": 0.1, \"ygap\": 0.1, \"xside\": \"bottom\", \"yside\": \"left\"}, \"xaxis\": {\"title\": {\"text\": \"Generation\"}, \"categoryorder\": \"array\", \"categoryarray\": [\"Baby Boomers\", \"Generation X\", \"Millenials\", \"Traditionalists\"]}, \"xaxis2\": {\"title\": {\"text\": \"Generation\"}, \"matches\": \"x\"}, \"xaxis3\": {\"title\": {\"text\": \"Generation\"}, \"matches\": \"x\"}, \"xaxis4\": {\"title\": {\"text\": \"Generation\"}, \"matches\": \"x\"}, \"xaxis5\": {\"title\": {\"text\": \"Generation\"}, \"matches\": \"x\"}, \"xaxis6\": {\"title\": {\"text\": \"Generation\"}, \"matches\": \"x\"}, \"xaxis7\": {\"title\": {\"text\": \"Generation\"}, \"matches\": \"x\"}, \"annotations\": [{\"showarrow\": false, \"text\": \"Category=Elec/Hobbies/Clothing\", \"textangle\": 0, \"x\": 0.06521739130434782, \"xanchor\": \"center\", \"xref\": \"paper\", \"y\": 1.02, \"yanchor\": \"middle\", \"yref\": \"paper\"}, {\"showarrow\": false, \"text\": \"Category=Furniture/Building\", \"textangle\": 0, \"x\": 0.21014492753623187, \"xanchor\": \"center\", \"xref\": \"paper\", \"y\": 1.02, \"yanchor\": \"middle\", \"yref\": \"paper\"}, {\"showarrow\": false, \"text\": \"Category=Gasoline\", \"textangle\": 0, \"x\": 0.35507246376811596, \"xanchor\": \"center\", \"xref\": \"paper\", \"y\": 1.02, \"yanchor\": \"middle\", \"yref\": \"paper\"}, {\"showarrow\": false, \"text\": \"Category=General/Misc\", \"textangle\": 0, \"x\": 0.5, \"xanchor\": \"center\", \"xref\": \"paper\", \"y\": 1.02, \"yanchor\": \"middle\", \"yref\": \"paper\"}, {\"showarrow\": false, \"text\": \"Category=Groceries\", \"textangle\": 0, \"x\": 0.6449275362318841, \"xanchor\": \"center\", \"xref\": \"paper\", \"y\": 1.02, \"yanchor\": \"middle\", \"yref\": \"paper\"}, {\"showarrow\": false, \"text\": \"Category=Pharmacies\", \"textangle\": 0, \"x\": 0.7898550724637682, \"xanchor\": \"center\", \"xref\": \"paper\", \"y\": 1.02, \"yanchor\": \"middle\", \"yref\": \"paper\"}, {\"showarrow\": false, \"text\": \"Category=Restaurants\", \"textangle\": 0, \"x\": 0.9347826086956522, \"xanchor\": \"center\", \"xref\": \"paper\", \"y\": 1.02, \"yanchor\": \"middle\", \"yref\": \"paper\"}], \"yaxis\": {\"title\": {\"text\": \"% of Spending\"}}}, {\"showLink\": false, \"linkText\": \"Export to plot.ly\", \"plotlyServerURL\": \"https://plot.ly\"}); \n",
       "}\n",
       "});</script><script type=\"text/javascript\">window.addEventListener(\"resize\", function(){if (document.getElementById(\"95a0dbf0-2306-4424-8df0-7a3fb1101219\")) {window._Plotly.Plots.resize(document.getElementById(\"95a0dbf0-2306-4424-8df0-7a3fb1101219\"));};})</script>"
      ]
     },
     "metadata": {},
     "output_type": "display_data"
    }
   ],
   "source": [
    "px.bar(df_data.sort_values('Generation'), x='Generation', y='% of Spending', orientation='v', \\\n",
    "       facet_col='Category', color='Generation',\\\n",
    "    title='Percent of Spending By Category and Generation', \\\n",
    "    template='plotly')\n",
    "# I can't seem to get the Generation to sort in anything other than alphabetical order\n",
    "# Also not sure if I can remove or customize the overlapping labels"
   ]
  },
  {
   "cell_type": "code",
   "execution_count": 47,
   "metadata": {},
   "outputs": [
    {
     "data": {
      "text/plain": [
       "<seaborn.axisgrid.FacetGrid at 0x1a28895240>"
      ]
     },
     "execution_count": 47,
     "metadata": {},
     "output_type": "execute_result"
    },
    {
     "data": {
      "image/png": "[encoded data removed]",
      "text/plain": [
       "<Figure size 2520x360 with 7 Axes>"
      ]
     },
     "metadata": {},
     "output_type": "display_data"
    }
   ],
   "source": [
    "sns.set_style(\"ticks\") # This style has grid lines turned off\n",
    "#sns.set_context(rc = {'patch.linewidth': 5.0})\n",
    "sns.catplot(x=\"Generation\", y=\"% of Spending\", col=\"Category\", data=df_data, kind=\"bar\",\\\n",
    "           palette=\"pastel\", edgecolor=\"k\")\n",
    "# 7 is too much for one row - try a trellis"
   ]
  },
  {
   "cell_type": "code",
   "execution_count": 94,
   "metadata": {},
   "outputs": [
    {
     "name": "stderr",
     "output_type": "stream",
     "text": [
      "/Users/susanglass/anaconda3/lib/python3.7/site-packages/matplotlib/figure.py:445: UserWarning:\n",
      "\n",
      "Matplotlib is currently using module://ipykernel.pylab.backend_inline, which is a non-GUI backend, so cannot show the figure.\n",
      "\n"
     ]
    },
    {
     "data": {
      "image/png": "[encoded data removed]",
      "text/plain": [
       "<Figure size 432x288 with 2 Axes>"
      ]
     },
     "metadata": {
      "needs_background": "light"
     },
     "output_type": "display_data"
    }
   ],
   "source": [
    "categorical_features = [\"Generation\", \"Category\"]\n",
    "fig, ax = plt.subplots(1, len(categorical_features))\n",
    "for i, categorical_feature in enumerate(df_data[categorical_features]):\n",
    "    df_data[categorical_feature].value_counts().plot(\"bar\", ax=ax[i]).set_title(categorical_feature)\n",
    "fig.show()"
   ]
  },
  {
   "cell_type": "code",
   "execution_count": 121,
   "metadata": {},
   "outputs": [
    {
     "data": {
      "image/png": "[encoded data removed]",
      "text/plain": [
       "<Figure size 648x648 with 7 Axes>"
      ]
     },
     "metadata": {
      "needs_background": "light"
     },
     "output_type": "display_data"
    },
    {
     "data": {
      "image/png": "[encoded data removed]",
      "text/plain": [
       "<Figure size 432x288 with 1 Axes>"
      ]
     },
     "metadata": {
      "needs_background": "light"
     },
     "output_type": "display_data"
    }
   ],
   "source": [
    "# Seaborn FacetGrid doesn't need row and column - it can wrap if you want\n",
    "# using the col_wrap parameter set to the number of graphs per row\n",
    "g = sns.FacetGrid(df_data.sort_values('Category Rank'), col=\"Category\", col_wrap=3, height=3)\n",
    "g = g.map(plt.bar, \"Generation\", \"% of Spending\", \\\n",
    "          edgecolor=\"k\",linewidth='1', color=['red', 'green', 'blue', 'cyan'])\n",
    "plt.tick_params(\n",
    "    axis='x',          # changes apply to the x-axis\n",
    "    which='both',      # both major and minor ticks are affected\n",
    "    bottom=False,      # ticks along the bottom edge are off\n",
    "    top=False,         # ticks along the top edge are off\n",
    "    labelbottom=False) # labels along the bottom edge are off"
   ]
  },
  {
   "cell_type": "code",
   "execution_count": 110,
   "metadata": {},
   "outputs": [
    {
     "data": {
      "image/png": "[encoded data removed]",
      "text/plain": [
       "<Figure size 432x288 with 2 Axes>"
      ]
     },
     "metadata": {
      "needs_background": "light"
     },
     "output_type": "display_data"
    }
   ],
   "source": [
    "df_data['Category'] = pd.Categorical(df_data['Category'], \\\n",
    "    [\"Groceries\", \"General/Misc\", \"Restaurants\", \"Elec/Hobbies/Clothing\", \\\n",
    "    \"Gasoline\",\"Furniture/Building\",\"Pharmacies\"])\n",
    "df_data_pivot = df_data.pivot(\"Generation\", \"Category\", \"% of Spending\")\n",
    "ax = sns.heatmap(df_data_pivot, cmap=\"YlGnBu\")"
   ]
  },
  {
   "cell_type": "code",
   "execution_count": null,
   "metadata": {},
   "outputs": [],
   "source": []
  }
 ],
 "metadata": {
  "kernelspec": {
   "display_name": "Python 3",
   "language": "python",
   "name": "python3"
  },
  "language_info": {
   "codemirror_mode": {
    "name": "ipython",
    "version": 3
   },
   "file_extension": ".py",
   "mimetype": "text/x-python",
   "name": "python",
   "nbconvert_exporter": "python",
   "pygments_lexer": "ipython3",
   "version": "3.7.2"
  }
 },
 "nbformat": 4,
 "nbformat_minor": 2
}
