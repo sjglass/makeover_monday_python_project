{
 "cells": [
  {
   "cell_type": "code",
   "execution_count": 35,
   "metadata": {},
   "outputs": [],
   "source": [
    "import pandas as pd\n",
    "import numpy as np\n",
    "\n",
    "#Various visualization libraries\n",
    "import seaborn as sns\n",
    "import matplotlib.pyplot as plt\n",
    "%matplotlib inline\n",
    "import matplotlib.patches as mpatches # for custom legend\n",
    "import plotly_express as px"
   ]
  },
  {
   "cell_type": "markdown",
   "metadata": {},
   "source": [
    "# Acknowledgements\n",
    "Many thanks to Eva Murray and Andy Kriebel, for their incredible work and dedication in running the Makeover Monday community project."
   ]
  },
  {
   "cell_type": "markdown",
   "metadata": {},
   "source": [
    "# References\n",
    "<p>Makeover Monday Week 13: http://www.makeovermonday.co.uk/data/\n",
    "<p>Original Article: https://finance.yahoo.com/news/chart-reveals-huge-difference-millennials-201133732.html\n",
    "<p>Data on data.world: https://data.world/makeovermonday/2019w13\n",
    "<p>nbviewer link for this notebook: https://nbviewer.jupyter.org/github/sjglass/makeover_monday_python_project/blob/master/2019W13_ConsumerSpending/MakeoverMonday_2019W13.ipynb\n",
    "https://bit.ly/2uGp7gV"
   ]
  },
  {
   "cell_type": "code",
   "execution_count": 36,
   "metadata": {},
   "outputs": [
    {
     "data": {
      "text/html": [
       "<div>\n",
       "<style scoped>\n",
       "    .dataframe tbody tr th:only-of-type {\n",
       "        vertical-align: middle;\n",
       "    }\n",
       "\n",
       "    .dataframe tbody tr th {\n",
       "        vertical-align: top;\n",
       "    }\n",
       "\n",
       "    .dataframe thead th {\n",
       "        text-align: right;\n",
       "    }\n",
       "</style>\n",
       "<table border=\"1\" class=\"dataframe\">\n",
       "  <thead>\n",
       "    <tr style=\"text-align: right;\">\n",
       "      <th></th>\n",
       "      <th>Generation</th>\n",
       "      <th>Category</th>\n",
       "      <th>% of Spending</th>\n",
       "    </tr>\n",
       "  </thead>\n",
       "  <tbody>\n",
       "    <tr>\n",
       "      <th>0</th>\n",
       "      <td>Millenials</td>\n",
       "      <td>Restaurants</td>\n",
       "      <td>0.238</td>\n",
       "    </tr>\n",
       "    <tr>\n",
       "      <th>1</th>\n",
       "      <td>Millenials</td>\n",
       "      <td>Groceries</td>\n",
       "      <td>0.217</td>\n",
       "    </tr>\n",
       "    <tr>\n",
       "      <th>2</th>\n",
       "      <td>Millenials</td>\n",
       "      <td>Gasoline</td>\n",
       "      <td>0.108</td>\n",
       "    </tr>\n",
       "    <tr>\n",
       "      <th>3</th>\n",
       "      <td>Millenials</td>\n",
       "      <td>Pharmacies</td>\n",
       "      <td>0.030</td>\n",
       "    </tr>\n",
       "    <tr>\n",
       "      <th>4</th>\n",
       "      <td>Millenials</td>\n",
       "      <td>Furniture/Building</td>\n",
       "      <td>0.045</td>\n",
       "    </tr>\n",
       "  </tbody>\n",
       "</table>\n",
       "</div>"
      ],
      "text/plain": [
       "   Generation            Category  % of Spending\n",
       "0  Millenials         Restaurants          0.238\n",
       "1  Millenials           Groceries          0.217\n",
       "2  Millenials            Gasoline          0.108\n",
       "3  Millenials          Pharmacies          0.030\n",
       "4  Millenials  Furniture/Building          0.045"
      ]
     },
     "execution_count": 36,
     "metadata": {},
     "output_type": "execute_result"
    }
   ],
   "source": [
    "# Import data\n",
    "df_data = pd.read_csv('Consumer Spending by Generation.csv')\n",
    "df_data.head()"
   ]
  },
  {
   "cell_type": "code",
   "execution_count": 37,
   "metadata": {},
   "outputs": [
    {
     "data": {
      "text/html": [
       "<div>\n",
       "<style scoped>\n",
       "    .dataframe tbody tr th:only-of-type {\n",
       "        vertical-align: middle;\n",
       "    }\n",
       "\n",
       "    .dataframe tbody tr th {\n",
       "        vertical-align: top;\n",
       "    }\n",
       "\n",
       "    .dataframe thead th {\n",
       "        text-align: right;\n",
       "    }\n",
       "</style>\n",
       "<table border=\"1\" class=\"dataframe\">\n",
       "  <thead>\n",
       "    <tr style=\"text-align: right;\">\n",
       "      <th></th>\n",
       "      <th>Generation</th>\n",
       "      <th>Category</th>\n",
       "      <th>% of Spending</th>\n",
       "      <th>Cat Mean % of Spending</th>\n",
       "      <th>Category Rank</th>\n",
       "      <th>row</th>\n",
       "      <th>col</th>\n",
       "    </tr>\n",
       "  </thead>\n",
       "  <tbody>\n",
       "    <tr>\n",
       "      <th>0</th>\n",
       "      <td>Millenials</td>\n",
       "      <td>Restaurants</td>\n",
       "      <td>0.238</td>\n",
       "      <td>0.1695</td>\n",
       "      <td>3</td>\n",
       "      <td>1</td>\n",
       "      <td>3</td>\n",
       "    </tr>\n",
       "    <tr>\n",
       "      <th>1</th>\n",
       "      <td>Generation X</td>\n",
       "      <td>Restaurants</td>\n",
       "      <td>0.177</td>\n",
       "      <td>0.1695</td>\n",
       "      <td>3</td>\n",
       "      <td>1</td>\n",
       "      <td>3</td>\n",
       "    </tr>\n",
       "    <tr>\n",
       "      <th>2</th>\n",
       "      <td>Baby Boomers</td>\n",
       "      <td>Restaurants</td>\n",
       "      <td>0.135</td>\n",
       "      <td>0.1695</td>\n",
       "      <td>3</td>\n",
       "      <td>1</td>\n",
       "      <td>3</td>\n",
       "    </tr>\n",
       "    <tr>\n",
       "      <th>3</th>\n",
       "      <td>Traditionalists</td>\n",
       "      <td>Restaurants</td>\n",
       "      <td>0.128</td>\n",
       "      <td>0.1695</td>\n",
       "      <td>3</td>\n",
       "      <td>1</td>\n",
       "      <td>3</td>\n",
       "    </tr>\n",
       "    <tr>\n",
       "      <th>4</th>\n",
       "      <td>Millenials</td>\n",
       "      <td>Groceries</td>\n",
       "      <td>0.217</td>\n",
       "      <td>0.2615</td>\n",
       "      <td>1</td>\n",
       "      <td>1</td>\n",
       "      <td>1</td>\n",
       "    </tr>\n",
       "  </tbody>\n",
       "</table>\n",
       "</div>"
      ],
      "text/plain": [
       "        Generation     Category  % of Spending  Cat Mean % of Spending  \\\n",
       "0       Millenials  Restaurants          0.238                  0.1695   \n",
       "1     Generation X  Restaurants          0.177                  0.1695   \n",
       "2     Baby Boomers  Restaurants          0.135                  0.1695   \n",
       "3  Traditionalists  Restaurants          0.128                  0.1695   \n",
       "4       Millenials    Groceries          0.217                  0.2615   \n",
       "\n",
       "   Category Rank  row  col  \n",
       "0              3    1    3  \n",
       "1              3    1    3  \n",
       "2              3    1    3  \n",
       "3              3    1    3  \n",
       "4              1    1    1  "
      ]
     },
     "execution_count": 37,
     "metadata": {},
     "output_type": "execute_result"
    }
   ],
   "source": [
    "# It's difficult to show all 7 categories # 4 Generations in one row or column of bar charts\n",
    "# Assigning each category a number (based on overall percent spending)\n",
    "# allows, for example, a trellis chart based on the rank\n",
    "# Although FWIW 7 is a terrible number for trellis charts too.\n",
    "# Also, it turns out that SNS catplot can create a trellis by just specifying a width\n",
    "# and setting the col_wrap parameter, so I didn't end up using the col and row\n",
    "# Leaving it here for furture reference\n",
    "\n",
    "cat_means = df_data.groupby(\"Category\").mean().reset_index().rename(index=str, columns={\"% of Spending\": \"Cat Mean % of Spending\"})\n",
    "# dense ranks should always be integers\n",
    "cat_means['Category Rank']=cat_means['Cat Mean % of Spending'].rank(ascending=0,method='dense').astype(int)\n",
    "cat_means['row']=((cat_means['Category Rank'].astype(int)-1)/3 + 1).astype(int)\n",
    "cat_means['col']=(cat_means['Category Rank']%3).replace(0, 3).astype(int)\n",
    "df_data = df_data.merge(cat_means, on='Category')\n",
    "df_data.head()"
   ]
  },
  {
   "cell_type": "code",
   "execution_count": 38,
   "metadata": {},
   "outputs": [
    {
     "data": {
      "text/html": [
       "<div>\n",
       "<style scoped>\n",
       "    .dataframe tbody tr th:only-of-type {\n",
       "        vertical-align: middle;\n",
       "    }\n",
       "\n",
       "    .dataframe tbody tr th {\n",
       "        vertical-align: top;\n",
       "    }\n",
       "\n",
       "    .dataframe thead th {\n",
       "        text-align: right;\n",
       "    }\n",
       "</style>\n",
       "<table border=\"1\" class=\"dataframe\">\n",
       "  <thead>\n",
       "    <tr style=\"text-align: right;\">\n",
       "      <th></th>\n",
       "      <th>Generation</th>\n",
       "      <th>Category</th>\n",
       "      <th>% of Spending</th>\n",
       "      <th>Cat Mean % of Spending</th>\n",
       "      <th>Category Rank</th>\n",
       "      <th>row</th>\n",
       "      <th>col</th>\n",
       "    </tr>\n",
       "  </thead>\n",
       "  <tbody>\n",
       "    <tr>\n",
       "      <th>0</th>\n",
       "      <td>Millenials</td>\n",
       "      <td>Restaurants</td>\n",
       "      <td>0.238</td>\n",
       "      <td>0.1695</td>\n",
       "      <td>3</td>\n",
       "      <td>1</td>\n",
       "      <td>3</td>\n",
       "    </tr>\n",
       "    <tr>\n",
       "      <th>24</th>\n",
       "      <td>Millenials</td>\n",
       "      <td>General/Misc</td>\n",
       "      <td>0.177</td>\n",
       "      <td>0.2070</td>\n",
       "      <td>2</td>\n",
       "      <td>1</td>\n",
       "      <td>2</td>\n",
       "    </tr>\n",
       "    <tr>\n",
       "      <th>4</th>\n",
       "      <td>Millenials</td>\n",
       "      <td>Groceries</td>\n",
       "      <td>0.217</td>\n",
       "      <td>0.2615</td>\n",
       "      <td>1</td>\n",
       "      <td>1</td>\n",
       "      <td>1</td>\n",
       "    </tr>\n",
       "    <tr>\n",
       "      <th>20</th>\n",
       "      <td>Millenials</td>\n",
       "      <td>Elec/Hobbies/Clothing</td>\n",
       "      <td>0.185</td>\n",
       "      <td>0.1545</td>\n",
       "      <td>4</td>\n",
       "      <td>2</td>\n",
       "      <td>1</td>\n",
       "    </tr>\n",
       "    <tr>\n",
       "      <th>16</th>\n",
       "      <td>Millenials</td>\n",
       "      <td>Furniture/Building</td>\n",
       "      <td>0.045</td>\n",
       "      <td>0.0780</td>\n",
       "      <td>6</td>\n",
       "      <td>2</td>\n",
       "      <td>3</td>\n",
       "    </tr>\n",
       "  </tbody>\n",
       "</table>\n",
       "</div>"
      ],
      "text/plain": [
       "    Generation               Category  % of Spending  Cat Mean % of Spending  \\\n",
       "0   Millenials            Restaurants          0.238                  0.1695   \n",
       "24  Millenials           General/Misc          0.177                  0.2070   \n",
       "4   Millenials              Groceries          0.217                  0.2615   \n",
       "20  Millenials  Elec/Hobbies/Clothing          0.185                  0.1545   \n",
       "16  Millenials     Furniture/Building          0.045                  0.0780   \n",
       "\n",
       "    Category Rank  row  col  \n",
       "0               3    1    3  \n",
       "24              2    1    2  \n",
       "4               1    1    1  \n",
       "20              4    2    1  \n",
       "16              6    2    3  "
      ]
     },
     "execution_count": 38,
     "metadata": {},
     "output_type": "execute_result"
    }
   ],
   "source": [
    "# Assign a default order to Generation values by using the Categorical type\n",
    "df_data['Generation'] = pd.Categorical(df_data['Generation'], \\\n",
    "    [\"Millenials\", \"Generation X\", \"Baby Boomers\", \"Traditionalists\"])\n",
    "df_data = df_data.sort_values('Generation')\n",
    "df_data.head()"
   ]
  },
  {
   "cell_type": "code",
   "execution_count": 43,
   "metadata": {},
   "outputs": [
    {
     "data": {
      "text/html": [
       "<div>\n",
       "<style scoped>\n",
       "    .dataframe tbody tr th:only-of-type {\n",
       "        vertical-align: middle;\n",
       "    }\n",
       "\n",
       "    .dataframe tbody tr th {\n",
       "        vertical-align: top;\n",
       "    }\n",
       "\n",
       "    .dataframe thead th {\n",
       "        text-align: right;\n",
       "    }\n",
       "</style>\n",
       "<table border=\"1\" class=\"dataframe\">\n",
       "  <thead>\n",
       "    <tr style=\"text-align: right;\">\n",
       "      <th></th>\n",
       "      <th>Generation</th>\n",
       "      <th>Category</th>\n",
       "      <th>% of Spending</th>\n",
       "      <th>Cat Mean % of Spending</th>\n",
       "      <th>Category Rank</th>\n",
       "      <th>row</th>\n",
       "      <th>col</th>\n",
       "      <th>Generation Rank</th>\n",
       "    </tr>\n",
       "  </thead>\n",
       "  <tbody>\n",
       "    <tr>\n",
       "      <th>21</th>\n",
       "      <td>Generation X</td>\n",
       "      <td>Elec/Hobbies/Clothing</td>\n",
       "      <td>0.168</td>\n",
       "      <td>0.1545</td>\n",
       "      <td>4</td>\n",
       "      <td>2</td>\n",
       "      <td>1</td>\n",
       "      <td>2</td>\n",
       "    </tr>\n",
       "    <tr>\n",
       "      <th>19</th>\n",
       "      <td>Traditionalists</td>\n",
       "      <td>Furniture/Building</td>\n",
       "      <td>0.094</td>\n",
       "      <td>0.0780</td>\n",
       "      <td>6</td>\n",
       "      <td>2</td>\n",
       "      <td>3</td>\n",
       "      <td>4</td>\n",
       "    </tr>\n",
       "    <tr>\n",
       "      <th>4</th>\n",
       "      <td>Millenials</td>\n",
       "      <td>Groceries</td>\n",
       "      <td>0.217</td>\n",
       "      <td>0.2615</td>\n",
       "      <td>1</td>\n",
       "      <td>1</td>\n",
       "      <td>1</td>\n",
       "      <td>1</td>\n",
       "    </tr>\n",
       "    <tr>\n",
       "      <th>18</th>\n",
       "      <td>Baby Boomers</td>\n",
       "      <td>Furniture/Building</td>\n",
       "      <td>0.100</td>\n",
       "      <td>0.0780</td>\n",
       "      <td>6</td>\n",
       "      <td>2</td>\n",
       "      <td>3</td>\n",
       "      <td>3</td>\n",
       "    </tr>\n",
       "    <tr>\n",
       "      <th>22</th>\n",
       "      <td>Baby Boomers</td>\n",
       "      <td>Elec/Hobbies/Clothing</td>\n",
       "      <td>0.147</td>\n",
       "      <td>0.1545</td>\n",
       "      <td>4</td>\n",
       "      <td>2</td>\n",
       "      <td>1</td>\n",
       "      <td>3</td>\n",
       "    </tr>\n",
       "    <tr>\n",
       "      <th>12</th>\n",
       "      <td>Millenials</td>\n",
       "      <td>Pharmacies</td>\n",
       "      <td>0.030</td>\n",
       "      <td>0.0400</td>\n",
       "      <td>7</td>\n",
       "      <td>3</td>\n",
       "      <td>1</td>\n",
       "      <td>1</td>\n",
       "    </tr>\n",
       "    <tr>\n",
       "      <th>16</th>\n",
       "      <td>Millenials</td>\n",
       "      <td>Furniture/Building</td>\n",
       "      <td>0.045</td>\n",
       "      <td>0.0780</td>\n",
       "      <td>6</td>\n",
       "      <td>2</td>\n",
       "      <td>3</td>\n",
       "      <td>1</td>\n",
       "    </tr>\n",
       "    <tr>\n",
       "      <th>17</th>\n",
       "      <td>Generation X</td>\n",
       "      <td>Furniture/Building</td>\n",
       "      <td>0.073</td>\n",
       "      <td>0.0780</td>\n",
       "      <td>6</td>\n",
       "      <td>2</td>\n",
       "      <td>3</td>\n",
       "      <td>2</td>\n",
       "    </tr>\n",
       "    <tr>\n",
       "      <th>26</th>\n",
       "      <td>Baby Boomers</td>\n",
       "      <td>General/Misc</td>\n",
       "      <td>0.223</td>\n",
       "      <td>0.2070</td>\n",
       "      <td>2</td>\n",
       "      <td>1</td>\n",
       "      <td>2</td>\n",
       "      <td>3</td>\n",
       "    </tr>\n",
       "    <tr>\n",
       "      <th>3</th>\n",
       "      <td>Traditionalists</td>\n",
       "      <td>Restaurants</td>\n",
       "      <td>0.128</td>\n",
       "      <td>0.1695</td>\n",
       "      <td>3</td>\n",
       "      <td>1</td>\n",
       "      <td>3</td>\n",
       "      <td>4</td>\n",
       "    </tr>\n",
       "  </tbody>\n",
       "</table>\n",
       "</div>"
      ],
      "text/plain": [
       "         Generation               Category  % of Spending  \\\n",
       "21     Generation X  Elec/Hobbies/Clothing          0.168   \n",
       "19  Traditionalists     Furniture/Building          0.094   \n",
       "4        Millenials              Groceries          0.217   \n",
       "18     Baby Boomers     Furniture/Building          0.100   \n",
       "22     Baby Boomers  Elec/Hobbies/Clothing          0.147   \n",
       "12       Millenials             Pharmacies          0.030   \n",
       "16       Millenials     Furniture/Building          0.045   \n",
       "17     Generation X     Furniture/Building          0.073   \n",
       "26     Baby Boomers           General/Misc          0.223   \n",
       "3   Traditionalists            Restaurants          0.128   \n",
       "\n",
       "    Cat Mean % of Spending  Category Rank  row  col Generation Rank  \n",
       "21                  0.1545              4    2    1               2  \n",
       "19                  0.0780              6    2    3               4  \n",
       "4                   0.2615              1    1    1               1  \n",
       "18                  0.0780              6    2    3               3  \n",
       "22                  0.1545              4    2    1               3  \n",
       "12                  0.0400              7    3    1               1  \n",
       "16                  0.0780              6    2    3               1  \n",
       "17                  0.0780              6    2    3               2  \n",
       "26                  0.2070              2    1    2               3  \n",
       "3                   0.1695              3    1    3               4  "
      ]
     },
     "execution_count": 43,
     "metadata": {},
     "output_type": "execute_result"
    }
   ],
   "source": [
    "# pyplot does not pay attention to the categorical order\n",
    "# Instead, create a numerical mapping to use for pyplot\n",
    "def gen_order(gen):\n",
    "    if gen == 'Millenials':\n",
    "        return 1\n",
    "    elif gen == 'Generation X':\n",
    "        return 2\n",
    "    elif gen == 'Baby Boomers':\n",
    "        return 3\n",
    "    elif gen == 'Traditionalists':\n",
    "        return 4\n",
    "df_data['Generation Rank'] = df_data['Generation'].apply(gen_order)\n",
    "df_data.sample(10)"
   ]
  },
  {
   "cell_type": "code",
   "execution_count": 45,
   "metadata": {},
   "outputs": [
    {
     "data": {
      "text/html": [
       "<div>\n",
       "<style scoped>\n",
       "    .dataframe tbody tr th:only-of-type {\n",
       "        vertical-align: middle;\n",
       "    }\n",
       "\n",
       "    .dataframe tbody tr th {\n",
       "        vertical-align: top;\n",
       "    }\n",
       "\n",
       "    .dataframe thead th {\n",
       "        text-align: right;\n",
       "    }\n",
       "</style>\n",
       "<table border=\"1\" class=\"dataframe\">\n",
       "  <thead>\n",
       "    <tr style=\"text-align: right;\">\n",
       "      <th></th>\n",
       "      <th>Generation</th>\n",
       "      <th>Category</th>\n",
       "      <th>% of Spending</th>\n",
       "      <th>Cat Mean % of Spending</th>\n",
       "      <th>Category Rank</th>\n",
       "      <th>row</th>\n",
       "      <th>col</th>\n",
       "      <th>Generation Rank</th>\n",
       "      <th>Generation Color</th>\n",
       "    </tr>\n",
       "  </thead>\n",
       "  <tbody>\n",
       "    <tr>\n",
       "      <th>2</th>\n",
       "      <td>Baby Boomers</td>\n",
       "      <td>Restaurants</td>\n",
       "      <td>0.135</td>\n",
       "      <td>0.16950</td>\n",
       "      <td>3</td>\n",
       "      <td>1</td>\n",
       "      <td>3</td>\n",
       "      <td>3</td>\n",
       "      <td>blue</td>\n",
       "    </tr>\n",
       "    <tr>\n",
       "      <th>27</th>\n",
       "      <td>Traditionalists</td>\n",
       "      <td>General/Misc</td>\n",
       "      <td>0.225</td>\n",
       "      <td>0.20700</td>\n",
       "      <td>2</td>\n",
       "      <td>1</td>\n",
       "      <td>2</td>\n",
       "      <td>4</td>\n",
       "      <td>cyan</td>\n",
       "    </tr>\n",
       "    <tr>\n",
       "      <th>20</th>\n",
       "      <td>Millenials</td>\n",
       "      <td>Elec/Hobbies/Clothing</td>\n",
       "      <td>0.185</td>\n",
       "      <td>0.15450</td>\n",
       "      <td>4</td>\n",
       "      <td>2</td>\n",
       "      <td>1</td>\n",
       "      <td>1</td>\n",
       "      <td>red</td>\n",
       "    </tr>\n",
       "    <tr>\n",
       "      <th>5</th>\n",
       "      <td>Generation X</td>\n",
       "      <td>Groceries</td>\n",
       "      <td>0.253</td>\n",
       "      <td>0.26150</td>\n",
       "      <td>1</td>\n",
       "      <td>1</td>\n",
       "      <td>1</td>\n",
       "      <td>2</td>\n",
       "      <td>green</td>\n",
       "    </tr>\n",
       "    <tr>\n",
       "      <th>8</th>\n",
       "      <td>Millenials</td>\n",
       "      <td>Gasoline</td>\n",
       "      <td>0.108</td>\n",
       "      <td>0.08925</td>\n",
       "      <td>5</td>\n",
       "      <td>2</td>\n",
       "      <td>2</td>\n",
       "      <td>1</td>\n",
       "      <td>red</td>\n",
       "    </tr>\n",
       "    <tr>\n",
       "      <th>15</th>\n",
       "      <td>Traditionalists</td>\n",
       "      <td>Pharmacies</td>\n",
       "      <td>0.064</td>\n",
       "      <td>0.04000</td>\n",
       "      <td>7</td>\n",
       "      <td>3</td>\n",
       "      <td>1</td>\n",
       "      <td>4</td>\n",
       "      <td>cyan</td>\n",
       "    </tr>\n",
       "    <tr>\n",
       "      <th>18</th>\n",
       "      <td>Baby Boomers</td>\n",
       "      <td>Furniture/Building</td>\n",
       "      <td>0.100</td>\n",
       "      <td>0.07800</td>\n",
       "      <td>6</td>\n",
       "      <td>2</td>\n",
       "      <td>3</td>\n",
       "      <td>3</td>\n",
       "      <td>blue</td>\n",
       "    </tr>\n",
       "    <tr>\n",
       "      <th>19</th>\n",
       "      <td>Traditionalists</td>\n",
       "      <td>Furniture/Building</td>\n",
       "      <td>0.094</td>\n",
       "      <td>0.07800</td>\n",
       "      <td>6</td>\n",
       "      <td>2</td>\n",
       "      <td>3</td>\n",
       "      <td>4</td>\n",
       "      <td>cyan</td>\n",
       "    </tr>\n",
       "    <tr>\n",
       "      <th>6</th>\n",
       "      <td>Baby Boomers</td>\n",
       "      <td>Groceries</td>\n",
       "      <td>0.272</td>\n",
       "      <td>0.26150</td>\n",
       "      <td>1</td>\n",
       "      <td>1</td>\n",
       "      <td>1</td>\n",
       "      <td>3</td>\n",
       "      <td>blue</td>\n",
       "    </tr>\n",
       "    <tr>\n",
       "      <th>10</th>\n",
       "      <td>Baby Boomers</td>\n",
       "      <td>Gasoline</td>\n",
       "      <td>0.085</td>\n",
       "      <td>0.08925</td>\n",
       "      <td>5</td>\n",
       "      <td>2</td>\n",
       "      <td>2</td>\n",
       "      <td>3</td>\n",
       "      <td>blue</td>\n",
       "    </tr>\n",
       "  </tbody>\n",
       "</table>\n",
       "</div>"
      ],
      "text/plain": [
       "         Generation               Category  % of Spending  \\\n",
       "2      Baby Boomers            Restaurants          0.135   \n",
       "27  Traditionalists           General/Misc          0.225   \n",
       "20       Millenials  Elec/Hobbies/Clothing          0.185   \n",
       "5      Generation X              Groceries          0.253   \n",
       "8        Millenials               Gasoline          0.108   \n",
       "15  Traditionalists             Pharmacies          0.064   \n",
       "18     Baby Boomers     Furniture/Building          0.100   \n",
       "19  Traditionalists     Furniture/Building          0.094   \n",
       "6      Baby Boomers              Groceries          0.272   \n",
       "10     Baby Boomers               Gasoline          0.085   \n",
       "\n",
       "    Cat Mean % of Spending  Category Rank  row  col Generation Rank  \\\n",
       "2                  0.16950              3    1    3               3   \n",
       "27                 0.20700              2    1    2               4   \n",
       "20                 0.15450              4    2    1               1   \n",
       "5                  0.26150              1    1    1               2   \n",
       "8                  0.08925              5    2    2               1   \n",
       "15                 0.04000              7    3    1               4   \n",
       "18                 0.07800              6    2    3               3   \n",
       "19                 0.07800              6    2    3               4   \n",
       "6                  0.26150              1    1    1               3   \n",
       "10                 0.08925              5    2    2               3   \n",
       "\n",
       "   Generation Color  \n",
       "2              blue  \n",
       "27             cyan  \n",
       "20              red  \n",
       "5             green  \n",
       "8               red  \n",
       "15             cyan  \n",
       "18             blue  \n",
       "19             cyan  \n",
       "6              blue  \n",
       "10             blue  "
      ]
     },
     "execution_count": 45,
     "metadata": {},
     "output_type": "execute_result"
    }
   ],
   "source": [
    "# For pyplot, also assign the color values\n",
    "def gen_color(gen):\n",
    "    if gen == 'Millenials':\n",
    "        return 'red'\n",
    "    elif gen == 'Generation X':\n",
    "        return 'green'\n",
    "    elif gen == 'Baby Boomers':\n",
    "        return 'blue'\n",
    "    elif gen == 'Traditionalists':\n",
    "        return 'cyan'\n",
    "df_data['Generation Color'] = df_data['Generation'].apply(gen_color)\n",
    "df_data.sample(10)"
   ]
  },
  {
   "cell_type": "code",
   "execution_count": 39,
   "metadata": {},
   "outputs": [
    {
     "data": {
      "application/vnd.plotly.v1+json": {
       "config": {
        "linkText": "Export to plot.ly",
        "plotlyServerURL": "https://plot.ly",
        "showLink": false
       },
       "data": [
        {
         "alignmentgroup": "True",
         "hovertemplate": "Category=Elec/Hobbies/Clothing<br>Generation=Baby Boomers<br>Generation=%{x}<br>% of Spending=%{y}<extra></extra>",
         "legendgroup": "Generation=Baby Boomers",
         "marker": {
          "color": "#636efa"
         },
         "name": "Generation=Baby Boomers",
         "offsetgroup": "Generation=Baby Boomers",
         "orientation": "v",
         "showlegend": true,
         "textposition": "auto",
         "type": "bar",
         "uid": "301cf9ac-e72b-42c4-ac3c-7cd29a31091d",
         "x": [
          "Baby Boomers"
         ],
         "xaxis": "x",
         "y": [
          0.147
         ],
         "yaxis": "y"
        },
        {
         "alignmentgroup": "True",
         "hovertemplate": "Category=Elec/Hobbies/Clothing<br>Generation=Generation X<br>Generation=%{x}<br>% of Spending=%{y}<extra></extra>",
         "legendgroup": "Generation=Generation X",
         "marker": {
          "color": "#EF553B"
         },
         "name": "Generation=Generation X",
         "offsetgroup": "Generation=Generation X",
         "orientation": "v",
         "showlegend": true,
         "textposition": "auto",
         "type": "bar",
         "uid": "598541ad-2d40-4cf1-ae5c-7c2fba4a0bdb",
         "x": [
          "Generation X"
         ],
         "xaxis": "x",
         "y": [
          0.168
         ],
         "yaxis": "y"
        },
        {
         "alignmentgroup": "True",
         "hovertemplate": "Category=Elec/Hobbies/Clothing<br>Generation=Millenials<br>Generation=%{x}<br>% of Spending=%{y}<extra></extra>",
         "legendgroup": "Generation=Millenials",
         "marker": {
          "color": "#00cc96"
         },
         "name": "Generation=Millenials",
         "offsetgroup": "Generation=Millenials",
         "orientation": "v",
         "showlegend": true,
         "textposition": "auto",
         "type": "bar",
         "uid": "9b3d0476-9f79-4743-b9ab-6e5699b7e51f",
         "x": [
          "Millenials"
         ],
         "xaxis": "x",
         "y": [
          0.185
         ],
         "yaxis": "y"
        },
        {
         "alignmentgroup": "True",
         "hovertemplate": "Category=Elec/Hobbies/Clothing<br>Generation=Traditionalists<br>Generation=%{x}<br>% of Spending=%{y}<extra></extra>",
         "legendgroup": "Generation=Traditionalists",
         "marker": {
          "color": "#ab63fa"
         },
         "name": "Generation=Traditionalists",
         "offsetgroup": "Generation=Traditionalists",
         "orientation": "v",
         "showlegend": true,
         "textposition": "auto",
         "type": "bar",
         "uid": "4c189258-8f1c-4aa0-8919-58b5c951d52b",
         "x": [
          "Traditionalists"
         ],
         "xaxis": "x",
         "y": [
          0.11800000000000001
         ],
         "yaxis": "y"
        },
        {
         "alignmentgroup": "True",
         "hovertemplate": "Category=Furniture/Building<br>Generation=Baby Boomers<br>Generation=%{x}<br>% of Spending=%{y}<extra></extra>",
         "legendgroup": "Generation=Baby Boomers",
         "marker": {
          "color": "#636efa"
         },
         "name": "Generation=Baby Boomers",
         "offsetgroup": "Generation=Baby Boomers",
         "orientation": "v",
         "showlegend": false,
         "textposition": "auto",
         "type": "bar",
         "uid": "21ef712f-524c-4c31-a552-17ab7e5a1721",
         "x": [
          "Baby Boomers"
         ],
         "xaxis": "x2",
         "y": [
          0.1
         ],
         "yaxis": "y"
        },
        {
         "alignmentgroup": "True",
         "hovertemplate": "Category=Furniture/Building<br>Generation=Generation X<br>Generation=%{x}<br>% of Spending=%{y}<extra></extra>",
         "legendgroup": "Generation=Generation X",
         "marker": {
          "color": "#EF553B"
         },
         "name": "Generation=Generation X",
         "offsetgroup": "Generation=Generation X",
         "orientation": "v",
         "showlegend": false,
         "textposition": "auto",
         "type": "bar",
         "uid": "939977fd-a44c-4ecf-9519-e7cb911ab3d5",
         "x": [
          "Generation X"
         ],
         "xaxis": "x2",
         "y": [
          0.073
         ],
         "yaxis": "y"
        },
        {
         "alignmentgroup": "True",
         "hovertemplate": "Category=Furniture/Building<br>Generation=Millenials<br>Generation=%{x}<br>% of Spending=%{y}<extra></extra>",
         "legendgroup": "Generation=Millenials",
         "marker": {
          "color": "#00cc96"
         },
         "name": "Generation=Millenials",
         "offsetgroup": "Generation=Millenials",
         "orientation": "v",
         "showlegend": false,
         "textposition": "auto",
         "type": "bar",
         "uid": "e0c9b890-3711-4baf-9243-bb486d2955b5",
         "x": [
          "Millenials"
         ],
         "xaxis": "x2",
         "y": [
          0.045
         ],
         "yaxis": "y"
        },
        {
         "alignmentgroup": "True",
         "hovertemplate": "Category=Furniture/Building<br>Generation=Traditionalists<br>Generation=%{x}<br>% of Spending=%{y}<extra></extra>",
         "legendgroup": "Generation=Traditionalists",
         "marker": {
          "color": "#ab63fa"
         },
         "name": "Generation=Traditionalists",
         "offsetgroup": "Generation=Traditionalists",
         "orientation": "v",
         "showlegend": false,
         "textposition": "auto",
         "type": "bar",
         "uid": "14d847a1-e0aa-4124-8597-4b3d938b2df8",
         "x": [
          "Traditionalists"
         ],
         "xaxis": "x2",
         "y": [
          0.094
         ],
         "yaxis": "y"
        },
        {
         "alignmentgroup": "True",
         "hovertemplate": "Category=Gasoline<br>Generation=Baby Boomers<br>Generation=%{x}<br>% of Spending=%{y}<extra></extra>",
         "legendgroup": "Generation=Baby Boomers",
         "marker": {
          "color": "#636efa"
         },
         "name": "Generation=Baby Boomers",
         "offsetgroup": "Generation=Baby Boomers",
         "orientation": "v",
         "showlegend": false,
         "textposition": "auto",
         "type": "bar",
         "uid": "d9c6e8f3-2bd5-433b-aa00-852581bdec2f",
         "x": [
          "Baby Boomers"
         ],
         "xaxis": "x3",
         "y": [
          0.085
         ],
         "yaxis": "y"
        },
        {
         "alignmentgroup": "True",
         "hovertemplate": "Category=Gasoline<br>Generation=Generation X<br>Generation=%{x}<br>% of Spending=%{y}<extra></extra>",
         "legendgroup": "Generation=Generation X",
         "marker": {
          "color": "#EF553B"
         },
         "name": "Generation=Generation X",
         "offsetgroup": "Generation=Generation X",
         "orientation": "v",
         "showlegend": false,
         "textposition": "auto",
         "type": "bar",
         "uid": "23fb71a7-adf0-4c31-8c2b-017183b2890e",
         "x": [
          "Generation X"
         ],
         "xaxis": "x3",
         "y": [
          0.09699999999999999
         ],
         "yaxis": "y"
        },
        {
         "alignmentgroup": "True",
         "hovertemplate": "Category=Gasoline<br>Generation=Millenials<br>Generation=%{x}<br>% of Spending=%{y}<extra></extra>",
         "legendgroup": "Generation=Millenials",
         "marker": {
          "color": "#00cc96"
         },
         "name": "Generation=Millenials",
         "offsetgroup": "Generation=Millenials",
         "orientation": "v",
         "showlegend": false,
         "textposition": "auto",
         "type": "bar",
         "uid": "0ce429e3-a189-4f35-80e3-84779a568d44",
         "x": [
          "Millenials"
         ],
         "xaxis": "x3",
         "y": [
          0.10800000000000001
         ],
         "yaxis": "y"
        },
        {
         "alignmentgroup": "True",
         "hovertemplate": "Category=Gasoline<br>Generation=Traditionalists<br>Generation=%{x}<br>% of Spending=%{y}<extra></extra>",
         "legendgroup": "Generation=Traditionalists",
         "marker": {
          "color": "#ab63fa"
         },
         "name": "Generation=Traditionalists",
         "offsetgroup": "Generation=Traditionalists",
         "orientation": "v",
         "showlegend": false,
         "textposition": "auto",
         "type": "bar",
         "uid": "d6ce5b6d-03cb-451b-a4f6-9ba59f0842ac",
         "x": [
          "Traditionalists"
         ],
         "xaxis": "x3",
         "y": [
          0.067
         ],
         "yaxis": "y"
        },
        {
         "alignmentgroup": "True",
         "hovertemplate": "Category=General/Misc<br>Generation=Baby Boomers<br>Generation=%{x}<br>% of Spending=%{y}<extra></extra>",
         "legendgroup": "Generation=Baby Boomers",
         "marker": {
          "color": "#636efa"
         },
         "name": "Generation=Baby Boomers",
         "offsetgroup": "Generation=Baby Boomers",
         "orientation": "v",
         "showlegend": false,
         "textposition": "auto",
         "type": "bar",
         "uid": "9c96b19a-9d37-4f17-abc3-872b9315b497",
         "x": [
          "Baby Boomers"
         ],
         "xaxis": "x4",
         "y": [
          0.223
         ],
         "yaxis": "y"
        },
        {
         "alignmentgroup": "True",
         "hovertemplate": "Category=General/Misc<br>Generation=Generation X<br>Generation=%{x}<br>% of Spending=%{y}<extra></extra>",
         "legendgroup": "Generation=Generation X",
         "marker": {
          "color": "#EF553B"
         },
         "name": "Generation=Generation X",
         "offsetgroup": "Generation=Generation X",
         "orientation": "v",
         "showlegend": false,
         "textposition": "auto",
         "type": "bar",
         "uid": "b4a06ffb-6dff-42f0-8e2b-48ef02acd062",
         "x": [
          "Generation X"
         ],
         "xaxis": "x4",
         "y": [
          0.203
         ],
         "yaxis": "y"
        },
        {
         "alignmentgroup": "True",
         "hovertemplate": "Category=General/Misc<br>Generation=Millenials<br>Generation=%{x}<br>% of Spending=%{y}<extra></extra>",
         "legendgroup": "Generation=Millenials",
         "marker": {
          "color": "#00cc96"
         },
         "name": "Generation=Millenials",
         "offsetgroup": "Generation=Millenials",
         "orientation": "v",
         "showlegend": false,
         "textposition": "auto",
         "type": "bar",
         "uid": "c394c425-c26a-44cf-b8f5-b422c05edcf3",
         "x": [
          "Millenials"
         ],
         "xaxis": "x4",
         "y": [
          0.177
         ],
         "yaxis": "y"
        },
        {
         "alignmentgroup": "True",
         "hovertemplate": "Category=General/Misc<br>Generation=Traditionalists<br>Generation=%{x}<br>% of Spending=%{y}<extra></extra>",
         "legendgroup": "Generation=Traditionalists",
         "marker": {
          "color": "#ab63fa"
         },
         "name": "Generation=Traditionalists",
         "offsetgroup": "Generation=Traditionalists",
         "orientation": "v",
         "showlegend": false,
         "textposition": "auto",
         "type": "bar",
         "uid": "e888902a-ee92-43e7-9c11-ebf384bf5043",
         "x": [
          "Traditionalists"
         ],
         "xaxis": "x4",
         "y": [
          0.225
         ],
         "yaxis": "y"
        },
        {
         "alignmentgroup": "True",
         "hovertemplate": "Category=Groceries<br>Generation=Baby Boomers<br>Generation=%{x}<br>% of Spending=%{y}<extra></extra>",
         "legendgroup": "Generation=Baby Boomers",
         "marker": {
          "color": "#636efa"
         },
         "name": "Generation=Baby Boomers",
         "offsetgroup": "Generation=Baby Boomers",
         "orientation": "v",
         "showlegend": false,
         "textposition": "auto",
         "type": "bar",
         "uid": "c5b4e791-1675-4f83-ae9c-fdc10e6b4a8d",
         "x": [
          "Baby Boomers"
         ],
         "xaxis": "x5",
         "y": [
          0.272
         ],
         "yaxis": "y"
        },
        {
         "alignmentgroup": "True",
         "hovertemplate": "Category=Groceries<br>Generation=Generation X<br>Generation=%{x}<br>% of Spending=%{y}<extra></extra>",
         "legendgroup": "Generation=Generation X",
         "marker": {
          "color": "#EF553B"
         },
         "name": "Generation=Generation X",
         "offsetgroup": "Generation=Generation X",
         "orientation": "v",
         "showlegend": false,
         "textposition": "auto",
         "type": "bar",
         "uid": "47ba3383-b74d-4557-952c-dc7aeba0d3ba",
         "x": [
          "Generation X"
         ],
         "xaxis": "x5",
         "y": [
          0.253
         ],
         "yaxis": "y"
        },
        {
         "alignmentgroup": "True",
         "hovertemplate": "Category=Groceries<br>Generation=Millenials<br>Generation=%{x}<br>% of Spending=%{y}<extra></extra>",
         "legendgroup": "Generation=Millenials",
         "marker": {
          "color": "#00cc96"
         },
         "name": "Generation=Millenials",
         "offsetgroup": "Generation=Millenials",
         "orientation": "v",
         "showlegend": false,
         "textposition": "auto",
         "type": "bar",
         "uid": "65752931-496b-4124-a563-559e61397109",
         "x": [
          "Millenials"
         ],
         "xaxis": "x5",
         "y": [
          0.217
         ],
         "yaxis": "y"
        },
        {
         "alignmentgroup": "True",
         "hovertemplate": "Category=Groceries<br>Generation=Traditionalists<br>Generation=%{x}<br>% of Spending=%{y}<extra></extra>",
         "legendgroup": "Generation=Traditionalists",
         "marker": {
          "color": "#ab63fa"
         },
         "name": "Generation=Traditionalists",
         "offsetgroup": "Generation=Traditionalists",
         "orientation": "v",
         "showlegend": false,
         "textposition": "auto",
         "type": "bar",
         "uid": "b926f9fd-72a0-43ec-abdb-57691c6dc747",
         "x": [
          "Traditionalists"
         ],
         "xaxis": "x5",
         "y": [
          0.304
         ],
         "yaxis": "y"
        },
        {
         "alignmentgroup": "True",
         "hovertemplate": "Category=Pharmacies<br>Generation=Baby Boomers<br>Generation=%{x}<br>% of Spending=%{y}<extra></extra>",
         "legendgroup": "Generation=Baby Boomers",
         "marker": {
          "color": "#636efa"
         },
         "name": "Generation=Baby Boomers",
         "offsetgroup": "Generation=Baby Boomers",
         "orientation": "v",
         "showlegend": false,
         "textposition": "auto",
         "type": "bar",
         "uid": "afe1f142-ab2c-405d-84dd-a52f3e30974b",
         "x": [
          "Baby Boomers"
         ],
         "xaxis": "x6",
         "y": [
          0.037000000000000005
         ],
         "yaxis": "y"
        },
        {
         "alignmentgroup": "True",
         "hovertemplate": "Category=Pharmacies<br>Generation=Generation X<br>Generation=%{x}<br>% of Spending=%{y}<extra></extra>",
         "legendgroup": "Generation=Generation X",
         "marker": {
          "color": "#EF553B"
         },
         "name": "Generation=Generation X",
         "offsetgroup": "Generation=Generation X",
         "orientation": "v",
         "showlegend": false,
         "textposition": "auto",
         "type": "bar",
         "uid": "77951a0b-2a5f-4f58-a03e-6689acde9202",
         "x": [
          "Generation X"
         ],
         "xaxis": "x6",
         "y": [
          0.028999999999999998
         ],
         "yaxis": "y"
        },
        {
         "alignmentgroup": "True",
         "hovertemplate": "Category=Pharmacies<br>Generation=Millenials<br>Generation=%{x}<br>% of Spending=%{y}<extra></extra>",
         "legendgroup": "Generation=Millenials",
         "marker": {
          "color": "#00cc96"
         },
         "name": "Generation=Millenials",
         "offsetgroup": "Generation=Millenials",
         "orientation": "v",
         "showlegend": false,
         "textposition": "auto",
         "type": "bar",
         "uid": "9536b2f3-a030-43bd-b6c2-1ead83c30ce5",
         "x": [
          "Millenials"
         ],
         "xaxis": "x6",
         "y": [
          0.03
         ],
         "yaxis": "y"
        },
        {
         "alignmentgroup": "True",
         "hovertemplate": "Category=Pharmacies<br>Generation=Traditionalists<br>Generation=%{x}<br>% of Spending=%{y}<extra></extra>",
         "legendgroup": "Generation=Traditionalists",
         "marker": {
          "color": "#ab63fa"
         },
         "name": "Generation=Traditionalists",
         "offsetgroup": "Generation=Traditionalists",
         "orientation": "v",
         "showlegend": false,
         "textposition": "auto",
         "type": "bar",
         "uid": "f329a5b7-1bcb-4909-a4a9-202e98b3bc3c",
         "x": [
          "Traditionalists"
         ],
         "xaxis": "x6",
         "y": [
          0.064
         ],
         "yaxis": "y"
        },
        {
         "alignmentgroup": "True",
         "hovertemplate": "Category=Restaurants<br>Generation=Baby Boomers<br>Generation=%{x}<br>% of Spending=%{y}<extra></extra>",
         "legendgroup": "Generation=Baby Boomers",
         "marker": {
          "color": "#636efa"
         },
         "name": "Generation=Baby Boomers",
         "offsetgroup": "Generation=Baby Boomers",
         "orientation": "v",
         "showlegend": false,
         "textposition": "auto",
         "type": "bar",
         "uid": "0938cd01-bee3-4933-988d-4a2d47d2dc64",
         "x": [
          "Baby Boomers"
         ],
         "xaxis": "x7",
         "y": [
          0.135
         ],
         "yaxis": "y"
        },
        {
         "alignmentgroup": "True",
         "hovertemplate": "Category=Restaurants<br>Generation=Generation X<br>Generation=%{x}<br>% of Spending=%{y}<extra></extra>",
         "legendgroup": "Generation=Generation X",
         "marker": {
          "color": "#EF553B"
         },
         "name": "Generation=Generation X",
         "offsetgroup": "Generation=Generation X",
         "orientation": "v",
         "showlegend": false,
         "textposition": "auto",
         "type": "bar",
         "uid": "2ea23002-9766-4ecf-91b4-d325718ca101",
         "x": [
          "Generation X"
         ],
         "xaxis": "x7",
         "y": [
          0.177
         ],
         "yaxis": "y"
        },
        {
         "alignmentgroup": "True",
         "hovertemplate": "Category=Restaurants<br>Generation=Millenials<br>Generation=%{x}<br>% of Spending=%{y}<extra></extra>",
         "legendgroup": "Generation=Millenials",
         "marker": {
          "color": "#00cc96"
         },
         "name": "Generation=Millenials",
         "offsetgroup": "Generation=Millenials",
         "orientation": "v",
         "showlegend": false,
         "textposition": "auto",
         "type": "bar",
         "uid": "ef388402-cc94-422f-9b8a-cde3018724df",
         "x": [
          "Millenials"
         ],
         "xaxis": "x7",
         "y": [
          0.23800000000000002
         ],
         "yaxis": "y"
        },
        {
         "alignmentgroup": "True",
         "hovertemplate": "Category=Restaurants<br>Generation=Traditionalists<br>Generation=%{x}<br>% of Spending=%{y}<extra></extra>",
         "legendgroup": "Generation=Traditionalists",
         "marker": {
          "color": "#ab63fa"
         },
         "name": "Generation=Traditionalists",
         "offsetgroup": "Generation=Traditionalists",
         "orientation": "v",
         "showlegend": false,
         "textposition": "auto",
         "type": "bar",
         "uid": "18479b00-1fe2-4f7a-b1d3-fc94331cf601",
         "x": [
          "Traditionalists"
         ],
         "xaxis": "x7",
         "y": [
          0.128
         ],
         "yaxis": "y"
        }
       ],
       "layout": {
        "annotations": [
         {
          "showarrow": false,
          "text": "Category=Elec/Hobbies/Clothing",
          "textangle": 0,
          "x": 0.06521739130434782,
          "xanchor": "center",
          "xref": "paper",
          "y": 1.02,
          "yanchor": "middle",
          "yref": "paper"
         },
         {
          "showarrow": false,
          "text": "Category=Furniture/Building",
          "textangle": 0,
          "x": 0.21014492753623187,
          "xanchor": "center",
          "xref": "paper",
          "y": 1.02,
          "yanchor": "middle",
          "yref": "paper"
         },
         {
          "showarrow": false,
          "text": "Category=Gasoline",
          "textangle": 0,
          "x": 0.35507246376811596,
          "xanchor": "center",
          "xref": "paper",
          "y": 1.02,
          "yanchor": "middle",
          "yref": "paper"
         },
         {
          "showarrow": false,
          "text": "Category=General/Misc",
          "textangle": 0,
          "x": 0.5,
          "xanchor": "center",
          "xref": "paper",
          "y": 1.02,
          "yanchor": "middle",
          "yref": "paper"
         },
         {
          "showarrow": false,
          "text": "Category=Groceries",
          "textangle": 0,
          "x": 0.6449275362318841,
          "xanchor": "center",
          "xref": "paper",
          "y": 1.02,
          "yanchor": "middle",
          "yref": "paper"
         },
         {
          "showarrow": false,
          "text": "Category=Pharmacies",
          "textangle": 0,
          "x": 0.7898550724637682,
          "xanchor": "center",
          "xref": "paper",
          "y": 1.02,
          "yanchor": "middle",
          "yref": "paper"
         },
         {
          "showarrow": false,
          "text": "Category=Restaurants",
          "textangle": 0,
          "x": 0.9347826086956522,
          "xanchor": "center",
          "xref": "paper",
          "y": 1.02,
          "yanchor": "middle",
          "yref": "paper"
         }
        ],
        "barmode": "relative",
        "grid": {
         "xaxes": [
          "x",
          "x2",
          "x3",
          "x4",
          "x5",
          "x6",
          "x7"
         ],
         "xgap": 0.1,
         "xside": "bottom",
         "yaxes": [
          "y"
         ],
         "ygap": 0.1,
         "yside": "left"
        },
        "height": 600,
        "legend": {
         "tracegroupgap": 0
        },
        "template": {
         "data": {
          "bar": [
           {
            "marker": {
             "line": {
              "color": "#E5ECF6",
              "width": 0.5
             }
            },
            "type": "bar"
           }
          ],
          "barpolar": [
           {
            "marker": {
             "line": {
              "color": "#E5ECF6",
              "width": 0.5
             }
            },
            "type": "barpolar"
           }
          ],
          "carpet": [
           {
            "aaxis": {
             "endlinecolor": "#2a3f5f",
             "gridcolor": "white",
             "linecolor": "white",
             "minorgridcolor": "white",
             "startlinecolor": "#2a3f5f"
            },
            "baxis": {
             "endlinecolor": "#2a3f5f",
             "gridcolor": "white",
             "linecolor": "white",
             "minorgridcolor": "white",
             "startlinecolor": "#2a3f5f"
            },
            "type": "carpet"
           }
          ],
          "choropleth": [
           {
            "colorbar": {
             "outlinewidth": 0,
             "ticks": ""
            },
            "type": "choropleth"
           }
          ],
          "contour": [
           {
            "autocolorscale": true,
            "colorbar": {
             "outlinewidth": 0,
             "ticks": ""
            },
            "type": "contour"
           }
          ],
          "contourcarpet": [
           {
            "colorbar": {
             "outlinewidth": 0,
             "ticks": ""
            },
            "type": "contourcarpet"
           }
          ],
          "heatmap": [
           {
            "autocolorscale": true,
            "colorbar": {
             "outlinewidth": 0,
             "ticks": ""
            },
            "type": "heatmap"
           }
          ],
          "heatmapgl": [
           {
            "colorbar": {
             "outlinewidth": 0,
             "ticks": ""
            },
            "type": "heatmapgl"
           }
          ],
          "histogram": [
           {
            "marker": {
             "colorbar": {
              "outlinewidth": 0,
              "ticks": ""
             }
            },
            "type": "histogram"
           }
          ],
          "histogram2d": [
           {
            "autocolorscale": true,
            "colorbar": {
             "outlinewidth": 0,
             "ticks": ""
            },
            "type": "histogram2d"
           }
          ],
          "histogram2dcontour": [
           {
            "autocolorscale": true,
            "colorbar": {
             "outlinewidth": 0,
             "ticks": ""
            },
            "type": "histogram2dcontour"
           }
          ],
          "mesh3d": [
           {
            "colorbar": {
             "outlinewidth": 0,
             "ticks": ""
            },
            "type": "mesh3d"
           }
          ],
          "parcoords": [
           {
            "line": {
             "colorbar": {
              "outlinewidth": 0,
              "ticks": ""
             }
            },
            "type": "parcoords"
           }
          ],
          "scatter": [
           {
            "marker": {
             "colorbar": {
              "outlinewidth": 0,
              "ticks": ""
             }
            },
            "type": "scatter"
           }
          ],
          "scatter3d": [
           {
            "marker": {
             "colorbar": {
              "outlinewidth": 0,
              "ticks": ""
             }
            },
            "type": "scatter3d"
           }
          ],
          "scattercarpet": [
           {
            "marker": {
             "colorbar": {
              "outlinewidth": 0,
              "ticks": ""
             }
            },
            "type": "scattercarpet"
           }
          ],
          "scattergeo": [
           {
            "marker": {
             "colorbar": {
              "outlinewidth": 0,
              "ticks": ""
             }
            },
            "type": "scattergeo"
           }
          ],
          "scattergl": [
           {
            "marker": {
             "colorbar": {
              "outlinewidth": 0,
              "ticks": ""
             }
            },
            "type": "scattergl"
           }
          ],
          "scattermapbox": [
           {
            "marker": {
             "colorbar": {
              "outlinewidth": 0,
              "ticks": ""
             }
            },
            "type": "scattermapbox"
           }
          ],
          "scatterpolar": [
           {
            "marker": {
             "colorbar": {
              "outlinewidth": 0,
              "ticks": ""
             }
            },
            "type": "scatterpolar"
           }
          ],
          "scatterpolargl": [
           {
            "marker": {
             "colorbar": {
              "outlinewidth": 0,
              "ticks": ""
             }
            },
            "type": "scatterpolargl"
           }
          ],
          "scatterternary": [
           {
            "marker": {
             "colorbar": {
              "outlinewidth": 0,
              "ticks": ""
             }
            },
            "type": "scatterternary"
           }
          ],
          "surface": [
           {
            "colorbar": {
             "outlinewidth": 0,
             "ticks": ""
            },
            "type": "surface"
           }
          ],
          "table": [
           {
            "cells": {
             "fill": {
              "color": "#EBF0F8"
             },
             "line": {
              "color": "white"
             }
            },
            "header": {
             "fill": {
              "color": "#C8D4E3"
             },
             "line": {
              "color": "white"
             }
            },
            "type": "table"
           }
          ]
         },
         "layout": {
          "annotationdefaults": {
           "arrowcolor": "#506784",
           "arrowhead": 0,
           "arrowwidth": 1
          },
          "colorscale": {
           "diverging": [
            [
             0,
             "#8e0152"
            ],
            [
             0.1,
             "#c51b7d"
            ],
            [
             0.2,
             "#de77ae"
            ],
            [
             0.3,
             "#f1b6da"
            ],
            [
             0.4,
             "#fde0ef"
            ],
            [
             0.5,
             "#f7f7f7"
            ],
            [
             0.6,
             "#e6f5d0"
            ],
            [
             0.7,
             "#b8e186"
            ],
            [
             0.8,
             "#7fbc41"
            ],
            [
             0.9,
             "#4d9221"
            ],
            [
             1,
             "#276419"
            ]
           ],
           "sequential": [
            [
             0,
             "#0508b8"
            ],
            [
             0.0893854748603352,
             "#1910d8"
            ],
            [
             0.1787709497206704,
             "#3c19f0"
            ],
            [
             0.2681564245810056,
             "#6b1cfb"
            ],
            [
             0.3575418994413408,
             "#981cfd"
            ],
            [
             0.44692737430167595,
             "#bf1cfd"
            ],
            [
             0.5363128491620112,
             "#dd2bfd"
            ],
            [
             0.6256983240223464,
             "#f246fe"
            ],
            [
             0.7150837988826816,
             "#fc67fd"
            ],
            [
             0.8044692737430168,
             "#fe88fc"
            ],
            [
             0.8938547486033519,
             "#fea5fd"
            ],
            [
             0.9832402234636871,
             "#febefe"
            ],
            [
             1,
             "#fec3fe"
            ]
           ],
           "sequentialminus": [
            [
             0,
             "#0508b8"
            ],
            [
             0.0893854748603352,
             "#1910d8"
            ],
            [
             0.1787709497206704,
             "#3c19f0"
            ],
            [
             0.2681564245810056,
             "#6b1cfb"
            ],
            [
             0.3575418994413408,
             "#981cfd"
            ],
            [
             0.44692737430167595,
             "#bf1cfd"
            ],
            [
             0.5363128491620112,
             "#dd2bfd"
            ],
            [
             0.6256983240223464,
             "#f246fe"
            ],
            [
             0.7150837988826816,
             "#fc67fd"
            ],
            [
             0.8044692737430168,
             "#fe88fc"
            ],
            [
             0.8938547486033519,
             "#fea5fd"
            ],
            [
             0.9832402234636871,
             "#febefe"
            ],
            [
             1,
             "#fec3fe"
            ]
           ]
          },
          "colorway": [
           "#636efa",
           "#EF553B",
           "#00cc96",
           "#ab63fa",
           "#19d3f3",
           "#e763fa",
           "#FECB52",
           "#FFA15A",
           "#FF6692",
           "#B6E880"
          ],
          "font": {
           "color": "#2a3f5f"
          },
          "geo": {
           "bgcolor": "white",
           "lakecolor": "white",
           "landcolor": "#E5ECF6",
           "showlakes": true,
           "showland": true,
           "subunitcolor": "white"
          },
          "hovermode": "closest",
          "mapbox": {
           "style": "light"
          },
          "paper_bgcolor": "white",
          "plot_bgcolor": "#E5ECF6",
          "polar": {
           "angularaxis": {
            "gridcolor": "white",
            "linecolor": "white",
            "ticks": ""
           },
           "bgcolor": "#E5ECF6",
           "radialaxis": {
            "gridcolor": "white",
            "linecolor": "white",
            "ticks": ""
           }
          },
          "scene": {
           "xaxis": {
            "backgroundcolor": "#E5ECF6",
            "gridcolor": "white",
            "gridwidth": 2,
            "linecolor": "white",
            "showbackground": true,
            "ticks": "",
            "zerolinecolor": "white"
           },
           "yaxis": {
            "backgroundcolor": "#E5ECF6",
            "gridcolor": "white",
            "gridwidth": 2,
            "linecolor": "white",
            "showbackground": true,
            "ticks": "",
            "zerolinecolor": "white"
           },
           "zaxis": {
            "backgroundcolor": "#E5ECF6",
            "gridcolor": "white",
            "gridwidth": 2,
            "linecolor": "white",
            "showbackground": true,
            "ticks": "",
            "zerolinecolor": "white"
           }
          },
          "shapedefaults": {
           "fillcolor": "#506784",
           "line": {
            "width": 0
           },
           "opacity": 0.4
          },
          "ternary": {
           "aaxis": {
            "gridcolor": "white",
            "linecolor": "white",
            "ticks": ""
           },
           "baxis": {
            "gridcolor": "white",
            "linecolor": "white",
            "ticks": ""
           },
           "bgcolor": "#E5ECF6",
           "caxis": {
            "gridcolor": "white",
            "linecolor": "white",
            "ticks": ""
           }
          },
          "title": {
           "x": 0.05
          },
          "xaxis": {
           "automargin": true,
           "gridcolor": "white",
           "linecolor": "white",
           "ticks": "",
           "zerolinecolor": "white",
           "zerolinewidth": 2
          },
          "yaxis": {
           "automargin": true,
           "gridcolor": "white",
           "linecolor": "white",
           "ticks": "",
           "zerolinecolor": "white",
           "zerolinewidth": 2
          }
         }
        },
        "title": {
         "text": "Percent of Spending By Category and Generation"
        },
        "xaxis": {
         "categoryarray": [
          "Baby Boomers",
          "Generation X",
          "Millenials",
          "Traditionalists"
         ],
         "categoryorder": "array",
         "title": {
          "text": "Generation"
         }
        },
        "xaxis2": {
         "matches": "x",
         "title": {
          "text": "Generation"
         }
        },
        "xaxis3": {
         "matches": "x",
         "title": {
          "text": "Generation"
         }
        },
        "xaxis4": {
         "matches": "x",
         "title": {
          "text": "Generation"
         }
        },
        "xaxis5": {
         "matches": "x",
         "title": {
          "text": "Generation"
         }
        },
        "xaxis6": {
         "matches": "x",
         "title": {
          "text": "Generation"
         }
        },
        "xaxis7": {
         "matches": "x",
         "title": {
          "text": "Generation"
         }
        },
        "yaxis": {
         "title": {
          "text": "% of Spending"
         }
        }
       }
      },
      "text/html": [
       "<div id=\"d1538913-277c-4346-84ee-ab23ff24dfd2\" style=\"height: 600px; width: 100%;\" class=\"plotly-graph-div\"></div><script type=\"text/javascript\">require([\"plotly\"], function(Plotly) { window.PLOTLYENV=window.PLOTLYENV || {};window.PLOTLYENV.BASE_URL=\"https://plot.ly\";\n",
       "if (document.getElementById(\"d1538913-277c-4346-84ee-ab23ff24dfd2\")) {\n",
       "    Plotly.newPlot(\"d1538913-277c-4346-84ee-ab23ff24dfd2\", [{\"alignmentgroup\": \"True\", \"hovertemplate\": \"Category=Elec/Hobbies/Clothing<br>Generation=Baby Boomers<br>Generation=%{x}<br>% of Spending=%{y}<extra></extra>\", \"legendgroup\": \"Generation=Baby Boomers\", \"marker\": {\"color\": \"#636efa\"}, \"name\": \"Generation=Baby Boomers\", \"offsetgroup\": \"Generation=Baby Boomers\", \"orientation\": \"v\", \"showlegend\": true, \"textposition\": \"auto\", \"x\": [\"Baby Boomers\"], \"xaxis\": \"x\", \"y\": [0.147], \"yaxis\": \"y\", \"type\": \"bar\", \"uid\": \"301cf9ac-e72b-42c4-ac3c-7cd29a31091d\"}, {\"alignmentgroup\": \"True\", \"hovertemplate\": \"Category=Elec/Hobbies/Clothing<br>Generation=Generation X<br>Generation=%{x}<br>% of Spending=%{y}<extra></extra>\", \"legendgroup\": \"Generation=Generation X\", \"marker\": {\"color\": \"#EF553B\"}, \"name\": \"Generation=Generation X\", \"offsetgroup\": \"Generation=Generation X\", \"orientation\": \"v\", \"showlegend\": true, \"textposition\": \"auto\", \"x\": [\"Generation X\"], \"xaxis\": \"x\", \"y\": [0.168], \"yaxis\": \"y\", \"type\": \"bar\", \"uid\": \"598541ad-2d40-4cf1-ae5c-7c2fba4a0bdb\"}, {\"alignmentgroup\": \"True\", \"hovertemplate\": \"Category=Elec/Hobbies/Clothing<br>Generation=Millenials<br>Generation=%{x}<br>% of Spending=%{y}<extra></extra>\", \"legendgroup\": \"Generation=Millenials\", \"marker\": {\"color\": \"#00cc96\"}, \"name\": \"Generation=Millenials\", \"offsetgroup\": \"Generation=Millenials\", \"orientation\": \"v\", \"showlegend\": true, \"textposition\": \"auto\", \"x\": [\"Millenials\"], \"xaxis\": \"x\", \"y\": [0.185], \"yaxis\": \"y\", \"type\": \"bar\", \"uid\": \"9b3d0476-9f79-4743-b9ab-6e5699b7e51f\"}, {\"alignmentgroup\": \"True\", \"hovertemplate\": \"Category=Elec/Hobbies/Clothing<br>Generation=Traditionalists<br>Generation=%{x}<br>% of Spending=%{y}<extra></extra>\", \"legendgroup\": \"Generation=Traditionalists\", \"marker\": {\"color\": \"#ab63fa\"}, \"name\": \"Generation=Traditionalists\", \"offsetgroup\": \"Generation=Traditionalists\", \"orientation\": \"v\", \"showlegend\": true, \"textposition\": \"auto\", \"x\": [\"Traditionalists\"], \"xaxis\": \"x\", \"y\": [0.11800000000000001], \"yaxis\": \"y\", \"type\": \"bar\", \"uid\": \"4c189258-8f1c-4aa0-8919-58b5c951d52b\"}, {\"alignmentgroup\": \"True\", \"hovertemplate\": \"Category=Furniture/Building<br>Generation=Baby Boomers<br>Generation=%{x}<br>% of Spending=%{y}<extra></extra>\", \"legendgroup\": \"Generation=Baby Boomers\", \"marker\": {\"color\": \"#636efa\"}, \"name\": \"Generation=Baby Boomers\", \"offsetgroup\": \"Generation=Baby Boomers\", \"orientation\": \"v\", \"showlegend\": false, \"textposition\": \"auto\", \"x\": [\"Baby Boomers\"], \"xaxis\": \"x2\", \"y\": [0.1], \"yaxis\": \"y\", \"type\": \"bar\", \"uid\": \"21ef712f-524c-4c31-a552-17ab7e5a1721\"}, {\"alignmentgroup\": \"True\", \"hovertemplate\": \"Category=Furniture/Building<br>Generation=Generation X<br>Generation=%{x}<br>% of Spending=%{y}<extra></extra>\", \"legendgroup\": \"Generation=Generation X\", \"marker\": {\"color\": \"#EF553B\"}, \"name\": \"Generation=Generation X\", \"offsetgroup\": \"Generation=Generation X\", \"orientation\": \"v\", \"showlegend\": false, \"textposition\": \"auto\", \"x\": [\"Generation X\"], \"xaxis\": \"x2\", \"y\": [0.073], \"yaxis\": \"y\", \"type\": \"bar\", \"uid\": \"939977fd-a44c-4ecf-9519-e7cb911ab3d5\"}, {\"alignmentgroup\": \"True\", \"hovertemplate\": \"Category=Furniture/Building<br>Generation=Millenials<br>Generation=%{x}<br>% of Spending=%{y}<extra></extra>\", \"legendgroup\": \"Generation=Millenials\", \"marker\": {\"color\": \"#00cc96\"}, \"name\": \"Generation=Millenials\", \"offsetgroup\": \"Generation=Millenials\", \"orientation\": \"v\", \"showlegend\": false, \"textposition\": \"auto\", \"x\": [\"Millenials\"], \"xaxis\": \"x2\", \"y\": [0.045], \"yaxis\": \"y\", \"type\": \"bar\", \"uid\": \"e0c9b890-3711-4baf-9243-bb486d2955b5\"}, {\"alignmentgroup\": \"True\", \"hovertemplate\": \"Category=Furniture/Building<br>Generation=Traditionalists<br>Generation=%{x}<br>% of Spending=%{y}<extra></extra>\", \"legendgroup\": \"Generation=Traditionalists\", \"marker\": {\"color\": \"#ab63fa\"}, \"name\": \"Generation=Traditionalists\", \"offsetgroup\": \"Generation=Traditionalists\", \"orientation\": \"v\", \"showlegend\": false, \"textposition\": \"auto\", \"x\": [\"Traditionalists\"], \"xaxis\": \"x2\", \"y\": [0.094], \"yaxis\": \"y\", \"type\": \"bar\", \"uid\": \"14d847a1-e0aa-4124-8597-4b3d938b2df8\"}, {\"alignmentgroup\": \"True\", \"hovertemplate\": \"Category=Gasoline<br>Generation=Baby Boomers<br>Generation=%{x}<br>% of Spending=%{y}<extra></extra>\", \"legendgroup\": \"Generation=Baby Boomers\", \"marker\": {\"color\": \"#636efa\"}, \"name\": \"Generation=Baby Boomers\", \"offsetgroup\": \"Generation=Baby Boomers\", \"orientation\": \"v\", \"showlegend\": false, \"textposition\": \"auto\", \"x\": [\"Baby Boomers\"], \"xaxis\": \"x3\", \"y\": [0.085], \"yaxis\": \"y\", \"type\": \"bar\", \"uid\": \"d9c6e8f3-2bd5-433b-aa00-852581bdec2f\"}, {\"alignmentgroup\": \"True\", \"hovertemplate\": \"Category=Gasoline<br>Generation=Generation X<br>Generation=%{x}<br>% of Spending=%{y}<extra></extra>\", \"legendgroup\": \"Generation=Generation X\", \"marker\": {\"color\": \"#EF553B\"}, \"name\": \"Generation=Generation X\", \"offsetgroup\": \"Generation=Generation X\", \"orientation\": \"v\", \"showlegend\": false, \"textposition\": \"auto\", \"x\": [\"Generation X\"], \"xaxis\": \"x3\", \"y\": [0.09699999999999999], \"yaxis\": \"y\", \"type\": \"bar\", \"uid\": \"23fb71a7-adf0-4c31-8c2b-017183b2890e\"}, {\"alignmentgroup\": \"True\", \"hovertemplate\": \"Category=Gasoline<br>Generation=Millenials<br>Generation=%{x}<br>% of Spending=%{y}<extra></extra>\", \"legendgroup\": \"Generation=Millenials\", \"marker\": {\"color\": \"#00cc96\"}, \"name\": \"Generation=Millenials\", \"offsetgroup\": \"Generation=Millenials\", \"orientation\": \"v\", \"showlegend\": false, \"textposition\": \"auto\", \"x\": [\"Millenials\"], \"xaxis\": \"x3\", \"y\": [0.10800000000000001], \"yaxis\": \"y\", \"type\": \"bar\", \"uid\": \"0ce429e3-a189-4f35-80e3-84779a568d44\"}, {\"alignmentgroup\": \"True\", \"hovertemplate\": \"Category=Gasoline<br>Generation=Traditionalists<br>Generation=%{x}<br>% of Spending=%{y}<extra></extra>\", \"legendgroup\": \"Generation=Traditionalists\", \"marker\": {\"color\": \"#ab63fa\"}, \"name\": \"Generation=Traditionalists\", \"offsetgroup\": \"Generation=Traditionalists\", \"orientation\": \"v\", \"showlegend\": false, \"textposition\": \"auto\", \"x\": [\"Traditionalists\"], \"xaxis\": \"x3\", \"y\": [0.067], \"yaxis\": \"y\", \"type\": \"bar\", \"uid\": \"d6ce5b6d-03cb-451b-a4f6-9ba59f0842ac\"}, {\"alignmentgroup\": \"True\", \"hovertemplate\": \"Category=General/Misc<br>Generation=Baby Boomers<br>Generation=%{x}<br>% of Spending=%{y}<extra></extra>\", \"legendgroup\": \"Generation=Baby Boomers\", \"marker\": {\"color\": \"#636efa\"}, \"name\": \"Generation=Baby Boomers\", \"offsetgroup\": \"Generation=Baby Boomers\", \"orientation\": \"v\", \"showlegend\": false, \"textposition\": \"auto\", \"x\": [\"Baby Boomers\"], \"xaxis\": \"x4\", \"y\": [0.223], \"yaxis\": \"y\", \"type\": \"bar\", \"uid\": \"9c96b19a-9d37-4f17-abc3-872b9315b497\"}, {\"alignmentgroup\": \"True\", \"hovertemplate\": \"Category=General/Misc<br>Generation=Generation X<br>Generation=%{x}<br>% of Spending=%{y}<extra></extra>\", \"legendgroup\": \"Generation=Generation X\", \"marker\": {\"color\": \"#EF553B\"}, \"name\": \"Generation=Generation X\", \"offsetgroup\": \"Generation=Generation X\", \"orientation\": \"v\", \"showlegend\": false, \"textposition\": \"auto\", \"x\": [\"Generation X\"], \"xaxis\": \"x4\", \"y\": [0.203], \"yaxis\": \"y\", \"type\": \"bar\", \"uid\": \"b4a06ffb-6dff-42f0-8e2b-48ef02acd062\"}, {\"alignmentgroup\": \"True\", \"hovertemplate\": \"Category=General/Misc<br>Generation=Millenials<br>Generation=%{x}<br>% of Spending=%{y}<extra></extra>\", \"legendgroup\": \"Generation=Millenials\", \"marker\": {\"color\": \"#00cc96\"}, \"name\": \"Generation=Millenials\", \"offsetgroup\": \"Generation=Millenials\", \"orientation\": \"v\", \"showlegend\": false, \"textposition\": \"auto\", \"x\": [\"Millenials\"], \"xaxis\": \"x4\", \"y\": [0.177], \"yaxis\": \"y\", \"type\": \"bar\", \"uid\": \"c394c425-c26a-44cf-b8f5-b422c05edcf3\"}, {\"alignmentgroup\": \"True\", \"hovertemplate\": \"Category=General/Misc<br>Generation=Traditionalists<br>Generation=%{x}<br>% of Spending=%{y}<extra></extra>\", \"legendgroup\": \"Generation=Traditionalists\", \"marker\": {\"color\": \"#ab63fa\"}, \"name\": \"Generation=Traditionalists\", \"offsetgroup\": \"Generation=Traditionalists\", \"orientation\": \"v\", \"showlegend\": false, \"textposition\": \"auto\", \"x\": [\"Traditionalists\"], \"xaxis\": \"x4\", \"y\": [0.225], \"yaxis\": \"y\", \"type\": \"bar\", \"uid\": \"e888902a-ee92-43e7-9c11-ebf384bf5043\"}, {\"alignmentgroup\": \"True\", \"hovertemplate\": \"Category=Groceries<br>Generation=Baby Boomers<br>Generation=%{x}<br>% of Spending=%{y}<extra></extra>\", \"legendgroup\": \"Generation=Baby Boomers\", \"marker\": {\"color\": \"#636efa\"}, \"name\": \"Generation=Baby Boomers\", \"offsetgroup\": \"Generation=Baby Boomers\", \"orientation\": \"v\", \"showlegend\": false, \"textposition\": \"auto\", \"x\": [\"Baby Boomers\"], \"xaxis\": \"x5\", \"y\": [0.272], \"yaxis\": \"y\", \"type\": \"bar\", \"uid\": \"c5b4e791-1675-4f83-ae9c-fdc10e6b4a8d\"}, {\"alignmentgroup\": \"True\", \"hovertemplate\": \"Category=Groceries<br>Generation=Generation X<br>Generation=%{x}<br>% of Spending=%{y}<extra></extra>\", \"legendgroup\": \"Generation=Generation X\", \"marker\": {\"color\": \"#EF553B\"}, \"name\": \"Generation=Generation X\", \"offsetgroup\": \"Generation=Generation X\", \"orientation\": \"v\", \"showlegend\": false, \"textposition\": \"auto\", \"x\": [\"Generation X\"], \"xaxis\": \"x5\", \"y\": [0.253], \"yaxis\": \"y\", \"type\": \"bar\", \"uid\": \"47ba3383-b74d-4557-952c-dc7aeba0d3ba\"}, {\"alignmentgroup\": \"True\", \"hovertemplate\": \"Category=Groceries<br>Generation=Millenials<br>Generation=%{x}<br>% of Spending=%{y}<extra></extra>\", \"legendgroup\": \"Generation=Millenials\", \"marker\": {\"color\": \"#00cc96\"}, \"name\": \"Generation=Millenials\", \"offsetgroup\": \"Generation=Millenials\", \"orientation\": \"v\", \"showlegend\": false, \"textposition\": \"auto\", \"x\": [\"Millenials\"], \"xaxis\": \"x5\", \"y\": [0.217], \"yaxis\": \"y\", \"type\": \"bar\", \"uid\": \"65752931-496b-4124-a563-559e61397109\"}, {\"alignmentgroup\": \"True\", \"hovertemplate\": \"Category=Groceries<br>Generation=Traditionalists<br>Generation=%{x}<br>% of Spending=%{y}<extra></extra>\", \"legendgroup\": \"Generation=Traditionalists\", \"marker\": {\"color\": \"#ab63fa\"}, \"name\": \"Generation=Traditionalists\", \"offsetgroup\": \"Generation=Traditionalists\", \"orientation\": \"v\", \"showlegend\": false, \"textposition\": \"auto\", \"x\": [\"Traditionalists\"], \"xaxis\": \"x5\", \"y\": [0.304], \"yaxis\": \"y\", \"type\": \"bar\", \"uid\": \"b926f9fd-72a0-43ec-abdb-57691c6dc747\"}, {\"alignmentgroup\": \"True\", \"hovertemplate\": \"Category=Pharmacies<br>Generation=Baby Boomers<br>Generation=%{x}<br>% of Spending=%{y}<extra></extra>\", \"legendgroup\": \"Generation=Baby Boomers\", \"marker\": {\"color\": \"#636efa\"}, \"name\": \"Generation=Baby Boomers\", \"offsetgroup\": \"Generation=Baby Boomers\", \"orientation\": \"v\", \"showlegend\": false, \"textposition\": \"auto\", \"x\": [\"Baby Boomers\"], \"xaxis\": \"x6\", \"y\": [0.037000000000000005], \"yaxis\": \"y\", \"type\": \"bar\", \"uid\": \"afe1f142-ab2c-405d-84dd-a52f3e30974b\"}, {\"alignmentgroup\": \"True\", \"hovertemplate\": \"Category=Pharmacies<br>Generation=Generation X<br>Generation=%{x}<br>% of Spending=%{y}<extra></extra>\", \"legendgroup\": \"Generation=Generation X\", \"marker\": {\"color\": \"#EF553B\"}, \"name\": \"Generation=Generation X\", \"offsetgroup\": \"Generation=Generation X\", \"orientation\": \"v\", \"showlegend\": false, \"textposition\": \"auto\", \"x\": [\"Generation X\"], \"xaxis\": \"x6\", \"y\": [0.028999999999999998], \"yaxis\": \"y\", \"type\": \"bar\", \"uid\": \"77951a0b-2a5f-4f58-a03e-6689acde9202\"}, {\"alignmentgroup\": \"True\", \"hovertemplate\": \"Category=Pharmacies<br>Generation=Millenials<br>Generation=%{x}<br>% of Spending=%{y}<extra></extra>\", \"legendgroup\": \"Generation=Millenials\", \"marker\": {\"color\": \"#00cc96\"}, \"name\": \"Generation=Millenials\", \"offsetgroup\": \"Generation=Millenials\", \"orientation\": \"v\", \"showlegend\": false, \"textposition\": \"auto\", \"x\": [\"Millenials\"], \"xaxis\": \"x6\", \"y\": [0.03], \"yaxis\": \"y\", \"type\": \"bar\", \"uid\": \"9536b2f3-a030-43bd-b6c2-1ead83c30ce5\"}, {\"alignmentgroup\": \"True\", \"hovertemplate\": \"Category=Pharmacies<br>Generation=Traditionalists<br>Generation=%{x}<br>% of Spending=%{y}<extra></extra>\", \"legendgroup\": \"Generation=Traditionalists\", \"marker\": {\"color\": \"#ab63fa\"}, \"name\": \"Generation=Traditionalists\", \"offsetgroup\": \"Generation=Traditionalists\", \"orientation\": \"v\", \"showlegend\": false, \"textposition\": \"auto\", \"x\": [\"Traditionalists\"], \"xaxis\": \"x6\", \"y\": [0.064], \"yaxis\": \"y\", \"type\": \"bar\", \"uid\": \"f329a5b7-1bcb-4909-a4a9-202e98b3bc3c\"}, {\"alignmentgroup\": \"True\", \"hovertemplate\": \"Category=Restaurants<br>Generation=Baby Boomers<br>Generation=%{x}<br>% of Spending=%{y}<extra></extra>\", \"legendgroup\": \"Generation=Baby Boomers\", \"marker\": {\"color\": \"#636efa\"}, \"name\": \"Generation=Baby Boomers\", \"offsetgroup\": \"Generation=Baby Boomers\", \"orientation\": \"v\", \"showlegend\": false, \"textposition\": \"auto\", \"x\": [\"Baby Boomers\"], \"xaxis\": \"x7\", \"y\": [0.135], \"yaxis\": \"y\", \"type\": \"bar\", \"uid\": \"0938cd01-bee3-4933-988d-4a2d47d2dc64\"}, {\"alignmentgroup\": \"True\", \"hovertemplate\": \"Category=Restaurants<br>Generation=Generation X<br>Generation=%{x}<br>% of Spending=%{y}<extra></extra>\", \"legendgroup\": \"Generation=Generation X\", \"marker\": {\"color\": \"#EF553B\"}, \"name\": \"Generation=Generation X\", \"offsetgroup\": \"Generation=Generation X\", \"orientation\": \"v\", \"showlegend\": false, \"textposition\": \"auto\", \"x\": [\"Generation X\"], \"xaxis\": \"x7\", \"y\": [0.177], \"yaxis\": \"y\", \"type\": \"bar\", \"uid\": \"2ea23002-9766-4ecf-91b4-d325718ca101\"}, {\"alignmentgroup\": \"True\", \"hovertemplate\": \"Category=Restaurants<br>Generation=Millenials<br>Generation=%{x}<br>% of Spending=%{y}<extra></extra>\", \"legendgroup\": \"Generation=Millenials\", \"marker\": {\"color\": \"#00cc96\"}, \"name\": \"Generation=Millenials\", \"offsetgroup\": \"Generation=Millenials\", \"orientation\": \"v\", \"showlegend\": false, \"textposition\": \"auto\", \"x\": [\"Millenials\"], \"xaxis\": \"x7\", \"y\": [0.23800000000000002], \"yaxis\": \"y\", \"type\": \"bar\", \"uid\": \"ef388402-cc94-422f-9b8a-cde3018724df\"}, {\"alignmentgroup\": \"True\", \"hovertemplate\": \"Category=Restaurants<br>Generation=Traditionalists<br>Generation=%{x}<br>% of Spending=%{y}<extra></extra>\", \"legendgroup\": \"Generation=Traditionalists\", \"marker\": {\"color\": \"#ab63fa\"}, \"name\": \"Generation=Traditionalists\", \"offsetgroup\": \"Generation=Traditionalists\", \"orientation\": \"v\", \"showlegend\": false, \"textposition\": \"auto\", \"x\": [\"Traditionalists\"], \"xaxis\": \"x7\", \"y\": [0.128], \"yaxis\": \"y\", \"type\": \"bar\", \"uid\": \"18479b00-1fe2-4f7a-b1d3-fc94331cf601\"}], {\"barmode\": \"relative\", \"height\": 600, \"legend\": {\"tracegroupgap\": 0}, \"template\": {\"data\": {\"barpolar\": [{\"marker\": {\"line\": {\"color\": \"#E5ECF6\", \"width\": 0.5}}, \"type\": \"barpolar\"}], \"bar\": [{\"marker\": {\"line\": {\"color\": \"#E5ECF6\", \"width\": 0.5}}, \"type\": \"bar\"}], \"carpet\": [{\"aaxis\": {\"endlinecolor\": \"#2a3f5f\", \"gridcolor\": \"white\", \"linecolor\": \"white\", \"minorgridcolor\": \"white\", \"startlinecolor\": \"#2a3f5f\"}, \"baxis\": {\"endlinecolor\": \"#2a3f5f\", \"gridcolor\": \"white\", \"linecolor\": \"white\", \"minorgridcolor\": \"white\", \"startlinecolor\": \"#2a3f5f\"}, \"type\": \"carpet\"}], \"choropleth\": [{\"colorbar\": {\"outlinewidth\": 0, \"ticks\": \"\"}, \"type\": \"choropleth\"}], \"contourcarpet\": [{\"colorbar\": {\"outlinewidth\": 0, \"ticks\": \"\"}, \"type\": \"contourcarpet\"}], \"contour\": [{\"autocolorscale\": true, \"colorbar\": {\"outlinewidth\": 0, \"ticks\": \"\"}, \"type\": \"contour\"}], \"heatmapgl\": [{\"colorbar\": {\"outlinewidth\": 0, \"ticks\": \"\"}, \"type\": \"heatmapgl\"}], \"heatmap\": [{\"autocolorscale\": true, \"colorbar\": {\"outlinewidth\": 0, \"ticks\": \"\"}, \"type\": \"heatmap\"}], \"histogram2dcontour\": [{\"autocolorscale\": true, \"colorbar\": {\"outlinewidth\": 0, \"ticks\": \"\"}, \"type\": \"histogram2dcontour\"}], \"histogram2d\": [{\"autocolorscale\": true, \"colorbar\": {\"outlinewidth\": 0, \"ticks\": \"\"}, \"type\": \"histogram2d\"}], \"histogram\": [{\"marker\": {\"colorbar\": {\"outlinewidth\": 0, \"ticks\": \"\"}}, \"type\": \"histogram\"}], \"mesh3d\": [{\"colorbar\": {\"outlinewidth\": 0, \"ticks\": \"\"}, \"type\": \"mesh3d\"}], \"parcoords\": [{\"line\": {\"colorbar\": {\"outlinewidth\": 0, \"ticks\": \"\"}}, \"type\": \"parcoords\"}], \"scatter3d\": [{\"marker\": {\"colorbar\": {\"outlinewidth\": 0, \"ticks\": \"\"}}, \"type\": \"scatter3d\"}], \"scattercarpet\": [{\"marker\": {\"colorbar\": {\"outlinewidth\": 0, \"ticks\": \"\"}}, \"type\": \"scattercarpet\"}], \"scattergeo\": [{\"marker\": {\"colorbar\": {\"outlinewidth\": 0, \"ticks\": \"\"}}, \"type\": \"scattergeo\"}], \"scattergl\": [{\"marker\": {\"colorbar\": {\"outlinewidth\": 0, \"ticks\": \"\"}}, \"type\": \"scattergl\"}], \"scattermapbox\": [{\"marker\": {\"colorbar\": {\"outlinewidth\": 0, \"ticks\": \"\"}}, \"type\": \"scattermapbox\"}], \"scatterpolargl\": [{\"marker\": {\"colorbar\": {\"outlinewidth\": 0, \"ticks\": \"\"}}, \"type\": \"scatterpolargl\"}], \"scatterpolar\": [{\"marker\": {\"colorbar\": {\"outlinewidth\": 0, \"ticks\": \"\"}}, \"type\": \"scatterpolar\"}], \"scatter\": [{\"marker\": {\"colorbar\": {\"outlinewidth\": 0, \"ticks\": \"\"}}, \"type\": \"scatter\"}], \"scatterternary\": [{\"marker\": {\"colorbar\": {\"outlinewidth\": 0, \"ticks\": \"\"}}, \"type\": \"scatterternary\"}], \"surface\": [{\"colorbar\": {\"outlinewidth\": 0, \"ticks\": \"\"}, \"type\": \"surface\"}], \"table\": [{\"cells\": {\"fill\": {\"color\": \"#EBF0F8\"}, \"line\": {\"color\": \"white\"}}, \"header\": {\"fill\": {\"color\": \"#C8D4E3\"}, \"line\": {\"color\": \"white\"}}, \"type\": \"table\"}]}, \"layout\": {\"annotationdefaults\": {\"arrowcolor\": \"#506784\", \"arrowhead\": 0, \"arrowwidth\": 1}, \"colorscale\": {\"diverging\": [[0, \"#8e0152\"], [0.1, \"#c51b7d\"], [0.2, \"#de77ae\"], [0.3, \"#f1b6da\"], [0.4, \"#fde0ef\"], [0.5, \"#f7f7f7\"], [0.6, \"#e6f5d0\"], [0.7, \"#b8e186\"], [0.8, \"#7fbc41\"], [0.9, \"#4d9221\"], [1, \"#276419\"]], \"sequential\": [[0.0, \"#0508b8\"], [0.0893854748603352, \"#1910d8\"], [0.1787709497206704, \"#3c19f0\"], [0.2681564245810056, \"#6b1cfb\"], [0.3575418994413408, \"#981cfd\"], [0.44692737430167595, \"#bf1cfd\"], [0.5363128491620112, \"#dd2bfd\"], [0.6256983240223464, \"#f246fe\"], [0.7150837988826816, \"#fc67fd\"], [0.8044692737430168, \"#fe88fc\"], [0.8938547486033519, \"#fea5fd\"], [0.9832402234636871, \"#febefe\"], [1.0, \"#fec3fe\"]], \"sequentialminus\": [[0.0, \"#0508b8\"], [0.0893854748603352, \"#1910d8\"], [0.1787709497206704, \"#3c19f0\"], [0.2681564245810056, \"#6b1cfb\"], [0.3575418994413408, \"#981cfd\"], [0.44692737430167595, \"#bf1cfd\"], [0.5363128491620112, \"#dd2bfd\"], [0.6256983240223464, \"#f246fe\"], [0.7150837988826816, \"#fc67fd\"], [0.8044692737430168, \"#fe88fc\"], [0.8938547486033519, \"#fea5fd\"], [0.9832402234636871, \"#febefe\"], [1.0, \"#fec3fe\"]]}, \"colorway\": [\"#636efa\", \"#EF553B\", \"#00cc96\", \"#ab63fa\", \"#19d3f3\", \"#e763fa\", \"#FECB52\", \"#FFA15A\", \"#FF6692\", \"#B6E880\"], \"font\": {\"color\": \"#2a3f5f\"}, \"geo\": {\"bgcolor\": \"white\", \"lakecolor\": \"white\", \"landcolor\": \"#E5ECF6\", \"showlakes\": true, \"showland\": true, \"subunitcolor\": \"white\"}, \"hovermode\": \"closest\", \"mapbox\": {\"style\": \"light\"}, \"paper_bgcolor\": \"white\", \"plot_bgcolor\": \"#E5ECF6\", \"polar\": {\"angularaxis\": {\"gridcolor\": \"white\", \"linecolor\": \"white\", \"ticks\": \"\"}, \"bgcolor\": \"#E5ECF6\", \"radialaxis\": {\"gridcolor\": \"white\", \"linecolor\": \"white\", \"ticks\": \"\"}}, \"scene\": {\"xaxis\": {\"backgroundcolor\": \"#E5ECF6\", \"gridcolor\": \"white\", \"gridwidth\": 2, \"linecolor\": \"white\", \"showbackground\": true, \"ticks\": \"\", \"zerolinecolor\": \"white\"}, \"yaxis\": {\"backgroundcolor\": \"#E5ECF6\", \"gridcolor\": \"white\", \"gridwidth\": 2, \"linecolor\": \"white\", \"showbackground\": true, \"ticks\": \"\", \"zerolinecolor\": \"white\"}, \"zaxis\": {\"backgroundcolor\": \"#E5ECF6\", \"gridcolor\": \"white\", \"gridwidth\": 2, \"linecolor\": \"white\", \"showbackground\": true, \"ticks\": \"\", \"zerolinecolor\": \"white\"}}, \"shapedefaults\": {\"fillcolor\": \"#506784\", \"line\": {\"width\": 0}, \"opacity\": 0.4}, \"ternary\": {\"aaxis\": {\"gridcolor\": \"white\", \"linecolor\": \"white\", \"ticks\": \"\"}, \"baxis\": {\"gridcolor\": \"white\", \"linecolor\": \"white\", \"ticks\": \"\"}, \"bgcolor\": \"#E5ECF6\", \"caxis\": {\"gridcolor\": \"white\", \"linecolor\": \"white\", \"ticks\": \"\"}}, \"title\": {\"x\": 0.05}, \"xaxis\": {\"automargin\": true, \"gridcolor\": \"white\", \"linecolor\": \"white\", \"ticks\": \"\", \"zerolinecolor\": \"white\", \"zerolinewidth\": 2}, \"yaxis\": {\"automargin\": true, \"gridcolor\": \"white\", \"linecolor\": \"white\", \"ticks\": \"\", \"zerolinecolor\": \"white\", \"zerolinewidth\": 2}}}, \"title\": {\"text\": \"Percent of Spending By Category and Generation\"}, \"grid\": {\"xaxes\": [\"x\", \"x2\", \"x3\", \"x4\", \"x5\", \"x6\", \"x7\"], \"yaxes\": [\"y\"], \"xgap\": 0.1, \"ygap\": 0.1, \"xside\": \"bottom\", \"yside\": \"left\"}, \"xaxis\": {\"title\": {\"text\": \"Generation\"}, \"categoryorder\": \"array\", \"categoryarray\": [\"Baby Boomers\", \"Generation X\", \"Millenials\", \"Traditionalists\"]}, \"xaxis2\": {\"title\": {\"text\": \"Generation\"}, \"matches\": \"x\"}, \"xaxis3\": {\"title\": {\"text\": \"Generation\"}, \"matches\": \"x\"}, \"xaxis4\": {\"title\": {\"text\": \"Generation\"}, \"matches\": \"x\"}, \"xaxis5\": {\"title\": {\"text\": \"Generation\"}, \"matches\": \"x\"}, \"xaxis6\": {\"title\": {\"text\": \"Generation\"}, \"matches\": \"x\"}, \"xaxis7\": {\"title\": {\"text\": \"Generation\"}, \"matches\": \"x\"}, \"annotations\": [{\"showarrow\": false, \"text\": \"Category=Elec/Hobbies/Clothing\", \"textangle\": 0, \"x\": 0.06521739130434782, \"xanchor\": \"center\", \"xref\": \"paper\", \"y\": 1.02, \"yanchor\": \"middle\", \"yref\": \"paper\"}, {\"showarrow\": false, \"text\": \"Category=Furniture/Building\", \"textangle\": 0, \"x\": 0.21014492753623187, \"xanchor\": \"center\", \"xref\": \"paper\", \"y\": 1.02, \"yanchor\": \"middle\", \"yref\": \"paper\"}, {\"showarrow\": false, \"text\": \"Category=Gasoline\", \"textangle\": 0, \"x\": 0.35507246376811596, \"xanchor\": \"center\", \"xref\": \"paper\", \"y\": 1.02, \"yanchor\": \"middle\", \"yref\": \"paper\"}, {\"showarrow\": false, \"text\": \"Category=General/Misc\", \"textangle\": 0, \"x\": 0.5, \"xanchor\": \"center\", \"xref\": \"paper\", \"y\": 1.02, \"yanchor\": \"middle\", \"yref\": \"paper\"}, {\"showarrow\": false, \"text\": \"Category=Groceries\", \"textangle\": 0, \"x\": 0.6449275362318841, \"xanchor\": \"center\", \"xref\": \"paper\", \"y\": 1.02, \"yanchor\": \"middle\", \"yref\": \"paper\"}, {\"showarrow\": false, \"text\": \"Category=Pharmacies\", \"textangle\": 0, \"x\": 0.7898550724637682, \"xanchor\": \"center\", \"xref\": \"paper\", \"y\": 1.02, \"yanchor\": \"middle\", \"yref\": \"paper\"}, {\"showarrow\": false, \"text\": \"Category=Restaurants\", \"textangle\": 0, \"x\": 0.9347826086956522, \"xanchor\": \"center\", \"xref\": \"paper\", \"y\": 1.02, \"yanchor\": \"middle\", \"yref\": \"paper\"}], \"yaxis\": {\"title\": {\"text\": \"% of Spending\"}}}, {\"showLink\": false, \"linkText\": \"Export to plot.ly\", \"plotlyServerURL\": \"https://plot.ly\"}); \n",
       "}\n",
       "});</script><script type=\"text/javascript\">window.addEventListener(\"resize\", function(){if (document.getElementById(\"d1538913-277c-4346-84ee-ab23ff24dfd2\")) {window._Plotly.Plots.resize(document.getElementById(\"d1538913-277c-4346-84ee-ab23ff24dfd2\"));};})</script>"
      ],
      "text/vnd.plotly.v1+html": [
       "<div id=\"d1538913-277c-4346-84ee-ab23ff24dfd2\" style=\"height: 600px; width: 100%;\" class=\"plotly-graph-div\"></div><script type=\"text/javascript\">require([\"plotly\"], function(Plotly) { window.PLOTLYENV=window.PLOTLYENV || {};window.PLOTLYENV.BASE_URL=\"https://plot.ly\";\n",
       "if (document.getElementById(\"d1538913-277c-4346-84ee-ab23ff24dfd2\")) {\n",
       "    Plotly.newPlot(\"d1538913-277c-4346-84ee-ab23ff24dfd2\", [{\"alignmentgroup\": \"True\", \"hovertemplate\": \"Category=Elec/Hobbies/Clothing<br>Generation=Baby Boomers<br>Generation=%{x}<br>% of Spending=%{y}<extra></extra>\", \"legendgroup\": \"Generation=Baby Boomers\", \"marker\": {\"color\": \"#636efa\"}, \"name\": \"Generation=Baby Boomers\", \"offsetgroup\": \"Generation=Baby Boomers\", \"orientation\": \"v\", \"showlegend\": true, \"textposition\": \"auto\", \"x\": [\"Baby Boomers\"], \"xaxis\": \"x\", \"y\": [0.147], \"yaxis\": \"y\", \"type\": \"bar\", \"uid\": \"301cf9ac-e72b-42c4-ac3c-7cd29a31091d\"}, {\"alignmentgroup\": \"True\", \"hovertemplate\": \"Category=Elec/Hobbies/Clothing<br>Generation=Generation X<br>Generation=%{x}<br>% of Spending=%{y}<extra></extra>\", \"legendgroup\": \"Generation=Generation X\", \"marker\": {\"color\": \"#EF553B\"}, \"name\": \"Generation=Generation X\", \"offsetgroup\": \"Generation=Generation X\", \"orientation\": \"v\", \"showlegend\": true, \"textposition\": \"auto\", \"x\": [\"Generation X\"], \"xaxis\": \"x\", \"y\": [0.168], \"yaxis\": \"y\", \"type\": \"bar\", \"uid\": \"598541ad-2d40-4cf1-ae5c-7c2fba4a0bdb\"}, {\"alignmentgroup\": \"True\", \"hovertemplate\": \"Category=Elec/Hobbies/Clothing<br>Generation=Millenials<br>Generation=%{x}<br>% of Spending=%{y}<extra></extra>\", \"legendgroup\": \"Generation=Millenials\", \"marker\": {\"color\": \"#00cc96\"}, \"name\": \"Generation=Millenials\", \"offsetgroup\": \"Generation=Millenials\", \"orientation\": \"v\", \"showlegend\": true, \"textposition\": \"auto\", \"x\": [\"Millenials\"], \"xaxis\": \"x\", \"y\": [0.185], \"yaxis\": \"y\", \"type\": \"bar\", \"uid\": \"9b3d0476-9f79-4743-b9ab-6e5699b7e51f\"}, {\"alignmentgroup\": \"True\", \"hovertemplate\": \"Category=Elec/Hobbies/Clothing<br>Generation=Traditionalists<br>Generation=%{x}<br>% of Spending=%{y}<extra></extra>\", \"legendgroup\": \"Generation=Traditionalists\", \"marker\": {\"color\": \"#ab63fa\"}, \"name\": \"Generation=Traditionalists\", \"offsetgroup\": \"Generation=Traditionalists\", \"orientation\": \"v\", \"showlegend\": true, \"textposition\": \"auto\", \"x\": [\"Traditionalists\"], \"xaxis\": \"x\", \"y\": [0.11800000000000001], \"yaxis\": \"y\", \"type\": \"bar\", \"uid\": \"4c189258-8f1c-4aa0-8919-58b5c951d52b\"}, {\"alignmentgroup\": \"True\", \"hovertemplate\": \"Category=Furniture/Building<br>Generation=Baby Boomers<br>Generation=%{x}<br>% of Spending=%{y}<extra></extra>\", \"legendgroup\": \"Generation=Baby Boomers\", \"marker\": {\"color\": \"#636efa\"}, \"name\": \"Generation=Baby Boomers\", \"offsetgroup\": \"Generation=Baby Boomers\", \"orientation\": \"v\", \"showlegend\": false, \"textposition\": \"auto\", \"x\": [\"Baby Boomers\"], \"xaxis\": \"x2\", \"y\": [0.1], \"yaxis\": \"y\", \"type\": \"bar\", \"uid\": \"21ef712f-524c-4c31-a552-17ab7e5a1721\"}, {\"alignmentgroup\": \"True\", \"hovertemplate\": \"Category=Furniture/Building<br>Generation=Generation X<br>Generation=%{x}<br>% of Spending=%{y}<extra></extra>\", \"legendgroup\": \"Generation=Generation X\", \"marker\": {\"color\": \"#EF553B\"}, \"name\": \"Generation=Generation X\", \"offsetgroup\": \"Generation=Generation X\", \"orientation\": \"v\", \"showlegend\": false, \"textposition\": \"auto\", \"x\": [\"Generation X\"], \"xaxis\": \"x2\", \"y\": [0.073], \"yaxis\": \"y\", \"type\": \"bar\", \"uid\": \"939977fd-a44c-4ecf-9519-e7cb911ab3d5\"}, {\"alignmentgroup\": \"True\", \"hovertemplate\": \"Category=Furniture/Building<br>Generation=Millenials<br>Generation=%{x}<br>% of Spending=%{y}<extra></extra>\", \"legendgroup\": \"Generation=Millenials\", \"marker\": {\"color\": \"#00cc96\"}, \"name\": \"Generation=Millenials\", \"offsetgroup\": \"Generation=Millenials\", \"orientation\": \"v\", \"showlegend\": false, \"textposition\": \"auto\", \"x\": [\"Millenials\"], \"xaxis\": \"x2\", \"y\": [0.045], \"yaxis\": \"y\", \"type\": \"bar\", \"uid\": \"e0c9b890-3711-4baf-9243-bb486d2955b5\"}, {\"alignmentgroup\": \"True\", \"hovertemplate\": \"Category=Furniture/Building<br>Generation=Traditionalists<br>Generation=%{x}<br>% of Spending=%{y}<extra></extra>\", \"legendgroup\": \"Generation=Traditionalists\", \"marker\": {\"color\": \"#ab63fa\"}, \"name\": \"Generation=Traditionalists\", \"offsetgroup\": \"Generation=Traditionalists\", \"orientation\": \"v\", \"showlegend\": false, \"textposition\": \"auto\", \"x\": [\"Traditionalists\"], \"xaxis\": \"x2\", \"y\": [0.094], \"yaxis\": \"y\", \"type\": \"bar\", \"uid\": \"14d847a1-e0aa-4124-8597-4b3d938b2df8\"}, {\"alignmentgroup\": \"True\", \"hovertemplate\": \"Category=Gasoline<br>Generation=Baby Boomers<br>Generation=%{x}<br>% of Spending=%{y}<extra></extra>\", \"legendgroup\": \"Generation=Baby Boomers\", \"marker\": {\"color\": \"#636efa\"}, \"name\": \"Generation=Baby Boomers\", \"offsetgroup\": \"Generation=Baby Boomers\", \"orientation\": \"v\", \"showlegend\": false, \"textposition\": \"auto\", \"x\": [\"Baby Boomers\"], \"xaxis\": \"x3\", \"y\": [0.085], \"yaxis\": \"y\", \"type\": \"bar\", \"uid\": \"d9c6e8f3-2bd5-433b-aa00-852581bdec2f\"}, {\"alignmentgroup\": \"True\", \"hovertemplate\": \"Category=Gasoline<br>Generation=Generation X<br>Generation=%{x}<br>% of Spending=%{y}<extra></extra>\", \"legendgroup\": \"Generation=Generation X\", \"marker\": {\"color\": \"#EF553B\"}, \"name\": \"Generation=Generation X\", \"offsetgroup\": \"Generation=Generation X\", \"orientation\": \"v\", \"showlegend\": false, \"textposition\": \"auto\", \"x\": [\"Generation X\"], \"xaxis\": \"x3\", \"y\": [0.09699999999999999], \"yaxis\": \"y\", \"type\": \"bar\", \"uid\": \"23fb71a7-adf0-4c31-8c2b-017183b2890e\"}, {\"alignmentgroup\": \"True\", \"hovertemplate\": \"Category=Gasoline<br>Generation=Millenials<br>Generation=%{x}<br>% of Spending=%{y}<extra></extra>\", \"legendgroup\": \"Generation=Millenials\", \"marker\": {\"color\": \"#00cc96\"}, \"name\": \"Generation=Millenials\", \"offsetgroup\": \"Generation=Millenials\", \"orientation\": \"v\", \"showlegend\": false, \"textposition\": \"auto\", \"x\": [\"Millenials\"], \"xaxis\": \"x3\", \"y\": [0.10800000000000001], \"yaxis\": \"y\", \"type\": \"bar\", \"uid\": \"0ce429e3-a189-4f35-80e3-84779a568d44\"}, {\"alignmentgroup\": \"True\", \"hovertemplate\": \"Category=Gasoline<br>Generation=Traditionalists<br>Generation=%{x}<br>% of Spending=%{y}<extra></extra>\", \"legendgroup\": \"Generation=Traditionalists\", \"marker\": {\"color\": \"#ab63fa\"}, \"name\": \"Generation=Traditionalists\", \"offsetgroup\": \"Generation=Traditionalists\", \"orientation\": \"v\", \"showlegend\": false, \"textposition\": \"auto\", \"x\": [\"Traditionalists\"], \"xaxis\": \"x3\", \"y\": [0.067], \"yaxis\": \"y\", \"type\": \"bar\", \"uid\": \"d6ce5b6d-03cb-451b-a4f6-9ba59f0842ac\"}, {\"alignmentgroup\": \"True\", \"hovertemplate\": \"Category=General/Misc<br>Generation=Baby Boomers<br>Generation=%{x}<br>% of Spending=%{y}<extra></extra>\", \"legendgroup\": \"Generation=Baby Boomers\", \"marker\": {\"color\": \"#636efa\"}, \"name\": \"Generation=Baby Boomers\", \"offsetgroup\": \"Generation=Baby Boomers\", \"orientation\": \"v\", \"showlegend\": false, \"textposition\": \"auto\", \"x\": [\"Baby Boomers\"], \"xaxis\": \"x4\", \"y\": [0.223], \"yaxis\": \"y\", \"type\": \"bar\", \"uid\": \"9c96b19a-9d37-4f17-abc3-872b9315b497\"}, {\"alignmentgroup\": \"True\", \"hovertemplate\": \"Category=General/Misc<br>Generation=Generation X<br>Generation=%{x}<br>% of Spending=%{y}<extra></extra>\", \"legendgroup\": \"Generation=Generation X\", \"marker\": {\"color\": \"#EF553B\"}, \"name\": \"Generation=Generation X\", \"offsetgroup\": \"Generation=Generation X\", \"orientation\": \"v\", \"showlegend\": false, \"textposition\": \"auto\", \"x\": [\"Generation X\"], \"xaxis\": \"x4\", \"y\": [0.203], \"yaxis\": \"y\", \"type\": \"bar\", \"uid\": \"b4a06ffb-6dff-42f0-8e2b-48ef02acd062\"}, {\"alignmentgroup\": \"True\", \"hovertemplate\": \"Category=General/Misc<br>Generation=Millenials<br>Generation=%{x}<br>% of Spending=%{y}<extra></extra>\", \"legendgroup\": \"Generation=Millenials\", \"marker\": {\"color\": \"#00cc96\"}, \"name\": \"Generation=Millenials\", \"offsetgroup\": \"Generation=Millenials\", \"orientation\": \"v\", \"showlegend\": false, \"textposition\": \"auto\", \"x\": [\"Millenials\"], \"xaxis\": \"x4\", \"y\": [0.177], \"yaxis\": \"y\", \"type\": \"bar\", \"uid\": \"c394c425-c26a-44cf-b8f5-b422c05edcf3\"}, {\"alignmentgroup\": \"True\", \"hovertemplate\": \"Category=General/Misc<br>Generation=Traditionalists<br>Generation=%{x}<br>% of Spending=%{y}<extra></extra>\", \"legendgroup\": \"Generation=Traditionalists\", \"marker\": {\"color\": \"#ab63fa\"}, \"name\": \"Generation=Traditionalists\", \"offsetgroup\": \"Generation=Traditionalists\", \"orientation\": \"v\", \"showlegend\": false, \"textposition\": \"auto\", \"x\": [\"Traditionalists\"], \"xaxis\": \"x4\", \"y\": [0.225], \"yaxis\": \"y\", \"type\": \"bar\", \"uid\": \"e888902a-ee92-43e7-9c11-ebf384bf5043\"}, {\"alignmentgroup\": \"True\", \"hovertemplate\": \"Category=Groceries<br>Generation=Baby Boomers<br>Generation=%{x}<br>% of Spending=%{y}<extra></extra>\", \"legendgroup\": \"Generation=Baby Boomers\", \"marker\": {\"color\": \"#636efa\"}, \"name\": \"Generation=Baby Boomers\", \"offsetgroup\": \"Generation=Baby Boomers\", \"orientation\": \"v\", \"showlegend\": false, \"textposition\": \"auto\", \"x\": [\"Baby Boomers\"], \"xaxis\": \"x5\", \"y\": [0.272], \"yaxis\": \"y\", \"type\": \"bar\", \"uid\": \"c5b4e791-1675-4f83-ae9c-fdc10e6b4a8d\"}, {\"alignmentgroup\": \"True\", \"hovertemplate\": \"Category=Groceries<br>Generation=Generation X<br>Generation=%{x}<br>% of Spending=%{y}<extra></extra>\", \"legendgroup\": \"Generation=Generation X\", \"marker\": {\"color\": \"#EF553B\"}, \"name\": \"Generation=Generation X\", \"offsetgroup\": \"Generation=Generation X\", \"orientation\": \"v\", \"showlegend\": false, \"textposition\": \"auto\", \"x\": [\"Generation X\"], \"xaxis\": \"x5\", \"y\": [0.253], \"yaxis\": \"y\", \"type\": \"bar\", \"uid\": \"47ba3383-b74d-4557-952c-dc7aeba0d3ba\"}, {\"alignmentgroup\": \"True\", \"hovertemplate\": \"Category=Groceries<br>Generation=Millenials<br>Generation=%{x}<br>% of Spending=%{y}<extra></extra>\", \"legendgroup\": \"Generation=Millenials\", \"marker\": {\"color\": \"#00cc96\"}, \"name\": \"Generation=Millenials\", \"offsetgroup\": \"Generation=Millenials\", \"orientation\": \"v\", \"showlegend\": false, \"textposition\": \"auto\", \"x\": [\"Millenials\"], \"xaxis\": \"x5\", \"y\": [0.217], \"yaxis\": \"y\", \"type\": \"bar\", \"uid\": \"65752931-496b-4124-a563-559e61397109\"}, {\"alignmentgroup\": \"True\", \"hovertemplate\": \"Category=Groceries<br>Generation=Traditionalists<br>Generation=%{x}<br>% of Spending=%{y}<extra></extra>\", \"legendgroup\": \"Generation=Traditionalists\", \"marker\": {\"color\": \"#ab63fa\"}, \"name\": \"Generation=Traditionalists\", \"offsetgroup\": \"Generation=Traditionalists\", \"orientation\": \"v\", \"showlegend\": false, \"textposition\": \"auto\", \"x\": [\"Traditionalists\"], \"xaxis\": \"x5\", \"y\": [0.304], \"yaxis\": \"y\", \"type\": \"bar\", \"uid\": \"b926f9fd-72a0-43ec-abdb-57691c6dc747\"}, {\"alignmentgroup\": \"True\", \"hovertemplate\": \"Category=Pharmacies<br>Generation=Baby Boomers<br>Generation=%{x}<br>% of Spending=%{y}<extra></extra>\", \"legendgroup\": \"Generation=Baby Boomers\", \"marker\": {\"color\": \"#636efa\"}, \"name\": \"Generation=Baby Boomers\", \"offsetgroup\": \"Generation=Baby Boomers\", \"orientation\": \"v\", \"showlegend\": false, \"textposition\": \"auto\", \"x\": [\"Baby Boomers\"], \"xaxis\": \"x6\", \"y\": [0.037000000000000005], \"yaxis\": \"y\", \"type\": \"bar\", \"uid\": \"afe1f142-ab2c-405d-84dd-a52f3e30974b\"}, {\"alignmentgroup\": \"True\", \"hovertemplate\": \"Category=Pharmacies<br>Generation=Generation X<br>Generation=%{x}<br>% of Spending=%{y}<extra></extra>\", \"legendgroup\": \"Generation=Generation X\", \"marker\": {\"color\": \"#EF553B\"}, \"name\": \"Generation=Generation X\", \"offsetgroup\": \"Generation=Generation X\", \"orientation\": \"v\", \"showlegend\": false, \"textposition\": \"auto\", \"x\": [\"Generation X\"], \"xaxis\": \"x6\", \"y\": [0.028999999999999998], \"yaxis\": \"y\", \"type\": \"bar\", \"uid\": \"77951a0b-2a5f-4f58-a03e-6689acde9202\"}, {\"alignmentgroup\": \"True\", \"hovertemplate\": \"Category=Pharmacies<br>Generation=Millenials<br>Generation=%{x}<br>% of Spending=%{y}<extra></extra>\", \"legendgroup\": \"Generation=Millenials\", \"marker\": {\"color\": \"#00cc96\"}, \"name\": \"Generation=Millenials\", \"offsetgroup\": \"Generation=Millenials\", \"orientation\": \"v\", \"showlegend\": false, \"textposition\": \"auto\", \"x\": [\"Millenials\"], \"xaxis\": \"x6\", \"y\": [0.03], \"yaxis\": \"y\", \"type\": \"bar\", \"uid\": \"9536b2f3-a030-43bd-b6c2-1ead83c30ce5\"}, {\"alignmentgroup\": \"True\", \"hovertemplate\": \"Category=Pharmacies<br>Generation=Traditionalists<br>Generation=%{x}<br>% of Spending=%{y}<extra></extra>\", \"legendgroup\": \"Generation=Traditionalists\", \"marker\": {\"color\": \"#ab63fa\"}, \"name\": \"Generation=Traditionalists\", \"offsetgroup\": \"Generation=Traditionalists\", \"orientation\": \"v\", \"showlegend\": false, \"textposition\": \"auto\", \"x\": [\"Traditionalists\"], \"xaxis\": \"x6\", \"y\": [0.064], \"yaxis\": \"y\", \"type\": \"bar\", \"uid\": \"f329a5b7-1bcb-4909-a4a9-202e98b3bc3c\"}, {\"alignmentgroup\": \"True\", \"hovertemplate\": \"Category=Restaurants<br>Generation=Baby Boomers<br>Generation=%{x}<br>% of Spending=%{y}<extra></extra>\", \"legendgroup\": \"Generation=Baby Boomers\", \"marker\": {\"color\": \"#636efa\"}, \"name\": \"Generation=Baby Boomers\", \"offsetgroup\": \"Generation=Baby Boomers\", \"orientation\": \"v\", \"showlegend\": false, \"textposition\": \"auto\", \"x\": [\"Baby Boomers\"], \"xaxis\": \"x7\", \"y\": [0.135], \"yaxis\": \"y\", \"type\": \"bar\", \"uid\": \"0938cd01-bee3-4933-988d-4a2d47d2dc64\"}, {\"alignmentgroup\": \"True\", \"hovertemplate\": \"Category=Restaurants<br>Generation=Generation X<br>Generation=%{x}<br>% of Spending=%{y}<extra></extra>\", \"legendgroup\": \"Generation=Generation X\", \"marker\": {\"color\": \"#EF553B\"}, \"name\": \"Generation=Generation X\", \"offsetgroup\": \"Generation=Generation X\", \"orientation\": \"v\", \"showlegend\": false, \"textposition\": \"auto\", \"x\": [\"Generation X\"], \"xaxis\": \"x7\", \"y\": [0.177], \"yaxis\": \"y\", \"type\": \"bar\", \"uid\": \"2ea23002-9766-4ecf-91b4-d325718ca101\"}, {\"alignmentgroup\": \"True\", \"hovertemplate\": \"Category=Restaurants<br>Generation=Millenials<br>Generation=%{x}<br>% of Spending=%{y}<extra></extra>\", \"legendgroup\": \"Generation=Millenials\", \"marker\": {\"color\": \"#00cc96\"}, \"name\": \"Generation=Millenials\", \"offsetgroup\": \"Generation=Millenials\", \"orientation\": \"v\", \"showlegend\": false, \"textposition\": \"auto\", \"x\": [\"Millenials\"], \"xaxis\": \"x7\", \"y\": [0.23800000000000002], \"yaxis\": \"y\", \"type\": \"bar\", \"uid\": \"ef388402-cc94-422f-9b8a-cde3018724df\"}, {\"alignmentgroup\": \"True\", \"hovertemplate\": \"Category=Restaurants<br>Generation=Traditionalists<br>Generation=%{x}<br>% of Spending=%{y}<extra></extra>\", \"legendgroup\": \"Generation=Traditionalists\", \"marker\": {\"color\": \"#ab63fa\"}, \"name\": \"Generation=Traditionalists\", \"offsetgroup\": \"Generation=Traditionalists\", \"orientation\": \"v\", \"showlegend\": false, \"textposition\": \"auto\", \"x\": [\"Traditionalists\"], \"xaxis\": \"x7\", \"y\": [0.128], \"yaxis\": \"y\", \"type\": \"bar\", \"uid\": \"18479b00-1fe2-4f7a-b1d3-fc94331cf601\"}], {\"barmode\": \"relative\", \"height\": 600, \"legend\": {\"tracegroupgap\": 0}, \"template\": {\"data\": {\"barpolar\": [{\"marker\": {\"line\": {\"color\": \"#E5ECF6\", \"width\": 0.5}}, \"type\": \"barpolar\"}], \"bar\": [{\"marker\": {\"line\": {\"color\": \"#E5ECF6\", \"width\": 0.5}}, \"type\": \"bar\"}], \"carpet\": [{\"aaxis\": {\"endlinecolor\": \"#2a3f5f\", \"gridcolor\": \"white\", \"linecolor\": \"white\", \"minorgridcolor\": \"white\", \"startlinecolor\": \"#2a3f5f\"}, \"baxis\": {\"endlinecolor\": \"#2a3f5f\", \"gridcolor\": \"white\", \"linecolor\": \"white\", \"minorgridcolor\": \"white\", \"startlinecolor\": \"#2a3f5f\"}, \"type\": \"carpet\"}], \"choropleth\": [{\"colorbar\": {\"outlinewidth\": 0, \"ticks\": \"\"}, \"type\": \"choropleth\"}], \"contourcarpet\": [{\"colorbar\": {\"outlinewidth\": 0, \"ticks\": \"\"}, \"type\": \"contourcarpet\"}], \"contour\": [{\"autocolorscale\": true, \"colorbar\": {\"outlinewidth\": 0, \"ticks\": \"\"}, \"type\": \"contour\"}], \"heatmapgl\": [{\"colorbar\": {\"outlinewidth\": 0, \"ticks\": \"\"}, \"type\": \"heatmapgl\"}], \"heatmap\": [{\"autocolorscale\": true, \"colorbar\": {\"outlinewidth\": 0, \"ticks\": \"\"}, \"type\": \"heatmap\"}], \"histogram2dcontour\": [{\"autocolorscale\": true, \"colorbar\": {\"outlinewidth\": 0, \"ticks\": \"\"}, \"type\": \"histogram2dcontour\"}], \"histogram2d\": [{\"autocolorscale\": true, \"colorbar\": {\"outlinewidth\": 0, \"ticks\": \"\"}, \"type\": \"histogram2d\"}], \"histogram\": [{\"marker\": {\"colorbar\": {\"outlinewidth\": 0, \"ticks\": \"\"}}, \"type\": \"histogram\"}], \"mesh3d\": [{\"colorbar\": {\"outlinewidth\": 0, \"ticks\": \"\"}, \"type\": \"mesh3d\"}], \"parcoords\": [{\"line\": {\"colorbar\": {\"outlinewidth\": 0, \"ticks\": \"\"}}, \"type\": \"parcoords\"}], \"scatter3d\": [{\"marker\": {\"colorbar\": {\"outlinewidth\": 0, \"ticks\": \"\"}}, \"type\": \"scatter3d\"}], \"scattercarpet\": [{\"marker\": {\"colorbar\": {\"outlinewidth\": 0, \"ticks\": \"\"}}, \"type\": \"scattercarpet\"}], \"scattergeo\": [{\"marker\": {\"colorbar\": {\"outlinewidth\": 0, \"ticks\": \"\"}}, \"type\": \"scattergeo\"}], \"scattergl\": [{\"marker\": {\"colorbar\": {\"outlinewidth\": 0, \"ticks\": \"\"}}, \"type\": \"scattergl\"}], \"scattermapbox\": [{\"marker\": {\"colorbar\": {\"outlinewidth\": 0, \"ticks\": \"\"}}, \"type\": \"scattermapbox\"}], \"scatterpolargl\": [{\"marker\": {\"colorbar\": {\"outlinewidth\": 0, \"ticks\": \"\"}}, \"type\": \"scatterpolargl\"}], \"scatterpolar\": [{\"marker\": {\"colorbar\": {\"outlinewidth\": 0, \"ticks\": \"\"}}, \"type\": \"scatterpolar\"}], \"scatter\": [{\"marker\": {\"colorbar\": {\"outlinewidth\": 0, \"ticks\": \"\"}}, \"type\": \"scatter\"}], \"scatterternary\": [{\"marker\": {\"colorbar\": {\"outlinewidth\": 0, \"ticks\": \"\"}}, \"type\": \"scatterternary\"}], \"surface\": [{\"colorbar\": {\"outlinewidth\": 0, \"ticks\": \"\"}, \"type\": \"surface\"}], \"table\": [{\"cells\": {\"fill\": {\"color\": \"#EBF0F8\"}, \"line\": {\"color\": \"white\"}}, \"header\": {\"fill\": {\"color\": \"#C8D4E3\"}, \"line\": {\"color\": \"white\"}}, \"type\": \"table\"}]}, \"layout\": {\"annotationdefaults\": {\"arrowcolor\": \"#506784\", \"arrowhead\": 0, \"arrowwidth\": 1}, \"colorscale\": {\"diverging\": [[0, \"#8e0152\"], [0.1, \"#c51b7d\"], [0.2, \"#de77ae\"], [0.3, \"#f1b6da\"], [0.4, \"#fde0ef\"], [0.5, \"#f7f7f7\"], [0.6, \"#e6f5d0\"], [0.7, \"#b8e186\"], [0.8, \"#7fbc41\"], [0.9, \"#4d9221\"], [1, \"#276419\"]], \"sequential\": [[0.0, \"#0508b8\"], [0.0893854748603352, \"#1910d8\"], [0.1787709497206704, \"#3c19f0\"], [0.2681564245810056, \"#6b1cfb\"], [0.3575418994413408, \"#981cfd\"], [0.44692737430167595, \"#bf1cfd\"], [0.5363128491620112, \"#dd2bfd\"], [0.6256983240223464, \"#f246fe\"], [0.7150837988826816, \"#fc67fd\"], [0.8044692737430168, \"#fe88fc\"], [0.8938547486033519, \"#fea5fd\"], [0.9832402234636871, \"#febefe\"], [1.0, \"#fec3fe\"]], \"sequentialminus\": [[0.0, \"#0508b8\"], [0.0893854748603352, \"#1910d8\"], [0.1787709497206704, \"#3c19f0\"], [0.2681564245810056, \"#6b1cfb\"], [0.3575418994413408, \"#981cfd\"], [0.44692737430167595, \"#bf1cfd\"], [0.5363128491620112, \"#dd2bfd\"], [0.6256983240223464, \"#f246fe\"], [0.7150837988826816, \"#fc67fd\"], [0.8044692737430168, \"#fe88fc\"], [0.8938547486033519, \"#fea5fd\"], [0.9832402234636871, \"#febefe\"], [1.0, \"#fec3fe\"]]}, \"colorway\": [\"#636efa\", \"#EF553B\", \"#00cc96\", \"#ab63fa\", \"#19d3f3\", \"#e763fa\", \"#FECB52\", \"#FFA15A\", \"#FF6692\", \"#B6E880\"], \"font\": {\"color\": \"#2a3f5f\"}, \"geo\": {\"bgcolor\": \"white\", \"lakecolor\": \"white\", \"landcolor\": \"#E5ECF6\", \"showlakes\": true, \"showland\": true, \"subunitcolor\": \"white\"}, \"hovermode\": \"closest\", \"mapbox\": {\"style\": \"light\"}, \"paper_bgcolor\": \"white\", \"plot_bgcolor\": \"#E5ECF6\", \"polar\": {\"angularaxis\": {\"gridcolor\": \"white\", \"linecolor\": \"white\", \"ticks\": \"\"}, \"bgcolor\": \"#E5ECF6\", \"radialaxis\": {\"gridcolor\": \"white\", \"linecolor\": \"white\", \"ticks\": \"\"}}, \"scene\": {\"xaxis\": {\"backgroundcolor\": \"#E5ECF6\", \"gridcolor\": \"white\", \"gridwidth\": 2, \"linecolor\": \"white\", \"showbackground\": true, \"ticks\": \"\", \"zerolinecolor\": \"white\"}, \"yaxis\": {\"backgroundcolor\": \"#E5ECF6\", \"gridcolor\": \"white\", \"gridwidth\": 2, \"linecolor\": \"white\", \"showbackground\": true, \"ticks\": \"\", \"zerolinecolor\": \"white\"}, \"zaxis\": {\"backgroundcolor\": \"#E5ECF6\", \"gridcolor\": \"white\", \"gridwidth\": 2, \"linecolor\": \"white\", \"showbackground\": true, \"ticks\": \"\", \"zerolinecolor\": \"white\"}}, \"shapedefaults\": {\"fillcolor\": \"#506784\", \"line\": {\"width\": 0}, \"opacity\": 0.4}, \"ternary\": {\"aaxis\": {\"gridcolor\": \"white\", \"linecolor\": \"white\", \"ticks\": \"\"}, \"baxis\": {\"gridcolor\": \"white\", \"linecolor\": \"white\", \"ticks\": \"\"}, \"bgcolor\": \"#E5ECF6\", \"caxis\": {\"gridcolor\": \"white\", \"linecolor\": \"white\", \"ticks\": \"\"}}, \"title\": {\"x\": 0.05}, \"xaxis\": {\"automargin\": true, \"gridcolor\": \"white\", \"linecolor\": \"white\", \"ticks\": \"\", \"zerolinecolor\": \"white\", \"zerolinewidth\": 2}, \"yaxis\": {\"automargin\": true, \"gridcolor\": \"white\", \"linecolor\": \"white\", \"ticks\": \"\", \"zerolinecolor\": \"white\", \"zerolinewidth\": 2}}}, \"title\": {\"text\": \"Percent of Spending By Category and Generation\"}, \"grid\": {\"xaxes\": [\"x\", \"x2\", \"x3\", \"x4\", \"x5\", \"x6\", \"x7\"], \"yaxes\": [\"y\"], \"xgap\": 0.1, \"ygap\": 0.1, \"xside\": \"bottom\", \"yside\": \"left\"}, \"xaxis\": {\"title\": {\"text\": \"Generation\"}, \"categoryorder\": \"array\", \"categoryarray\": [\"Baby Boomers\", \"Generation X\", \"Millenials\", \"Traditionalists\"]}, \"xaxis2\": {\"title\": {\"text\": \"Generation\"}, \"matches\": \"x\"}, \"xaxis3\": {\"title\": {\"text\": \"Generation\"}, \"matches\": \"x\"}, \"xaxis4\": {\"title\": {\"text\": \"Generation\"}, \"matches\": \"x\"}, \"xaxis5\": {\"title\": {\"text\": \"Generation\"}, \"matches\": \"x\"}, \"xaxis6\": {\"title\": {\"text\": \"Generation\"}, \"matches\": \"x\"}, \"xaxis7\": {\"title\": {\"text\": \"Generation\"}, \"matches\": \"x\"}, \"annotations\": [{\"showarrow\": false, \"text\": \"Category=Elec/Hobbies/Clothing\", \"textangle\": 0, \"x\": 0.06521739130434782, \"xanchor\": \"center\", \"xref\": \"paper\", \"y\": 1.02, \"yanchor\": \"middle\", \"yref\": \"paper\"}, {\"showarrow\": false, \"text\": \"Category=Furniture/Building\", \"textangle\": 0, \"x\": 0.21014492753623187, \"xanchor\": \"center\", \"xref\": \"paper\", \"y\": 1.02, \"yanchor\": \"middle\", \"yref\": \"paper\"}, {\"showarrow\": false, \"text\": \"Category=Gasoline\", \"textangle\": 0, \"x\": 0.35507246376811596, \"xanchor\": \"center\", \"xref\": \"paper\", \"y\": 1.02, \"yanchor\": \"middle\", \"yref\": \"paper\"}, {\"showarrow\": false, \"text\": \"Category=General/Misc\", \"textangle\": 0, \"x\": 0.5, \"xanchor\": \"center\", \"xref\": \"paper\", \"y\": 1.02, \"yanchor\": \"middle\", \"yref\": \"paper\"}, {\"showarrow\": false, \"text\": \"Category=Groceries\", \"textangle\": 0, \"x\": 0.6449275362318841, \"xanchor\": \"center\", \"xref\": \"paper\", \"y\": 1.02, \"yanchor\": \"middle\", \"yref\": \"paper\"}, {\"showarrow\": false, \"text\": \"Category=Pharmacies\", \"textangle\": 0, \"x\": 0.7898550724637682, \"xanchor\": \"center\", \"xref\": \"paper\", \"y\": 1.02, \"yanchor\": \"middle\", \"yref\": \"paper\"}, {\"showarrow\": false, \"text\": \"Category=Restaurants\", \"textangle\": 0, \"x\": 0.9347826086956522, \"xanchor\": \"center\", \"xref\": \"paper\", \"y\": 1.02, \"yanchor\": \"middle\", \"yref\": \"paper\"}], \"yaxis\": {\"title\": {\"text\": \"% of Spending\"}}}, {\"showLink\": false, \"linkText\": \"Export to plot.ly\", \"plotlyServerURL\": \"https://plot.ly\"}); \n",
       "}\n",
       "});</script><script type=\"text/javascript\">window.addEventListener(\"resize\", function(){if (document.getElementById(\"d1538913-277c-4346-84ee-ab23ff24dfd2\")) {window._Plotly.Plots.resize(document.getElementById(\"d1538913-277c-4346-84ee-ab23ff24dfd2\"));};})</script>"
      ]
     },
     "metadata": {},
     "output_type": "display_data"
    }
   ],
   "source": [
    "px.bar(df_data.sort_values('Generation'), x='Generation', y='% of Spending', orientation='v', \\\n",
    "       facet_col='Category', color='Generation',\\\n",
    "    title='Percent of Spending By Category and Generation', \\\n",
    "    template='plotly')\n",
    "# I can't seem to get the Generation to sort in anything other than alphabetical order\n",
    "# Also not sure if I can remove or customize the overlapping labels"
   ]
  },
  {
   "cell_type": "code",
   "execution_count": 64,
   "metadata": {},
   "outputs": [
    {
     "data": {
      "image/png": "[encoded data removed]",
      "text/plain": [
       "<Figure size 1080x1080 with 7 Axes>"
      ]
     },
     "metadata": {},
     "output_type": "display_data"
    }
   ],
   "source": [
    "sns.set(font_scale=1.5)\n",
    "sns.set_style(\"ticks\") # This style has grid lines turned off\n",
    "\n",
    "# catplot is a wrapper of Facetgrid - catplot is the preferred function to call\n",
    "# Passing the Hue parameter causes the bars to become thin and off-center\n",
    "# I haven't figured out a good way around it yet\n",
    "# Palettes: https://seaborn.pydata.org/tutorial/color_palettes.html\n",
    "g = sns.catplot(x=\"Generation\", y=\"% of Spending\", hue=\"Generation\", col=\"Category\", \\\n",
    "                data=df_data.sort_values('Category Rank'), kind=\"bar\",\\\n",
    "           palette=\"pastel\", edgecolor=\"k\",col_wrap=3,legend=False, legend_out=True)\n",
    "\n",
    "# See https://stackoverflow.com/questions/29813694/how-to-add-a-title-to-seaborn-facet-plot\n",
    "g.fig.subplots_adjust(top=0.9)\n",
    "g.fig.suptitle('Categorical Consumer Spending by Generation', fontsize=24)\n",
    "\n",
    "# I don't like where it places this legend\n",
    "#g.add_legend(title=\"Generation\") \n",
    "\n",
    "# This puts a legend for the last facet/plot to the right of the plot, which works out nicely\n",
    "plt.legend(loc='center left', bbox_to_anchor=(1, 0.5),title=\"Generation\")\n",
    "\n",
    "# X axis labels appear on just some plots, and they aren't clear.  Suppress them\n",
    "# Also change bar width\n",
    "# Code to change bar width from here: https://stackoverflow.com/questions/34888058/changing-width-of-bars-in-bar-chart-created-using-seaborn-factorplot\n",
    "# STILL NOT LINING UP WITH TICKS\n",
    "for i, ax in enumerate(g.axes.flat): \n",
    "    for tick in ax.get_xticklabels():\n",
    "        tick.set_visible(False)\n",
    "    for patch in ax.patches :\n",
    "        current_width = patch.get_width()\n",
    "        diff = 0.5 - current_width\n",
    "\n",
    "        # we change the bar width\n",
    "        patch.set_width(0.5)\n",
    "\n",
    "        # we recenter the bar\n",
    "        patch.set_x(patch.get_x() - diff * 0.5)\n"
   ]
  },
  {
   "cell_type": "code",
   "execution_count": 49,
   "metadata": {},
   "outputs": [
    {
     "data": {
      "text/plain": [
       "<matplotlib.legend.Legend at 0x1a281f6828>"
      ]
     },
     "execution_count": 49,
     "metadata": {},
     "output_type": "execute_result"
    },
    {
     "data": {
      "image/png": "[encoded data removed]",
      "text/plain": [
       "<Figure size 648x648 with 7 Axes>"
      ]
     },
     "metadata": {},
     "output_type": "display_data"
    }
   ],
   "source": [
    "### COLORS ARE MESSED UP ON THIS - LEAVING TO RESOLVE LATER\n",
    "\n",
    "# The color array doesn't make the bars thin like the hue parameter does\n",
    "# However, there's no built in legend because it's just coloring \n",
    "# sequentially, not by category\n",
    "\n",
    "sns.set(font_scale=1.0)\n",
    "sns.set_style(\"ticks\") # This style has grid lines turned off\n",
    "g = sns.FacetGrid(df_data.sort_values('Category Rank'), col=\"Category\", col_wrap=3, height=3)\n",
    "g = g.map(plt.bar, \"Generation Rank\", \"% of Spending\", \\\n",
    "         edgecolor=\"k\",linewidth='1',color=['red', 'green', 'blue', 'cyan'])\n",
    "\n",
    "# See https://stackoverflow.com/questions/39500265/manually-add-legend-items-python-matplotlib\n",
    "red_patch = mpatches.Patch(color='red', label='Millenials')\n",
    "green_patch = mpatches.Patch(color='green', label='Generation X')\n",
    "blue_patch = mpatches.Patch(color='blue', label='Baby Boomers')\n",
    "cyan_patch = mpatches.Patch(color='cyan', label='Traditionalists')\n",
    "plt.legend(handles=[red_patch,green_patch,blue_patch,cyan_patch], \\\n",
    "          loc='center left', bbox_to_anchor=(1, 0.5),title=\"Generation\")\n",
    "\n",
    "# X axis labels appear on just some plots, and they aren't clear.  Suppress them\n",
    "#for i, ax in enumerate(g.axes.flat): \n",
    "#    for tick in ax.get_xticklabels():\n",
    "#        tick.set_visible(False)"
   ]
  },
  {
   "cell_type": "code",
   "execution_count": 65,
   "metadata": {},
   "outputs": [
    {
     "data": {
      "image/png": "[encoded data removed]",
      "text/plain": [
       "<Figure size 432x288 with 2 Axes>"
      ]
     },
     "metadata": {},
     "output_type": "display_data"
    }
   ],
   "source": [
    "# Seaborn heatmap\n",
    "df_data['Category'] = pd.Categorical(df_data['Category'], \\\n",
    "    [\"Groceries\", \"General/Misc\", \"Restaurants\", \"Elec/Hobbies/Clothing\", \\\n",
    "    \"Gasoline\",\"Furniture/Building\",\"Pharmacies\"])\n",
    "df_data_pivot = df_data.pivot(\"Generation\", \"Category\", \"% of Spending\")\n",
    "# cmap options here: http://jose-coto.com/styling-with-seaborn\n",
    "ax = sns.heatmap(df_data_pivot, cmap=\"YlGnBu\")"
   ]
  },
  {
   "cell_type": "code",
   "execution_count": null,
   "metadata": {},
   "outputs": [],
   "source": []
  }
 ],
 "metadata": {
  "kernelspec": {
   "display_name": "Python 3",
   "language": "python",
   "name": "python3"
  },
  "language_info": {
   "codemirror_mode": {
    "name": "ipython",
    "version": 3
   },
   "file_extension": ".py",
   "mimetype": "text/x-python",
   "name": "python",
   "nbconvert_exporter": "python",
   "pygments_lexer": "ipython3",
   "version": "3.7.2"
  }
 },
 "nbformat": 4,
 "nbformat_minor": 2
}
