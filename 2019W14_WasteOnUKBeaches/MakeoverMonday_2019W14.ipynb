{
 "cells": [
  {
   "cell_type": "markdown",
   "metadata": {},
   "source": [
    "# Makeover Monday 2019 Week 14 - Waste on UK Beaches\n",
    "by Susan Glass\n",
    "<p><p><i>Many thanks to Eva Murray and Andy Kriebel, for their incredible work and dedication in running the Makeover Monday community project.</i>"
   ]
  },
  {
   "cell_type": "markdown",
   "metadata": {},
   "source": [
    "# References and Acknowledgements\n",
    "<p>Makeover Monday Week 14: http://www.makeovermonday.co.uk/data/\n",
    "<p>Original Article: https://www.bbc.com/news/science-environment-42264788\n",
    "<p>Great British Clean Report: https://www.mcsuk.org/media/GBBC_2017_Report.pdf\n",
    "<p>Data on data.world: https://data.world/makeovermonday/2019w14\n",
    "<p>nbviewer link for this notebook: \n",
    "    \n",
    "<p><p><p><p>Additional Helpful References this week:\n",
    "    <li>https://towardsdatascience.com/the-next-level-of-data-visualization-in-python-dd6e99039d5e</li>\n",
    "    <li> HTML Color Names: https://htmlcolorcodes.com/color-names/</li>"
   ]
  },
  {
   "cell_type": "code",
   "execution_count": 2,
   "metadata": {},
   "outputs": [
    {
     "data": {
      "text/html": [
       "<script type=\"text/javascript\">window.PlotlyConfig = {MathJaxConfig: 'local'};</script><script type=\"text/javascript\">if (window.MathJax) {MathJax.Hub.Config({SVG: {font: \"STIX-Web\"}});}</script><script>requirejs.config({paths: { 'plotly': ['https://cdn.plot.ly/plotly-latest.min']},});if(!window._Plotly) {require(['plotly'],function(plotly) {window._Plotly=plotly;});}</script>"
      ],
      "text/vnd.plotly.v1+html": [
       "<script type=\"text/javascript\">window.PlotlyConfig = {MathJaxConfig: 'local'};</script><script type=\"text/javascript\">if (window.MathJax) {MathJax.Hub.Config({SVG: {font: \"STIX-Web\"}});}</script><script>requirejs.config({paths: { 'plotly': ['https://cdn.plot.ly/plotly-latest.min']},});if(!window._Plotly) {require(['plotly'],function(plotly) {window._Plotly=plotly;});}</script>"
      ]
     },
     "metadata": {},
     "output_type": "display_data"
    },
    {
     "data": {
      "text/html": [
       "<script type=\"text/javascript\">window.PlotlyConfig = {MathJaxConfig: 'local'};</script><script type=\"text/javascript\">if (window.MathJax) {MathJax.Hub.Config({SVG: {font: \"STIX-Web\"}});}</script><script>requirejs.config({paths: { 'plotly': ['https://cdn.plot.ly/plotly-latest.min']},});if(!window._Plotly) {require(['plotly'],function(plotly) {window._Plotly=plotly;});}</script>"
      ],
      "text/vnd.plotly.v1+html": [
       "<script type=\"text/javascript\">window.PlotlyConfig = {MathJaxConfig: 'local'};</script><script type=\"text/javascript\">if (window.MathJax) {MathJax.Hub.Config({SVG: {font: \"STIX-Web\"}});}</script><script>requirejs.config({paths: { 'plotly': ['https://cdn.plot.ly/plotly-latest.min']},});if(!window._Plotly) {require(['plotly'],function(plotly) {window._Plotly=plotly;});}</script>"
      ]
     },
     "metadata": {},
     "output_type": "display_data"
    }
   ],
   "source": [
    "# Library imports\n",
    "import pandas as pd\n",
    "import numpy as np\n",
    "import random\n",
    "\n",
    "# Cufflinks and plotly imports\n",
    "# See https://towardsdatascience.com/the-next-level-of-data-visualization-in-python-dd6e99039d5e\n",
    "# Standard plotly imports\n",
    "import plotly\n",
    "import plotly.plotly as py\n",
    "import plotly.graph_objs as go\n",
    "from plotly.offline import iplot, init_notebook_mode\n",
    "from plotly import tools\n",
    "# Using plotly + cufflinks in offline mode\n",
    "import cufflinks\n",
    "cufflinks.go_offline(connected=True)\n",
    "init_notebook_mode(connected=True)"
   ]
  },
  {
   "cell_type": "code",
   "execution_count": 3,
   "metadata": {},
   "outputs": [
    {
     "data": {
      "text/html": [
       "<div>\n",
       "<style scoped>\n",
       "    .dataframe tbody tr th:only-of-type {\n",
       "        vertical-align: middle;\n",
       "    }\n",
       "\n",
       "    .dataframe tbody tr th {\n",
       "        vertical-align: top;\n",
       "    }\n",
       "\n",
       "    .dataframe thead th {\n",
       "        text-align: right;\n",
       "    }\n",
       "</style>\n",
       "<table border=\"1\" class=\"dataframe\">\n",
       "  <thead>\n",
       "    <tr style=\"text-align: right;\">\n",
       "      <th></th>\n",
       "      <th>Item</th>\n",
       "      <th>Number per 100m of beach</th>\n",
       "    </tr>\n",
       "  </thead>\n",
       "  <tbody>\n",
       "    <tr>\n",
       "      <th>0</th>\n",
       "      <td>Plastic / polystyrene pieces (0–50 cm)</td>\n",
       "      <td>225.3</td>\n",
       "    </tr>\n",
       "    <tr>\n",
       "      <th>1</th>\n",
       "      <td>Packets (crisp, sweet, lolly, sandwich)</td>\n",
       "      <td>42.3</td>\n",
       "    </tr>\n",
       "    <tr>\n",
       "      <th>2</th>\n",
       "      <td>Glass</td>\n",
       "      <td>40.4</td>\n",
       "    </tr>\n",
       "    <tr>\n",
       "      <th>3</th>\n",
       "      <td>Cigarette stubs</td>\n",
       "      <td>34.5</td>\n",
       "    </tr>\n",
       "    <tr>\n",
       "      <th>4</th>\n",
       "      <td>Caps &amp; lids</td>\n",
       "      <td>32.9</td>\n",
       "    </tr>\n",
       "    <tr>\n",
       "      <th>5</th>\n",
       "      <td>String / cord (thickness 0–1 cm)</td>\n",
       "      <td>31.0</td>\n",
       "    </tr>\n",
       "    <tr>\n",
       "      <th>6</th>\n",
       "      <td>Wet wipes</td>\n",
       "      <td>27.4</td>\n",
       "    </tr>\n",
       "    <tr>\n",
       "      <th>7</th>\n",
       "      <td>Cotton bud sticks</td>\n",
       "      <td>26.9</td>\n",
       "    </tr>\n",
       "    <tr>\n",
       "      <th>8</th>\n",
       "      <td>Fishing line</td>\n",
       "      <td>18.0</td>\n",
       "    </tr>\n",
       "    <tr>\n",
       "      <th>9</th>\n",
       "      <td>Cutlery / trays / straws</td>\n",
       "      <td>15.1</td>\n",
       "    </tr>\n",
       "  </tbody>\n",
       "</table>\n",
       "</div>"
      ],
      "text/plain": [
       "                                      Item  Number per 100m of beach\n",
       "0   Plastic / polystyrene pieces (0–50 cm)                     225.3\n",
       "1  Packets (crisp, sweet, lolly, sandwich)                      42.3\n",
       "2                                    Glass                      40.4\n",
       "3                          Cigarette stubs                      34.5\n",
       "4                              Caps & lids                      32.9\n",
       "5         String / cord (thickness 0–1 cm)                      31.0\n",
       "6                                Wet wipes                      27.4\n",
       "7                        Cotton bud sticks                      26.9\n",
       "8                             Fishing line                      18.0\n",
       "9                 Cutlery / trays / straws                      15.1"
      ]
     },
     "execution_count": 3,
     "metadata": {},
     "output_type": "execute_result"
    }
   ],
   "source": [
    "# Import data\n",
    "df_data = pd.read_excel('https://query.data.world/s/d63432o6pwahfd56pzoxewncrf6vu2')\n",
    "df_data"
   ]
  },
  {
   "cell_type": "code",
   "execution_count": 4,
   "metadata": {},
   "outputs": [
    {
     "data": {
      "text/html": [
       "<div>\n",
       "<style scoped>\n",
       "    .dataframe tbody tr th:only-of-type {\n",
       "        vertical-align: middle;\n",
       "    }\n",
       "\n",
       "    .dataframe tbody tr th {\n",
       "        vertical-align: top;\n",
       "    }\n",
       "\n",
       "    .dataframe thead th {\n",
       "        text-align: right;\n",
       "    }\n",
       "</style>\n",
       "<table border=\"1\" class=\"dataframe\">\n",
       "  <thead>\n",
       "    <tr style=\"text-align: right;\">\n",
       "      <th></th>\n",
       "      <th>Item</th>\n",
       "      <th>Number per 100m of beach</th>\n",
       "      <th>Percent</th>\n",
       "    </tr>\n",
       "  </thead>\n",
       "  <tbody>\n",
       "    <tr>\n",
       "      <th>0</th>\n",
       "      <td>Plastic / polystyrene pieces (0–50 cm)</td>\n",
       "      <td>225.3</td>\n",
       "      <td>0.313788</td>\n",
       "    </tr>\n",
       "    <tr>\n",
       "      <th>10</th>\n",
       "      <td>Unspecified</td>\n",
       "      <td>224.2</td>\n",
       "      <td>0.312256</td>\n",
       "    </tr>\n",
       "    <tr>\n",
       "      <th>1</th>\n",
       "      <td>Packets (crisp, sweet, lolly, sandwich)</td>\n",
       "      <td>42.3</td>\n",
       "      <td>0.058914</td>\n",
       "    </tr>\n",
       "    <tr>\n",
       "      <th>2</th>\n",
       "      <td>Glass</td>\n",
       "      <td>40.4</td>\n",
       "      <td>0.056267</td>\n",
       "    </tr>\n",
       "    <tr>\n",
       "      <th>3</th>\n",
       "      <td>Cigarette stubs</td>\n",
       "      <td>34.5</td>\n",
       "      <td>0.048050</td>\n",
       "    </tr>\n",
       "    <tr>\n",
       "      <th>4</th>\n",
       "      <td>Caps &amp; lids</td>\n",
       "      <td>32.9</td>\n",
       "      <td>0.045822</td>\n",
       "    </tr>\n",
       "    <tr>\n",
       "      <th>5</th>\n",
       "      <td>String / cord (thickness 0–1 cm)</td>\n",
       "      <td>31.0</td>\n",
       "      <td>0.043175</td>\n",
       "    </tr>\n",
       "    <tr>\n",
       "      <th>6</th>\n",
       "      <td>Wet wipes</td>\n",
       "      <td>27.4</td>\n",
       "      <td>0.038162</td>\n",
       "    </tr>\n",
       "    <tr>\n",
       "      <th>7</th>\n",
       "      <td>Cotton bud sticks</td>\n",
       "      <td>26.9</td>\n",
       "      <td>0.037465</td>\n",
       "    </tr>\n",
       "    <tr>\n",
       "      <th>8</th>\n",
       "      <td>Fishing line</td>\n",
       "      <td>18.0</td>\n",
       "      <td>0.025070</td>\n",
       "    </tr>\n",
       "    <tr>\n",
       "      <th>9</th>\n",
       "      <td>Cutlery / trays / straws</td>\n",
       "      <td>15.1</td>\n",
       "      <td>0.021031</td>\n",
       "    </tr>\n",
       "  </tbody>\n",
       "</table>\n",
       "</div>"
      ],
      "text/plain": [
       "                                       Item  Number per 100m of beach  \\\n",
       "0    Plastic / polystyrene pieces (0–50 cm)                     225.3   \n",
       "10                              Unspecified                     224.2   \n",
       "1   Packets (crisp, sweet, lolly, sandwich)                      42.3   \n",
       "2                                     Glass                      40.4   \n",
       "3                           Cigarette stubs                      34.5   \n",
       "4                               Caps & lids                      32.9   \n",
       "5          String / cord (thickness 0–1 cm)                      31.0   \n",
       "6                                 Wet wipes                      27.4   \n",
       "7                         Cotton bud sticks                      26.9   \n",
       "8                              Fishing line                      18.0   \n",
       "9                  Cutlery / trays / straws                      15.1   \n",
       "\n",
       "     Percent  \n",
       "0   0.313788  \n",
       "10  0.312256  \n",
       "1   0.058914  \n",
       "2   0.056267  \n",
       "3   0.048050  \n",
       "4   0.045822  \n",
       "5   0.043175  \n",
       "6   0.038162  \n",
       "7   0.037465  \n",
       "8   0.025070  \n",
       "9   0.021031  "
      ]
     },
     "execution_count": 4,
     "metadata": {},
     "output_type": "execute_result"
    }
   ],
   "source": [
    "# Add a row for \"Unspecified\" items\n",
    "# Report says that 718 total items were found per 100 meters\n",
    "df_data = df_data.append({'Item': 'Unspecified', 'Number per 100m of beach': \\\n",
    "                718 - df_data['Number per 100m of beach'].sum()}, ignore_index=True) \\\n",
    "                .sort_values(by='Number per 100m of beach',ascending=False)\n",
    "\n",
    "# Also add percent of total column\n",
    "df_data['Percent'] = df_data['Number per 100m of beach'] / df_data['Number per 100m of beach'].sum()\n",
    "\n",
    "df_data"
   ]
  },
  {
   "cell_type": "code",
   "execution_count": 5,
   "metadata": {},
   "outputs": [
    {
     "data": {
      "text/html": [
       "<div>\n",
       "<style scoped>\n",
       "    .dataframe tbody tr th:only-of-type {\n",
       "        vertical-align: middle;\n",
       "    }\n",
       "\n",
       "    .dataframe tbody tr th {\n",
       "        vertical-align: top;\n",
       "    }\n",
       "\n",
       "    .dataframe thead th {\n",
       "        text-align: right;\n",
       "    }\n",
       "</style>\n",
       "<table border=\"1\" class=\"dataframe\">\n",
       "  <thead>\n",
       "    <tr style=\"text-align: right;\">\n",
       "      <th></th>\n",
       "      <th>Item</th>\n",
       "      <th>Number per 100m of beach</th>\n",
       "      <th>Percent</th>\n",
       "      <th>shortname</th>\n",
       "      <th>is_togo</th>\n",
       "      <th>togo_color</th>\n",
       "      <th>formatted_value</th>\n",
       "      <th>togo_sort_value</th>\n",
       "    </tr>\n",
       "  </thead>\n",
       "  <tbody>\n",
       "    <tr>\n",
       "      <th>1</th>\n",
       "      <td>Packets (crisp, sweet, lolly, sandwich)</td>\n",
       "      <td>42.3</td>\n",
       "      <td>0.058914</td>\n",
       "      <td>Food wrappers</td>\n",
       "      <td>To-Go</td>\n",
       "      <td>lightsteelblue</td>\n",
       "      <td>42.3 items per 100m of beach</td>\n",
       "      <td>42300.0</td>\n",
       "    </tr>\n",
       "    <tr>\n",
       "      <th>2</th>\n",
       "      <td>Glass</td>\n",
       "      <td>40.4</td>\n",
       "      <td>0.056267</td>\n",
       "      <td>Glass</td>\n",
       "      <td>To-Go</td>\n",
       "      <td>lightsteelblue</td>\n",
       "      <td>40.4 items per 100m of beach</td>\n",
       "      <td>40400.0</td>\n",
       "    </tr>\n",
       "    <tr>\n",
       "      <th>4</th>\n",
       "      <td>Caps &amp; lids</td>\n",
       "      <td>32.9</td>\n",
       "      <td>0.045822</td>\n",
       "      <td>Caps &amp; lids</td>\n",
       "      <td>To-Go</td>\n",
       "      <td>lightsteelblue</td>\n",
       "      <td>32.9 items per 100m of beach</td>\n",
       "      <td>32900.0</td>\n",
       "    </tr>\n",
       "    <tr>\n",
       "      <th>9</th>\n",
       "      <td>Cutlery / trays / straws</td>\n",
       "      <td>15.1</td>\n",
       "      <td>0.021031</td>\n",
       "      <td>Cutlery etc.</td>\n",
       "      <td>To-Go</td>\n",
       "      <td>lightsteelblue</td>\n",
       "      <td>15.1 items per 100m of beach</td>\n",
       "      <td>15100.0</td>\n",
       "    </tr>\n",
       "    <tr>\n",
       "      <th>0</th>\n",
       "      <td>Plastic / polystyrene pieces (0–50 cm)</td>\n",
       "      <td>225.3</td>\n",
       "      <td>0.313788</td>\n",
       "      <td>Plastic</td>\n",
       "      <td>Other</td>\n",
       "      <td>whitesmoke</td>\n",
       "      <td>225.3 items per 100m of beach</td>\n",
       "      <td>225.3</td>\n",
       "    </tr>\n",
       "    <tr>\n",
       "      <th>10</th>\n",
       "      <td>Unspecified</td>\n",
       "      <td>224.2</td>\n",
       "      <td>0.312256</td>\n",
       "      <td>Unspecified</td>\n",
       "      <td>Other</td>\n",
       "      <td>whitesmoke</td>\n",
       "      <td>224.2 items per 100m of beach</td>\n",
       "      <td>224.2</td>\n",
       "    </tr>\n",
       "    <tr>\n",
       "      <th>3</th>\n",
       "      <td>Cigarette stubs</td>\n",
       "      <td>34.5</td>\n",
       "      <td>0.048050</td>\n",
       "      <td>Cigarette stubs</td>\n",
       "      <td>Other</td>\n",
       "      <td>whitesmoke</td>\n",
       "      <td>34.5 items per 100m of beach</td>\n",
       "      <td>34.5</td>\n",
       "    </tr>\n",
       "    <tr>\n",
       "      <th>5</th>\n",
       "      <td>String / cord (thickness 0–1 cm)</td>\n",
       "      <td>31.0</td>\n",
       "      <td>0.043175</td>\n",
       "      <td>String/cord</td>\n",
       "      <td>Other</td>\n",
       "      <td>whitesmoke</td>\n",
       "      <td>31.0 items per 100m of beach</td>\n",
       "      <td>31.0</td>\n",
       "    </tr>\n",
       "    <tr>\n",
       "      <th>6</th>\n",
       "      <td>Wet wipes</td>\n",
       "      <td>27.4</td>\n",
       "      <td>0.038162</td>\n",
       "      <td>Wet wipes</td>\n",
       "      <td>Other</td>\n",
       "      <td>whitesmoke</td>\n",
       "      <td>27.4 items per 100m of beach</td>\n",
       "      <td>27.4</td>\n",
       "    </tr>\n",
       "    <tr>\n",
       "      <th>7</th>\n",
       "      <td>Cotton bud sticks</td>\n",
       "      <td>26.9</td>\n",
       "      <td>0.037465</td>\n",
       "      <td>Q-tips</td>\n",
       "      <td>Other</td>\n",
       "      <td>whitesmoke</td>\n",
       "      <td>26.9 items per 100m of beach</td>\n",
       "      <td>26.9</td>\n",
       "    </tr>\n",
       "    <tr>\n",
       "      <th>8</th>\n",
       "      <td>Fishing line</td>\n",
       "      <td>18.0</td>\n",
       "      <td>0.025070</td>\n",
       "      <td>Fishing line</td>\n",
       "      <td>Other</td>\n",
       "      <td>whitesmoke</td>\n",
       "      <td>18.0 items per 100m of beach</td>\n",
       "      <td>18.0</td>\n",
       "    </tr>\n",
       "  </tbody>\n",
       "</table>\n",
       "</div>"
      ],
      "text/plain": [
       "                                       Item  Number per 100m of beach  \\\n",
       "1   Packets (crisp, sweet, lolly, sandwich)                      42.3   \n",
       "2                                     Glass                      40.4   \n",
       "4                               Caps & lids                      32.9   \n",
       "9                  Cutlery / trays / straws                      15.1   \n",
       "0    Plastic / polystyrene pieces (0–50 cm)                     225.3   \n",
       "10                              Unspecified                     224.2   \n",
       "3                           Cigarette stubs                      34.5   \n",
       "5          String / cord (thickness 0–1 cm)                      31.0   \n",
       "6                                 Wet wipes                      27.4   \n",
       "7                         Cotton bud sticks                      26.9   \n",
       "8                              Fishing line                      18.0   \n",
       "\n",
       "     Percent        shortname is_togo      togo_color  \\\n",
       "1   0.058914    Food wrappers   To-Go  lightsteelblue   \n",
       "2   0.056267            Glass   To-Go  lightsteelblue   \n",
       "4   0.045822      Caps & lids   To-Go  lightsteelblue   \n",
       "9   0.021031     Cutlery etc.   To-Go  lightsteelblue   \n",
       "0   0.313788          Plastic   Other      whitesmoke   \n",
       "10  0.312256      Unspecified   Other      whitesmoke   \n",
       "3   0.048050  Cigarette stubs   Other      whitesmoke   \n",
       "5   0.043175      String/cord   Other      whitesmoke   \n",
       "6   0.038162        Wet wipes   Other      whitesmoke   \n",
       "7   0.037465           Q-tips   Other      whitesmoke   \n",
       "8   0.025070     Fishing line   Other      whitesmoke   \n",
       "\n",
       "                  formatted_value  togo_sort_value  \n",
       "1    42.3 items per 100m of beach          42300.0  \n",
       "2    40.4 items per 100m of beach          40400.0  \n",
       "4    32.9 items per 100m of beach          32900.0  \n",
       "9    15.1 items per 100m of beach          15100.0  \n",
       "0   225.3 items per 100m of beach            225.3  \n",
       "10  224.2 items per 100m of beach            224.2  \n",
       "3    34.5 items per 100m of beach             34.5  \n",
       "5    31.0 items per 100m of beach             31.0  \n",
       "6    27.4 items per 100m of beach             27.4  \n",
       "7    26.9 items per 100m of beach             26.9  \n",
       "8    18.0 items per 100m of beach             18.0  "
      ]
     },
     "execution_count": 5,
     "metadata": {},
     "output_type": "execute_result"
    }
   ],
   "source": [
    "# Dictionaries and arrays\n",
    "shortname = {'Packets (crisp, sweet, lolly, sandwich)': 'Food wrappers',\n",
    "             'Glass': 'Glass',\n",
    "             'Caps & lids': 'Caps & lids',\n",
    "             'Cutlery / trays / straws': 'Cutlery etc.' ,\n",
    "             'String / cord (thickness 0–1 cm)': 'String/cord',\n",
    "             'Plastic / polystyrene pieces (0–50 cm)': 'Plastic', \n",
    "             'Unspecified': 'Unspecified',\n",
    "             'Cigarette stubs': 'Cigarette stubs',\n",
    "             'Wet wipes': 'Wet wipes',\n",
    "             'Cotton bud sticks': 'Q-tips',\n",
    "             'Fishing line': 'Fishing line'           \n",
    "            }\n",
    "togo_items = ['Packets (crisp, sweet, lolly, sandwich)', \\\n",
    "             'Glass', \\\n",
    "             'Caps & lids', \\\n",
    "             'Cutlery / trays / straws']\n",
    "\n",
    "# Add columns for for short names, to-go categories, sort order\n",
    "df_data['shortname'] = df_data['Item'].map(shortname)\n",
    "df_data['is_togo'] = df_data.apply(lambda x: 'To-Go'if x.Item in togo_items \n",
    "                                      else 'Other', \n",
    "                                      axis=1)\n",
    "df_data['togo_color'] = df_data.apply(lambda x: 'lightsteelblue'if x.Item in togo_items \n",
    "                                      else 'whitesmoke', \n",
    "                                      axis=1)\n",
    "df_data['formatted_value'] = df_data['Number per 100m of beach'].astype(str) + ' items per 100m of beach'\n",
    "# Sort: 1) All togo items, sorted descending by value\n",
    "# 2) All other items, sorted descending by value\n",
    "df_data['togo_sort_value'] = df_data.apply(lambda x: \n",
    "                                      1000*x['Number per 100m of beach'] if x.Item in togo_items \n",
    "                                      else x['Number per 100m of beach'], \n",
    "                                      axis=1)\n",
    "df_data = df_data.sort_values(by='togo_sort_value', ascending=False)\n",
    "df_data"
   ]
  },
  {
   "cell_type": "code",
   "execution_count": 6,
   "metadata": {},
   "outputs": [
    {
     "data": {
      "application/vnd.plotly.v1+json": {
       "config": {
        "linkText": "Export to plot.ly",
        "plotlyServerURL": "https://plot.ly",
        "showLink": true
       },
       "data": [
        {
         "hole": 0.6,
         "labels": [
          "Packets (crisp, sweet, lolly, sandwich)",
          "Glass",
          "Caps & lids",
          "Cutlery / trays / straws",
          "Plastic / polystyrene pieces (0–50 cm)",
          "Unspecified",
          "Cigarette stubs",
          "String / cord (thickness 0–1 cm)",
          "Wet wipes",
          "Cotton bud sticks",
          "Fishing line"
         ],
         "marker": {
          "colors": [
           "rgba(141, 211, 199, 1.0)",
           "rgba(255, 255, 179, 1.0)",
           "rgba(190, 186, 218, 1.0)",
           "rgba(251, 128, 114, 1.0)",
           "rgba(128, 177, 211, 1.0)",
           "rgba(253, 180, 98, 1.0)",
           "rgba(179, 222, 105, 1.0)",
           "rgba(252, 205, 229, 1.0)",
           "rgba(217, 217, 217, 1.0)",
           "rgba(188, 128, 189, 1.0)",
           "rgba(204, 235, 197, 1.0)"
          ]
         },
         "name": "",
         "sort": true,
         "textinfo": "percent",
         "type": "pie",
         "values": [
          42.3,
          40.4,
          32.9,
          15.1,
          225.3,
          224.2,
          34.5,
          31,
          27.4,
          26.9,
          18
         ]
        }
       ],
       "layout": {
        "legend": {
         "bgcolor": "#F5F6F9",
         "font": {
          "color": "#4D5663"
         }
        },
        "paper_bgcolor": "#F5F6F9",
        "plot_bgcolor": "#F5F6F9",
        "titlefont": {
         "color": "#4D5663"
        }
       }
      },
      "text/html": [
       "<div id=\"d0ff4fcf-4ee6-47bb-be5c-8fec0207f9ce\" style=\"height: 525px; width: 100%;\" class=\"plotly-graph-div\"></div><script type=\"text/javascript\">require([\"plotly\"], function(Plotly) { window.PLOTLYENV=window.PLOTLYENV || {};window.PLOTLYENV.BASE_URL=\"https://plot.ly\";\n",
       "if (document.getElementById(\"d0ff4fcf-4ee6-47bb-be5c-8fec0207f9ce\")) {\n",
       "    Plotly.newPlot(\"d0ff4fcf-4ee6-47bb-be5c-8fec0207f9ce\", [{\"hole\": 0.6, \"labels\": [\"Packets (crisp, sweet, lolly, sandwich)\", \"Glass\", \"Caps & lids\", \"Cutlery / trays / straws\", \"Plastic / polystyrene pieces (0\\u201350 cm)\", \"Unspecified\", \"Cigarette stubs\", \"String / cord (thickness 0\\u20131 cm)\", \"Wet wipes\", \"Cotton bud sticks\", \"Fishing line\"], \"marker\": {\"colors\": [\"rgba(141, 211, 199, 1.0)\", \"rgba(255, 255, 179, 1.0)\", \"rgba(190, 186, 218, 1.0)\", \"rgba(251, 128, 114, 1.0)\", \"rgba(128, 177, 211, 1.0)\", \"rgba(253, 180, 98, 1.0)\", \"rgba(179, 222, 105, 1.0)\", \"rgba(252, 205, 229, 1.0)\", \"rgba(217, 217, 217, 1.0)\", \"rgba(188, 128, 189, 1.0)\", \"rgba(204, 235, 197, 1.0)\"]}, \"name\": \"\", \"sort\": true, \"textinfo\": \"percent\", \"values\": [42.3, 40.4, 32.9, 15.1, 225.3, 224.2, 34.5, 31.0, 27.4, 26.9, 18.0], \"type\": \"pie\"}], {\"legend\": {\"bgcolor\": \"#F5F6F9\", \"font\": {\"color\": \"#4D5663\"}}, \"paper_bgcolor\": \"#F5F6F9\", \"plot_bgcolor\": \"#F5F6F9\", \"titlefont\": {\"color\": \"#4D5663\"}}, {\"showLink\": true, \"linkText\": \"Export to plot.ly\", \"plotlyServerURL\": \"https://plot.ly\"}); \n",
       "}\n",
       "});</script><script type=\"text/javascript\">window.addEventListener(\"resize\", function(){if (document.getElementById(\"d0ff4fcf-4ee6-47bb-be5c-8fec0207f9ce\")) {window._Plotly.Plots.resize(document.getElementById(\"d0ff4fcf-4ee6-47bb-be5c-8fec0207f9ce\"));};})</script>"
      ],
      "text/vnd.plotly.v1+html": [
       "<div id=\"d0ff4fcf-4ee6-47bb-be5c-8fec0207f9ce\" style=\"height: 525px; width: 100%;\" class=\"plotly-graph-div\"></div><script type=\"text/javascript\">require([\"plotly\"], function(Plotly) { window.PLOTLYENV=window.PLOTLYENV || {};window.PLOTLYENV.BASE_URL=\"https://plot.ly\";\n",
       "if (document.getElementById(\"d0ff4fcf-4ee6-47bb-be5c-8fec0207f9ce\")) {\n",
       "    Plotly.newPlot(\"d0ff4fcf-4ee6-47bb-be5c-8fec0207f9ce\", [{\"hole\": 0.6, \"labels\": [\"Packets (crisp, sweet, lolly, sandwich)\", \"Glass\", \"Caps & lids\", \"Cutlery / trays / straws\", \"Plastic / polystyrene pieces (0\\u201350 cm)\", \"Unspecified\", \"Cigarette stubs\", \"String / cord (thickness 0\\u20131 cm)\", \"Wet wipes\", \"Cotton bud sticks\", \"Fishing line\"], \"marker\": {\"colors\": [\"rgba(141, 211, 199, 1.0)\", \"rgba(255, 255, 179, 1.0)\", \"rgba(190, 186, 218, 1.0)\", \"rgba(251, 128, 114, 1.0)\", \"rgba(128, 177, 211, 1.0)\", \"rgba(253, 180, 98, 1.0)\", \"rgba(179, 222, 105, 1.0)\", \"rgba(252, 205, 229, 1.0)\", \"rgba(217, 217, 217, 1.0)\", \"rgba(188, 128, 189, 1.0)\", \"rgba(204, 235, 197, 1.0)\"]}, \"name\": \"\", \"sort\": true, \"textinfo\": \"percent\", \"values\": [42.3, 40.4, 32.9, 15.1, 225.3, 224.2, 34.5, 31.0, 27.4, 26.9, 18.0], \"type\": \"pie\"}], {\"legend\": {\"bgcolor\": \"#F5F6F9\", \"font\": {\"color\": \"#4D5663\"}}, \"paper_bgcolor\": \"#F5F6F9\", \"plot_bgcolor\": \"#F5F6F9\", \"titlefont\": {\"color\": \"#4D5663\"}}, {\"showLink\": true, \"linkText\": \"Export to plot.ly\", \"plotlyServerURL\": \"https://plot.ly\"}); \n",
       "}\n",
       "});</script><script type=\"text/javascript\">window.addEventListener(\"resize\", function(){if (document.getElementById(\"d0ff4fcf-4ee6-47bb-be5c-8fec0207f9ce\")) {window._Plotly.Plots.resize(document.getElementById(\"d0ff4fcf-4ee6-47bb-be5c-8fec0207f9ce\"));};})</script>"
      ]
     },
     "metadata": {},
     "output_type": "display_data"
    }
   ],
   "source": [
    "# See https://plot.ly/pandas/pie-charts/\n",
    "df_data.iplot(kind='pie',labels='Item',values='Number per 100m of beach',hole=.6,\n",
    "          colorscale='Set3',hoverinfo='label+percent',textinfo='percent',sort=True)"
   ]
  },
  {
   "cell_type": "code",
   "execution_count": 7,
   "metadata": {},
   "outputs": [
    {
     "name": "stdout",
     "output_type": "stream",
     "text": [
      "Plastic / polystyrene pieces (0–50 cm)     225\n",
      "Unspecified                                224\n",
      "Packets (crisp, sweet, lolly, sandwich)     42\n",
      "Glass                                       40\n",
      "Cigarette stubs                             34\n",
      "Caps & lids                                 33\n",
      "String / cord (thickness 0–1 cm)            31\n",
      "Cotton bud sticks                           27\n",
      "Wet wipes                                   27\n",
      "Fishing line                                18\n",
      "Cutlery / trays / straws                    15\n",
      "Name: Category, dtype: int64\n"
     ]
    },
    {
     "data": {
      "text/html": [
       "<div>\n",
       "<style scoped>\n",
       "    .dataframe tbody tr th:only-of-type {\n",
       "        vertical-align: middle;\n",
       "    }\n",
       "\n",
       "    .dataframe tbody tr th {\n",
       "        vertical-align: top;\n",
       "    }\n",
       "\n",
       "    .dataframe thead th {\n",
       "        text-align: right;\n",
       "    }\n",
       "</style>\n",
       "<table border=\"1\" class=\"dataframe\">\n",
       "  <thead>\n",
       "    <tr style=\"text-align: right;\">\n",
       "      <th></th>\n",
       "      <th>X</th>\n",
       "      <th>Y</th>\n",
       "    </tr>\n",
       "  </thead>\n",
       "  <tbody>\n",
       "    <tr>\n",
       "      <th>count</th>\n",
       "      <td>716.000000</td>\n",
       "      <td>716.000000</td>\n",
       "    </tr>\n",
       "    <tr>\n",
       "      <th>mean</th>\n",
       "      <td>50.156425</td>\n",
       "      <td>82.994413</td>\n",
       "    </tr>\n",
       "    <tr>\n",
       "      <th>std</th>\n",
       "      <td>29.669661</td>\n",
       "      <td>45.010799</td>\n",
       "    </tr>\n",
       "    <tr>\n",
       "      <th>min</th>\n",
       "      <td>1.000000</td>\n",
       "      <td>1.000000</td>\n",
       "    </tr>\n",
       "    <tr>\n",
       "      <th>25%</th>\n",
       "      <td>23.000000</td>\n",
       "      <td>45.000000</td>\n",
       "    </tr>\n",
       "    <tr>\n",
       "      <th>50%</th>\n",
       "      <td>51.000000</td>\n",
       "      <td>83.000000</td>\n",
       "    </tr>\n",
       "    <tr>\n",
       "      <th>75%</th>\n",
       "      <td>75.000000</td>\n",
       "      <td>118.250000</td>\n",
       "    </tr>\n",
       "    <tr>\n",
       "      <th>max</th>\n",
       "      <td>100.000000</td>\n",
       "      <td>160.000000</td>\n",
       "    </tr>\n",
       "  </tbody>\n",
       "</table>\n",
       "</div>"
      ],
      "text/plain": [
       "                X           Y\n",
       "count  716.000000  716.000000\n",
       "mean    50.156425   82.994413\n",
       "std     29.669661   45.010799\n",
       "min      1.000000    1.000000\n",
       "25%     23.000000   45.000000\n",
       "50%     51.000000   83.000000\n",
       "75%     75.000000  118.250000\n",
       "max    100.000000  160.000000"
      ]
     },
     "execution_count": 7,
     "metadata": {},
     "output_type": "execute_result"
    }
   ],
   "source": [
    "# I'd like to depict the 718 individual items in the 100 meters\n",
    "# Loop through df_data and create n new dataframe rows for each row of n items\n",
    "# Pick width of beach = 160m\n",
    "d = []\n",
    "for index, row in df_data.iterrows():\n",
    "    for x in range(0, round(row['Number per 100m of beach'])):\n",
    "        d.append({'Category': row['Item'],'X': random.randint(1, 100),'Y': random.randint(1, 160) })\n",
    "\n",
    "df_100m = pd.DataFrame(d)\n",
    "print(df_100m['Category'].value_counts())\n",
    "df_100m.describe()"
   ]
  },
  {
   "cell_type": "code",
   "execution_count": 8,
   "metadata": {},
   "outputs": [
    {
     "data": {
      "text/plain": [
       "<Figure size 1200x800 with 1 Axes>"
      ]
     },
     "metadata": {},
     "output_type": "display_data"
    }
   ],
   "source": [
    "# The following code for using images to create a \"scatterplot\" is from:\n",
    "# https://stackoverflow.com/questions/25329583/matplotlib-using-image-for-points-on-plot\n",
    "\n",
    "from matplotlib import pyplot as plt\n",
    "from matplotlib.image import BboxImage\n",
    "from matplotlib.transforms import Bbox, TransformedBbox\n",
    "\n",
    "# Load images.\n",
    "wipes_marker = plt.imread('wipes.png')\n",
    "blob_marker = plt.imread('blob.png')\n",
    "cap_marker = plt.imread('bottle-cap.png')\n",
    "chips_marker = plt.imread('chips.png')\n",
    "cig_marker = plt.imread('cigarette.png')\n",
    "cord_marker = plt.imread('cord-lace.png')\n",
    "qtip_marker = plt.imread('cotton-swab.png')\n",
    "fishingline_marker = plt.imread('fishing_line.png')\n",
    "fork_marker = plt.imread('fork.png')\n",
    "glass_marker = plt.imread('glass.png')\n",
    "bottle_marker = plt.imread('plastic-bottle.png')\n",
    "\n",
    "# Create figure\n",
    "fig = plt.figure(figsize=(12, 8))\n",
    "ax = fig.add_subplot(111)\n",
    "\n",
    "# Plots an image at each x and y location. \n",
    "def plotImage(xData, yData, im):\n",
    "    for x, y in zip(xData, yData):\n",
    "        bb = Bbox.from_bounds(x,y,1,1)  \n",
    "        bb2 = TransformedBbox(bb,ax.transData)\n",
    "        bbox_image = BboxImage(bb2,\n",
    "                            norm = None,\n",
    "                            origin=None,\n",
    "                            clip_on=False)\n",
    "\n",
    "        bbox_image.set_data(im)\n",
    "        ax.add_artist(bbox_image)\n",
    "\n",
    "df_wipes = df_100m.query('Category==\"Wet wipes\"')\n",
    "plotImage(df_wipes['X'], df_wipes['Y'], wipes_marker)\n",
    "#plotImage(redX, redY, redMarker)\n",
    "\n",
    "# Set the x and y limits\n",
    "ax.set_ylim(0,160)\n",
    "ax.set_xlim(0,100)\n",
    "\n",
    "plt.show()"
   ]
  },
  {
   "cell_type": "code",
   "execution_count": 77,
   "metadata": {},
   "outputs": [],
   "source": [
    "# Ugh - cutting my losses"
   ]
  },
  {
   "cell_type": "code",
   "execution_count": 9,
   "metadata": {},
   "outputs": [
    {
     "data": {
      "application/vnd.plotly.v1+json": {
       "config": {
        "linkText": "Export to plot.ly",
        "plotlyServerURL": "https://plot.ly",
        "showLink": false
       },
       "data": [
        {
         "hole": 0.6,
         "hoverinfo": "label+value",
         "labels": [
          "Packets (crisp, sweet, lolly, sandwich)",
          "Glass",
          "Caps & lids",
          "Cutlery / trays / straws",
          "Plastic / polystyrene pieces (0–50 cm)",
          "Unspecified",
          "Cigarette stubs",
          "String / cord (thickness 0–1 cm)",
          "Wet wipes",
          "Cotton bud sticks",
          "Fishing line"
         ],
         "marker": {
          "colors": [
           "rgb(250, 128, 114)",
           "rgb(255, 36, 0)",
           "rgb( 202,52,51)",
           "rgb(164, 90, 82)",
           "rgb(255, 253, 208)",
           "rgb(255, 253, 208)",
           "rgb(255, 253, 208)",
           null,
           "rgb(255, 253, 208)",
           null,
           "rgb(255, 253, 208)"
          ],
          "line": {
           "color": "#000000",
           "width": 2
          }
         },
         "textfont": {
          "size": 12
         },
         "textinfo": "label",
         "textposition": "outside",
         "type": "pie",
         "uid": "1ff302a3-7e87-4d64-92f7-009540a2e898",
         "values": [
          42.3,
          40.4,
          32.9,
          15.1,
          225.3,
          224.2,
          34.5,
          31,
          27.4,
          26.9,
          18
         ]
        },
        {
         "hole": 0.6,
         "hoverinfo": "label+value",
         "labels": [
          "Packets (crisp, sweet, lolly, sandwich)",
          "Glass",
          "Caps & lids",
          "Cutlery / trays / straws",
          "Plastic / polystyrene pieces (0–50 cm)",
          "Unspecified",
          "Cigarette stubs",
          "String / cord (thickness 0–1 cm)",
          "Wet wipes",
          "Cotton bud sticks",
          "Fishing line"
         ],
         "marker": {
          "colors": [
           "rgb(250, 128, 114)",
           "rgb(255, 36, 0)",
           "rgb( 202,52,51)",
           "rgb(164, 90, 82)",
           "rgb(255, 253, 208)",
           "rgb(255, 253, 208)",
           "rgb(255, 253, 208)",
           null,
           "rgb(255, 253, 208)",
           null,
           "rgb(255, 253, 208)"
          ],
          "line": {
           "color": "#000000",
           "width": 2
          }
         },
         "textfont": {
          "size": 12
         },
         "textinfo": "value",
         "textposition": "inside",
         "type": "pie",
         "uid": "de1501b8-f2d8-4f49-935a-ddc8ea1e7c84",
         "values": [
          42.3,
          40.4,
          32.9,
          15.1,
          225.3,
          224.2,
          34.5,
          31,
          27.4,
          26.9,
          18
         ]
        }
       ],
       "layout": {}
      },
      "text/html": [
       "<div id=\"3b1a147e-9919-4cef-8177-b7104a364575\" style=\"height: 525px; width: 100%;\" class=\"plotly-graph-div\"></div><script type=\"text/javascript\">require([\"plotly\"], function(Plotly) { window.PLOTLYENV=window.PLOTLYENV || {};window.PLOTLYENV.BASE_URL=\"https://plot.ly\";\n",
       "if (document.getElementById(\"3b1a147e-9919-4cef-8177-b7104a364575\")) {\n",
       "    Plotly.newPlot(\"3b1a147e-9919-4cef-8177-b7104a364575\", [{\"hole\": 0.6, \"hoverinfo\": \"label+value\", \"labels\": [\"Packets (crisp, sweet, lolly, sandwich)\", \"Glass\", \"Caps & lids\", \"Cutlery / trays / straws\", \"Plastic / polystyrene pieces (0\\u201350 cm)\", \"Unspecified\", \"Cigarette stubs\", \"String / cord (thickness 0\\u20131 cm)\", \"Wet wipes\", \"Cotton bud sticks\", \"Fishing line\"], \"marker\": {\"colors\": [\"rgb(250, 128, 114)\", \"rgb(255, 36, 0)\", \"rgb( 202,52,51)\", \"rgb(164, 90, 82)\", \"rgb(255, 253, 208)\", \"rgb(255, 253, 208)\", \"rgb(255, 253, 208)\", null, \"rgb(255, 253, 208)\", null, \"rgb(255, 253, 208)\"], \"line\": {\"color\": \"#000000\", \"width\": 2}}, \"textfont\": {\"size\": 12}, \"textinfo\": \"label\", \"textposition\": \"outside\", \"values\": [42.3, 40.4, 32.9, 15.1, 225.3, 224.2, 34.5, 31.0, 27.4, 26.9, 18.0], \"type\": \"pie\", \"uid\": \"51847adf-5ec7-4b6c-949f-79a61aac3448\"}, {\"hole\": 0.6, \"hoverinfo\": \"label+value\", \"labels\": [\"Packets (crisp, sweet, lolly, sandwich)\", \"Glass\", \"Caps & lids\", \"Cutlery / trays / straws\", \"Plastic / polystyrene pieces (0\\u201350 cm)\", \"Unspecified\", \"Cigarette stubs\", \"String / cord (thickness 0\\u20131 cm)\", \"Wet wipes\", \"Cotton bud sticks\", \"Fishing line\"], \"marker\": {\"colors\": [\"rgb(250, 128, 114)\", \"rgb(255, 36, 0)\", \"rgb( 202,52,51)\", \"rgb(164, 90, 82)\", \"rgb(255, 253, 208)\", \"rgb(255, 253, 208)\", \"rgb(255, 253, 208)\", null, \"rgb(255, 253, 208)\", null, \"rgb(255, 253, 208)\"], \"line\": {\"color\": \"#000000\", \"width\": 2}}, \"textfont\": {\"size\": 12}, \"textinfo\": \"value\", \"textposition\": \"inside\", \"values\": [42.3, 40.4, 32.9, 15.1, 225.3, 224.2, 34.5, 31.0, 27.4, 26.9, 18.0], \"type\": \"pie\", \"uid\": \"4c2acab6-41ac-466f-b1ed-642d7f71c7c7\"}], {}, {\"showLink\": false, \"linkText\": \"Export to plot.ly\", \"plotlyServerURL\": \"https://plot.ly\"}); \n",
       "}\n",
       "});</script><script type=\"text/javascript\">window.addEventListener(\"resize\", function(){if (document.getElementById(\"3b1a147e-9919-4cef-8177-b7104a364575\")) {window._Plotly.Plots.resize(document.getElementById(\"3b1a147e-9919-4cef-8177-b7104a364575\"));};})</script>"
      ],
      "text/vnd.plotly.v1+html": [
       "<div id=\"3b1a147e-9919-4cef-8177-b7104a364575\" style=\"height: 525px; width: 100%;\" class=\"plotly-graph-div\"></div><script type=\"text/javascript\">require([\"plotly\"], function(Plotly) { window.PLOTLYENV=window.PLOTLYENV || {};window.PLOTLYENV.BASE_URL=\"https://plot.ly\";\n",
       "if (document.getElementById(\"3b1a147e-9919-4cef-8177-b7104a364575\")) {\n",
       "    Plotly.newPlot(\"3b1a147e-9919-4cef-8177-b7104a364575\", [{\"hole\": 0.6, \"hoverinfo\": \"label+value\", \"labels\": [\"Packets (crisp, sweet, lolly, sandwich)\", \"Glass\", \"Caps & lids\", \"Cutlery / trays / straws\", \"Plastic / polystyrene pieces (0\\u201350 cm)\", \"Unspecified\", \"Cigarette stubs\", \"String / cord (thickness 0\\u20131 cm)\", \"Wet wipes\", \"Cotton bud sticks\", \"Fishing line\"], \"marker\": {\"colors\": [\"rgb(250, 128, 114)\", \"rgb(255, 36, 0)\", \"rgb( 202,52,51)\", \"rgb(164, 90, 82)\", \"rgb(255, 253, 208)\", \"rgb(255, 253, 208)\", \"rgb(255, 253, 208)\", null, \"rgb(255, 253, 208)\", null, \"rgb(255, 253, 208)\"], \"line\": {\"color\": \"#000000\", \"width\": 2}}, \"textfont\": {\"size\": 12}, \"textinfo\": \"label\", \"textposition\": \"outside\", \"values\": [42.3, 40.4, 32.9, 15.1, 225.3, 224.2, 34.5, 31.0, 27.4, 26.9, 18.0], \"type\": \"pie\", \"uid\": \"51847adf-5ec7-4b6c-949f-79a61aac3448\"}, {\"hole\": 0.6, \"hoverinfo\": \"label+value\", \"labels\": [\"Packets (crisp, sweet, lolly, sandwich)\", \"Glass\", \"Caps & lids\", \"Cutlery / trays / straws\", \"Plastic / polystyrene pieces (0\\u201350 cm)\", \"Unspecified\", \"Cigarette stubs\", \"String / cord (thickness 0\\u20131 cm)\", \"Wet wipes\", \"Cotton bud sticks\", \"Fishing line\"], \"marker\": {\"colors\": [\"rgb(250, 128, 114)\", \"rgb(255, 36, 0)\", \"rgb( 202,52,51)\", \"rgb(164, 90, 82)\", \"rgb(255, 253, 208)\", \"rgb(255, 253, 208)\", \"rgb(255, 253, 208)\", null, \"rgb(255, 253, 208)\", null, \"rgb(255, 253, 208)\"], \"line\": {\"color\": \"#000000\", \"width\": 2}}, \"textfont\": {\"size\": 12}, \"textinfo\": \"value\", \"textposition\": \"inside\", \"values\": [42.3, 40.4, 32.9, 15.1, 225.3, 224.2, 34.5, 31.0, 27.4, 26.9, 18.0], \"type\": \"pie\", \"uid\": \"4c2acab6-41ac-466f-b1ed-642d7f71c7c7\"}], {}, {\"showLink\": false, \"linkText\": \"Export to plot.ly\", \"plotlyServerURL\": \"https://plot.ly\"}); \n",
       "}\n",
       "});</script><script type=\"text/javascript\">window.addEventListener(\"resize\", function(){if (document.getElementById(\"3b1a147e-9919-4cef-8177-b7104a364575\")) {window._Plotly.Plots.resize(document.getElementById(\"3b1a147e-9919-4cef-8177-b7104a364575\"));};})</script>"
      ]
     },
     "metadata": {},
     "output_type": "display_data"
    }
   ],
   "source": [
    "# Return to a donut chart - use custom colors, specify borders\n",
    "# Map the colors\n",
    "# see https://stackoverflow.com/questions/49885837/python-plotly-assigning-scatterplot-colors-by-label\n",
    "# Pie chart default sort of largest > smallest value overrides df sort\n",
    "colorsIdx = {'Packets (crisp, sweet, lolly, sandwich)': 'rgb(250, 128, 114)',\n",
    "             'Glass': 'rgb(255, 36, 0)',\n",
    "             'Caps & lids': 'rgb( 202,52,51)',\n",
    "             'Cutlery / trays / straws': 'rgb(164, 90, 82)',\n",
    "             'Plastic / polystyrene pieces (0–50 cm)': 'rgb(255, 253, 208)', \n",
    "             'Unspecified': 'rgb(255, 253, 208)',\n",
    "             'Cigarette stubs': 'rgb(255, 253, 208)',\n",
    "             'Wet wipes': 'rgb(255, 253, 208)',\n",
    "             'Fishing line': 'rgb(255, 253, 208)'           \n",
    "            }\n",
    "cols = df_data['Item'].map(colorsIdx)\n",
    "\n",
    "# Create 2 traces - 1 for inside and 1 for outside\n",
    "# See https://community.plot.ly/t/text-position-inside-for-label-and-outside-for-value-pie-chart/8952/4\n",
    "common_props = dict(labels=df_data['Item'],\n",
    "               values=df_data['Number per 100m of beach'],\n",
    "               hoverinfo='label+value', \n",
    "               textfont=dict(size=12),\n",
    "               hole=.6,\n",
    "               marker=dict(colors=cols, \n",
    "                           line=dict(color='#000000', width=2)))\n",
    "\n",
    "# Use 2 traces on top of one another to get inside and outside labels\n",
    "trace1 = go.Pie(\n",
    "    **common_props, \n",
    "   textinfo='label', \n",
    "   textposition='outside')\n",
    "trace2 = go.Pie(\n",
    "    **common_props,\n",
    "    textinfo='value',\n",
    "    textposition='inside')\n",
    "\n",
    "#data = [trace]\n",
    "iplot([trace1, trace2], filename='basic_donut_chart')"
   ]
  },
  {
   "cell_type": "code",
   "execution_count": 80,
   "metadata": {},
   "outputs": [],
   "source": [
    "# OK I'm going with this plot. Will emphasize the to-go items.\n",
    "# Try to get all the \"to-go\" items together with one color\n",
    "# Simplify the plot -put all to-go items together, make them the same color, remove legend\n",
    "# Will ultimately use a bar plot on the right as a legend"
   ]
  },
  {
   "cell_type": "code",
   "execution_count": 10,
   "metadata": {},
   "outputs": [
    {
     "data": {
      "text/html": [
       "<iframe id=\"igraph\" scrolling=\"no\" style=\"border:none;\" seamless=\"seamless\" src=\"https://plot.ly/~sglass/26.embed\" height=\"525px\" width=\"100%\"></iframe>"
      ],
      "text/plain": [
       "<plotly.tools.PlotlyDisplay object>"
      ]
     },
     "execution_count": 10,
     "metadata": {},
     "output_type": "execute_result"
    }
   ],
   "source": [
    "# Pie chart examples and multi-figure layouts: https://plot.ly/python/pie-charts/\n",
    "\n",
    "# Using textinfo=text allows entry of values other than the label,\n",
    "# which defines the sections of the pie chart.  This is turn allows some\n",
    "# sections to have no labels (removing values from labels will remove sections\n",
    "# from the pie chart)\n",
    "df_data = df_data.sort_values(by='togo_sort_value', ascending=False)\n",
    "fig = {\n",
    "  \"data\": [\n",
    "    {\n",
    "      \"values\": df_data['Number per 100m of beach'],\n",
    "      \"labels\": df_data['Item'],\n",
    "      \"domain\": {\"x\": [0, .48]},\n",
    "      \"name\": \"Togo Trash Donut\",\n",
    "      \"hoverinfo\":'label+value', \n",
    "      \"hole\": .6,\n",
    "      \"type\": \"pie\",\n",
    "      \"textinfo\":\"text\",\n",
    "        \"sort\":False,    # Remove the default sort of largest value to smallest\n",
    "      \"text\":[shortname.get(val) if val in togo_items else '' \n",
    "              for val in df_data['Item']], \n",
    "      \"textposition\":'outside',\n",
    "      'marker': {'colors': df_data['togo_color'],\n",
    "                    'line':{'color':'gray', 'width':2}\n",
    "                }\n",
    "    }\n",
    "  ],\n",
    "  'layout': \n",
    "    {\n",
    "        #'title': 'To-go Trash Found on UK Beaches',\n",
    "        'showlegend': False,\n",
    "        'font':{'family':'Arial', 'size':16, 'color':'black'}\n",
    "    }\n",
    "}\n",
    "py.iplot(fig, filename='togo_donut_1')\n"
   ]
  },
  {
   "cell_type": "code",
   "execution_count": 11,
   "metadata": {},
   "outputs": [
    {
     "data": {
      "text/html": [
       "<iframe id=\"igraph\" scrolling=\"no\" style=\"border:none;\" seamless=\"seamless\" src=\"https://plot.ly/~sglass/24.embed\" height=\"525px\" width=\"100%\"></iframe>"
      ],
      "text/plain": [
       "<plotly.tools.PlotlyDisplay object>"
      ]
     },
     "execution_count": 11,
     "metadata": {},
     "output_type": "execute_result"
    }
   ],
   "source": [
    "# Actually I think the donut chart should just label the To-Go\n",
    "# The bar chart will show all the sections\n",
    "df_data = df_data.sort_values(by='togo_sort_value', ascending=False)\n",
    "df_togo_groups = df_data.groupby('is_togo')['Number per 100m of beach'] \\\n",
    "            .sum().to_frame().reset_index()\n",
    "\n",
    "fig = {\n",
    "  \"data\": [\n",
    "    {\n",
    "        \"values\": df_data['Number per 100m of beach'],\n",
    "      \"labels\": df_data['Item'],\n",
    "      \"domain\": {\"x\": [0, .48]},\n",
    "      \"name\": \"Togo Trash Donut 2\",\n",
    "      \"hoverinfo\":'label+value', \n",
    "      \"hole\": .6,\n",
    "      \"type\": \"pie\",\n",
    "      \"textinfo\":\"text\",\n",
    "      \"text\": ['To-Go Trash' if val == 'Glass'\n",
    "                            else '' for val in df_data['Item']], \n",
    "        \"sort\":False,    # Remove the default sort of largest value to smallest\n",
    "      \"textposition\":'outside',\n",
    "      'marker': {'colors': df_data['togo_color'],\n",
    "                    'line':{'color':'gray', 'width':2}\n",
    "                }\n",
    "    }\n",
    "  ],\n",
    "  'layout': \n",
    "    {\n",
    "       'title': 'To-go Trash Found on UK Beaches',\n",
    "        'showlegend': False,\n",
    "        'font':{'family':'Arial', 'size':16, 'color':'black'}\n",
    "    }\n",
    "}\n",
    "py.iplot(fig, filename='togo_donut_2')\n",
    "\n"
   ]
  },
  {
   "cell_type": "code",
   "execution_count": 17,
   "metadata": {},
   "outputs": [
    {
     "data": {
      "text/html": [
       "<iframe id=\"igraph\" scrolling=\"no\" style=\"border:none;\" seamless=\"seamless\" src=\"https://plot.ly/~sglass/28.embed\" height=\"525px\" width=\"100%\"></iframe>"
      ],
      "text/plain": [
       "<plotly.tools.PlotlyDisplay object>"
      ]
     },
     "execution_count": 17,
     "metadata": {},
     "output_type": "execute_result"
    }
   ],
   "source": [
    "# OK let's do the bar chart\n",
    "# Even the short labels get cut off -- so increase the left margin size in layout\n",
    "df_data = df_data.sort_values(by='Number per 100m of beach', ascending=True)\n",
    "\n",
    "trace1 = go.Bar(\n",
    "    x=df_data['Number per 100m of beach'],\n",
    "    y=df_data['shortname'],\n",
    "    hoverinfo='y+x', \n",
    "    marker=dict(\n",
    "        color=df_data['togo_color'],\n",
    "        line=dict(\n",
    "            color='gray',\n",
    "            width=2)\n",
    "    ),\n",
    "    orientation='h'\n",
    ")\n",
    "\n",
    "layout1 = go.Layout(\n",
    "    autosize=True,\n",
    "    yaxis=go.layout.YAxis(automargin=True),\n",
    "    xaxis=go.layout.XAxis(automargin=True),\n",
    "    showlegend=False\n",
    ")\n",
    "\n",
    "traces=[trace1]\n",
    "fig = go.Figure(data=traces)\n",
    "py.iplot(traces, filename='togo_bar_chart')"
   ]
  },
  {
   "cell_type": "code",
   "execution_count": 12,
   "metadata": {},
   "outputs": [
    {
     "name": "stdout",
     "output_type": "stream",
     "text": [
      "This is the format of your plot grid:\n",
      "[ (1,1) x1,y1 ]  [ (1,2) x2,y2 ]\n",
      "\n"
     ]
    },
    {
     "ename": "ValueError",
     "evalue": "Invalid property specified for object of type plotly.graph_objs.Pie: 'xaxis'\n\n    Valid properties:\n        customdata\n            Assigns extra data each datum. This may be useful when\n            listening to hover, click and selection events. Note\n            that, \"scatter\" traces also appends customdata items in\n            the markers DOM elements\n        customdatasrc\n            Sets the source reference on plot.ly for  customdata .\n        direction\n            Specifies the direction at which succeeding sectors\n            follow one another.\n        dlabel\n            Sets the label step. See `label0` for more info.\n        domain\n            plotly.graph_objs.pie.Domain instance or dict with\n            compatible properties\n        hole\n            Sets the fraction of the radius to cut out of the pie.\n            Use this to make a donut chart.\n        hoverinfo\n            Determines which trace information appear on hover. If\n            `none` or `skip` are set, no information is displayed\n            upon hovering. But, if `none` is set, click and hover\n            events are still fired.\n        hoverinfosrc\n            Sets the source reference on plot.ly for  hoverinfo .\n        hoverlabel\n            plotly.graph_objs.pie.Hoverlabel instance or dict with\n            compatible properties\n        hovertemplate\n            Template string used for rendering the information that\n            appear on hover box. Note that this will override\n            `hoverinfo`. Variables are inserted using %{variable},\n            for example \"y: %{y}\". Numbers are formatted using\n            d3-format's syntax %{variable:d3-format}, for example\n            \"Price: %{y:$.2f}\". See https://github.com/d3/d3-format\n            /blob/master/README.md#locale_format for details on the\n            formatting syntax. The variables available in\n            `hovertemplate` are the ones emitted as event data\n            described at this link\n            https://plot.ly/javascript/plotlyjs-events/#event-data.\n            Additionally, every attributes that can be specified\n            per-point (the ones that are `arrayOk: true`) are\n            available. variables `label`, `color`, `value`,\n            `percent` and `text`. Anything contained in tag\n            `<extra>` is displayed in the secondary box, for\n            example \"<extra>{fullData.name}</extra>\".\n        hovertemplatesrc\n            Sets the source reference on plot.ly for  hovertemplate\n            .\n        hovertext\n            Sets hover text elements associated with each sector.\n            If a single string, the same string appears for all\n            data points. If an array of string, the items are\n            mapped in order of this trace's sectors. To be seen,\n            trace `hoverinfo` must contain a \"text\" flag.\n        hovertextsrc\n            Sets the source reference on plot.ly for  hovertext .\n        ids\n            Assigns id labels to each datum. These ids for object\n            constancy of data points during animation. Should be an\n            array of strings, not numbers or any other type.\n        idssrc\n            Sets the source reference on plot.ly for  ids .\n        insidetextfont\n            Sets the font used for `textinfo` lying inside the pie.\n        label0\n            Alternate to `labels`. Builds a numeric set of labels.\n            Use with `dlabel` where `label0` is the starting label\n            and `dlabel` the step.\n        labels\n            Sets the sector labels. If `labels` entries are\n            duplicated, we sum associated `values` or simply count\n            occurrences if `values` is not provided. For other\n            array attributes (including color) we use the first\n            non-empty entry among all occurrences of the label.\n        labelssrc\n            Sets the source reference on plot.ly for  labels .\n        legendgroup\n            Sets the legend group for this trace. Traces part of\n            the same legend group hide/show at the same time when\n            toggling legend items.\n        marker\n            plotly.graph_objs.pie.Marker instance or dict with\n            compatible properties\n        name\n            Sets the trace name. The trace name appear as the\n            legend item and on hover.\n        opacity\n            Sets the opacity of the trace.\n        outsidetextfont\n            Sets the font used for `textinfo` lying outside the\n            pie.\n        pull\n            Sets the fraction of larger radius to pull the sectors\n            out from the center. This can be a constant to pull all\n            slices apart from each other equally or an array to\n            highlight one or more slices.\n        pullsrc\n            Sets the source reference on plot.ly for  pull .\n        rotation\n            Instead of the first slice starting at 12 o'clock,\n            rotate to some other angle.\n        scalegroup\n            If there are multiple pies that should be sized\n            according to their totals, link them by providing a\n            non-empty group id here shared by every trace in the\n            same group.\n        selectedpoints\n            Array containing integer indices of selected points.\n            Has an effect only for traces that support selections.\n            Note that an empty array means an empty selection where\n            the `unselected` are turned on for all points, whereas,\n            any other non-array values means no selection all where\n            the `selected` and `unselected` styles have no effect.\n        showlegend\n            Determines whether or not an item corresponding to this\n            trace is shown in the legend.\n        sort\n            Determines whether or not the sectors are reordered\n            from largest to smallest.\n        stream\n            plotly.graph_objs.pie.Stream instance or dict with\n            compatible properties\n        text\n            Sets text elements associated with each sector. If\n            trace `textinfo` contains a \"text\" flag, these elements\n            will be seen on the chart. If trace `hoverinfo`\n            contains a \"text\" flag and \"hovertext\" is not set,\n            these elements will be seen in the hover labels.\n        textfont\n            Sets the font used for `textinfo`.\n        textinfo\n            Determines which trace information appear on the graph.\n        textposition\n            Specifies the location of the `textinfo`.\n        textpositionsrc\n            Sets the source reference on plot.ly for  textposition\n            .\n        textsrc\n            Sets the source reference on plot.ly for  text .\n        title\n            plotly.graph_objs.pie.Title instance or dict with\n            compatible properties\n        titlefont\n            Deprecated: Please use pie.title.font instead. Sets the\n            font used for `title`. Note that the title's font used\n            to be set by the now deprecated `titlefont` attribute.\n        titleposition\n            Deprecated: Please use pie.title.position instead.\n            Specifies the location of the `title`. Note that the\n            title's position used to be set by the now deprecated\n            `titleposition` attribute.\n        uid\n            Assign an id to this trace, Use this to provide object\n            constancy between traces during animations and\n            transitions.\n        uirevision\n            Controls persistence of some user-driven changes to the\n            trace: `constraintrange` in `parcoords` traces, as well\n            as some `editable: true` modifications such as `name`\n            and `colorbar.title`. Defaults to `layout.uirevision`.\n            Note that other user-driven trace attribute changes are\n            controlled by `layout` attributes: `trace.visible` is\n            controlled by `layout.legend.uirevision`,\n            `selectedpoints` is controlled by\n            `layout.selectionrevision`, and `colorbar.(x|y)`\n            (accessible with `config: {editable: true}`) is\n            controlled by `layout.editrevision`. Trace changes are\n            tracked by `uid`, which only falls back on trace index\n            if no `uid` is provided. So if your app can add/remove\n            traces before the end of the `data` array, such that\n            the same trace has a different index, you can still\n            preserve user-driven changes if you give each trace a\n            `uid` that stays with it as it moves.\n        values\n            Sets the values of the sectors of this pie chart. If\n            omitted, we count occurrences of each label.\n        valuessrc\n            Sets the source reference on plot.ly for  values .\n        visible\n            Determines whether or not this trace is visible. If\n            \"legendonly\", the trace is not drawn, but can appear as\n            a legend item (provided that the legend itself is\n            visible).\n        ",
     "output_type": "error",
     "traceback": [
      "\u001b[0;31m---------------------------------------------------------------------------\u001b[0m",
      "\u001b[0;31mValueError\u001b[0m                                Traceback (most recent call last)",
      "\u001b[0;32m<ipython-input-12-77eba2e4b6f7>\u001b[0m in \u001b[0;36m<module>\u001b[0;34m()\u001b[0m\n\u001b[1;32m     37\u001b[0m \u001b[0;34m\u001b[0m\u001b[0m\n\u001b[1;32m     38\u001b[0m \u001b[0mfig\u001b[0m \u001b[0;34m=\u001b[0m \u001b[0mtools\u001b[0m\u001b[0;34m.\u001b[0m\u001b[0mmake_subplots\u001b[0m\u001b[0;34m(\u001b[0m\u001b[0mrows\u001b[0m\u001b[0;34m=\u001b[0m\u001b[0;36m1\u001b[0m\u001b[0;34m,\u001b[0m \u001b[0mcols\u001b[0m\u001b[0;34m=\u001b[0m\u001b[0;36m2\u001b[0m\u001b[0;34m)\u001b[0m\u001b[0;34m\u001b[0m\u001b[0;34m\u001b[0m\u001b[0m\n\u001b[0;32m---> 39\u001b[0;31m \u001b[0mfig\u001b[0m\u001b[0;34m.\u001b[0m\u001b[0mappend_trace\u001b[0m\u001b[0;34m(\u001b[0m\u001b[0mtrace0\u001b[0m\u001b[0;34m,\u001b[0m \u001b[0;36m1\u001b[0m\u001b[0;34m,\u001b[0m \u001b[0;36m1\u001b[0m\u001b[0;34m)\u001b[0m\u001b[0;34m\u001b[0m\u001b[0;34m\u001b[0m\u001b[0m\n\u001b[0m\u001b[1;32m     40\u001b[0m \u001b[0mfig\u001b[0m\u001b[0;34m.\u001b[0m\u001b[0mappend_trace\u001b[0m\u001b[0;34m(\u001b[0m\u001b[0mtrace1\u001b[0m\u001b[0;34m,\u001b[0m \u001b[0;36m1\u001b[0m\u001b[0;34m,\u001b[0m \u001b[0;36m2\u001b[0m\u001b[0;34m)\u001b[0m\u001b[0;34m\u001b[0m\u001b[0;34m\u001b[0m\u001b[0m\n\u001b[1;32m     41\u001b[0m \u001b[0mfig\u001b[0m\u001b[0;34m[\u001b[0m\u001b[0;34m'layout'\u001b[0m\u001b[0;34m]\u001b[0m\u001b[0;34m.\u001b[0m\u001b[0mupdate\u001b[0m\u001b[0;34m(\u001b[0m\u001b[0mheight\u001b[0m\u001b[0;34m=\u001b[0m\u001b[0;36m600\u001b[0m\u001b[0;34m,\u001b[0m \u001b[0mwidth\u001b[0m\u001b[0;34m=\u001b[0m\u001b[0;36m800\u001b[0m\u001b[0;34m,\u001b[0m \u001b[0msubplot_titles\u001b[0m\u001b[0;34m=\u001b[0m\u001b[0;34m(\u001b[0m\u001b[0;34m'Donut'\u001b[0m\u001b[0;34m,\u001b[0m \u001b[0;34m'Bar'\u001b[0m\u001b[0;34m)\u001b[0m\u001b[0;34m)\u001b[0m\u001b[0;34m\u001b[0m\u001b[0;34m\u001b[0m\u001b[0m\n",
      "\u001b[0;32m~/anaconda3/lib/python3.7/site-packages/plotly/basedatatypes.py\u001b[0m in \u001b[0;36mappend_trace\u001b[0;34m(self, trace, row, col)\u001b[0m\n\u001b[1;32m   1223\u001b[0m \"\"\", DeprecationWarning)\n\u001b[1;32m   1224\u001b[0m \u001b[0;34m\u001b[0m\u001b[0m\n\u001b[0;32m-> 1225\u001b[0;31m         \u001b[0mself\u001b[0m\u001b[0;34m.\u001b[0m\u001b[0madd_trace\u001b[0m\u001b[0;34m(\u001b[0m\u001b[0mtrace\u001b[0m\u001b[0;34m=\u001b[0m\u001b[0mtrace\u001b[0m\u001b[0;34m,\u001b[0m \u001b[0mrow\u001b[0m\u001b[0;34m=\u001b[0m\u001b[0mrow\u001b[0m\u001b[0;34m,\u001b[0m \u001b[0mcol\u001b[0m\u001b[0;34m=\u001b[0m\u001b[0mcol\u001b[0m\u001b[0;34m)\u001b[0m\u001b[0;34m\u001b[0m\u001b[0;34m\u001b[0m\u001b[0m\n\u001b[0m\u001b[1;32m   1226\u001b[0m \u001b[0;34m\u001b[0m\u001b[0m\n\u001b[1;32m   1227\u001b[0m     \u001b[0;32mdef\u001b[0m \u001b[0m_set_trace_grid_position\u001b[0m\u001b[0;34m(\u001b[0m\u001b[0mself\u001b[0m\u001b[0;34m,\u001b[0m \u001b[0mtrace\u001b[0m\u001b[0;34m,\u001b[0m \u001b[0mrow\u001b[0m\u001b[0;34m,\u001b[0m \u001b[0mcol\u001b[0m\u001b[0;34m)\u001b[0m\u001b[0;34m:\u001b[0m\u001b[0;34m\u001b[0m\u001b[0;34m\u001b[0m\u001b[0m\n",
      "\u001b[0;32m~/anaconda3/lib/python3.7/site-packages/plotly/basedatatypes.py\u001b[0m in \u001b[0;36madd_trace\u001b[0;34m(self, trace, row, col)\u001b[0m\n\u001b[1;32m   1070\u001b[0m         return self.add_traces(data=[trace],\n\u001b[1;32m   1071\u001b[0m                                \u001b[0mrows\u001b[0m\u001b[0;34m=\u001b[0m\u001b[0;34m[\u001b[0m\u001b[0mrow\u001b[0m\u001b[0;34m]\u001b[0m \u001b[0;32mif\u001b[0m \u001b[0mrow\u001b[0m \u001b[0;32mis\u001b[0m \u001b[0;32mnot\u001b[0m \u001b[0;32mNone\u001b[0m \u001b[0;32melse\u001b[0m \u001b[0;32mNone\u001b[0m\u001b[0;34m,\u001b[0m\u001b[0;34m\u001b[0m\u001b[0;34m\u001b[0m\u001b[0m\n\u001b[0;32m-> 1072\u001b[0;31m                                \u001b[0mcols\u001b[0m\u001b[0;34m=\u001b[0m\u001b[0;34m[\u001b[0m\u001b[0mcol\u001b[0m\u001b[0;34m]\u001b[0m \u001b[0;32mif\u001b[0m \u001b[0mcol\u001b[0m \u001b[0;32mis\u001b[0m \u001b[0;32mnot\u001b[0m \u001b[0;32mNone\u001b[0m \u001b[0;32melse\u001b[0m \u001b[0;32mNone\u001b[0m\u001b[0;34m\u001b[0m\u001b[0;34m\u001b[0m\u001b[0m\n\u001b[0m\u001b[1;32m   1073\u001b[0m                                )[0]\n\u001b[1;32m   1074\u001b[0m \u001b[0;34m\u001b[0m\u001b[0m\n",
      "\u001b[0;32m~/anaconda3/lib/python3.7/site-packages/plotly/basedatatypes.py\u001b[0m in \u001b[0;36madd_traces\u001b[0;34m(self, data, rows, cols)\u001b[0m\n\u001b[1;32m   1153\u001b[0m         \u001b[0;32mif\u001b[0m \u001b[0mrows\u001b[0m \u001b[0;32mis\u001b[0m \u001b[0;32mnot\u001b[0m \u001b[0;32mNone\u001b[0m\u001b[0;34m:\u001b[0m\u001b[0;34m\u001b[0m\u001b[0;34m\u001b[0m\u001b[0m\n\u001b[1;32m   1154\u001b[0m             \u001b[0;32mfor\u001b[0m \u001b[0mtrace\u001b[0m\u001b[0;34m,\u001b[0m \u001b[0mrow\u001b[0m\u001b[0;34m,\u001b[0m \u001b[0mcol\u001b[0m \u001b[0;32min\u001b[0m \u001b[0mzip\u001b[0m\u001b[0;34m(\u001b[0m\u001b[0mdata\u001b[0m\u001b[0;34m,\u001b[0m \u001b[0mrows\u001b[0m\u001b[0;34m,\u001b[0m \u001b[0mcols\u001b[0m\u001b[0;34m)\u001b[0m\u001b[0;34m:\u001b[0m\u001b[0;34m\u001b[0m\u001b[0;34m\u001b[0m\u001b[0m\n\u001b[0;32m-> 1155\u001b[0;31m                 \u001b[0mself\u001b[0m\u001b[0;34m.\u001b[0m\u001b[0m_set_trace_grid_position\u001b[0m\u001b[0;34m(\u001b[0m\u001b[0mtrace\u001b[0m\u001b[0;34m,\u001b[0m \u001b[0mrow\u001b[0m\u001b[0;34m,\u001b[0m \u001b[0mcol\u001b[0m\u001b[0;34m)\u001b[0m\u001b[0;34m\u001b[0m\u001b[0;34m\u001b[0m\u001b[0m\n\u001b[0m\u001b[1;32m   1156\u001b[0m \u001b[0;34m\u001b[0m\u001b[0m\n\u001b[1;32m   1157\u001b[0m         \u001b[0;31m# Make deep copy of trace data (Optimize later if needed)\u001b[0m\u001b[0;34m\u001b[0m\u001b[0;34m\u001b[0m\u001b[0;34m\u001b[0m\u001b[0m\n",
      "\u001b[0;32m~/anaconda3/lib/python3.7/site-packages/plotly/basedatatypes.py\u001b[0m in \u001b[0;36m_set_trace_grid_position\u001b[0;34m(self, trace, row, col)\u001b[0m\n\u001b[1;32m   1260\u001b[0m                                 \u001b[0;34m\"An axis object for ({r},{c}) subplot \"\u001b[0m\u001b[0;34m\u001b[0m\u001b[0;34m\u001b[0m\u001b[0m\n\u001b[1;32m   1261\u001b[0m                                 \"cell got deleted.\".format(r=row, c=col))\n\u001b[0;32m-> 1262\u001b[0;31m             \u001b[0mtrace\u001b[0m\u001b[0;34m[\u001b[0m\u001b[0;34m'xaxis'\u001b[0m\u001b[0;34m]\u001b[0m \u001b[0;34m=\u001b[0m \u001b[0mref\u001b[0m\u001b[0;34m[\u001b[0m\u001b[0;36m0\u001b[0m\u001b[0;34m]\u001b[0m\u001b[0;34m\u001b[0m\u001b[0;34m\u001b[0m\u001b[0m\n\u001b[0m\u001b[1;32m   1263\u001b[0m             \u001b[0mtrace\u001b[0m\u001b[0;34m[\u001b[0m\u001b[0;34m'yaxis'\u001b[0m\u001b[0;34m]\u001b[0m \u001b[0;34m=\u001b[0m \u001b[0mref\u001b[0m\u001b[0;34m[\u001b[0m\u001b[0;36m1\u001b[0m\u001b[0;34m]\u001b[0m\u001b[0;34m\u001b[0m\u001b[0;34m\u001b[0m\u001b[0m\n\u001b[1;32m   1264\u001b[0m \u001b[0;34m\u001b[0m\u001b[0m\n",
      "\u001b[0;32m~/anaconda3/lib/python3.7/site-packages/plotly/basedatatypes.py\u001b[0m in \u001b[0;36m__setitem__\u001b[0;34m(self, prop, value)\u001b[0m\n\u001b[1;32m   2824\u001b[0m             \u001b[0;31m# ### Validate prop ###\u001b[0m\u001b[0;34m\u001b[0m\u001b[0;34m\u001b[0m\u001b[0;34m\u001b[0m\u001b[0m\n\u001b[1;32m   2825\u001b[0m             \u001b[0;32mif\u001b[0m \u001b[0mprop\u001b[0m \u001b[0;32mnot\u001b[0m \u001b[0;32min\u001b[0m \u001b[0mself\u001b[0m\u001b[0;34m.\u001b[0m\u001b[0m_validators\u001b[0m\u001b[0;34m:\u001b[0m\u001b[0;34m\u001b[0m\u001b[0;34m\u001b[0m\u001b[0m\n\u001b[0;32m-> 2826\u001b[0;31m                 \u001b[0mself\u001b[0m\u001b[0;34m.\u001b[0m\u001b[0m_raise_on_invalid_property_error\u001b[0m\u001b[0;34m(\u001b[0m\u001b[0mprop\u001b[0m\u001b[0;34m)\u001b[0m\u001b[0;34m\u001b[0m\u001b[0;34m\u001b[0m\u001b[0m\n\u001b[0m\u001b[1;32m   2827\u001b[0m \u001b[0;34m\u001b[0m\u001b[0m\n\u001b[1;32m   2828\u001b[0m             \u001b[0;31m# ### Get validator for this property ###\u001b[0m\u001b[0;34m\u001b[0m\u001b[0;34m\u001b[0m\u001b[0;34m\u001b[0m\u001b[0m\n",
      "\u001b[0;32m~/anaconda3/lib/python3.7/site-packages/plotly/basedatatypes.py\u001b[0m in \u001b[0;36m_raise_on_invalid_property_error\u001b[0;34m(self, *args)\u001b[0m\n\u001b[1;32m   3007\u001b[0m                                  \u001b[0mfull_obj_name\u001b[0m\u001b[0;34m=\u001b[0m\u001b[0mfull_obj_name\u001b[0m\u001b[0;34m,\u001b[0m\u001b[0;34m\u001b[0m\u001b[0;34m\u001b[0m\u001b[0m\n\u001b[1;32m   3008\u001b[0m                                  \u001b[0minvalid_str\u001b[0m\u001b[0;34m=\u001b[0m\u001b[0minvalid_str\u001b[0m\u001b[0;34m,\u001b[0m\u001b[0;34m\u001b[0m\u001b[0;34m\u001b[0m\u001b[0m\n\u001b[0;32m-> 3009\u001b[0;31m                                  prop_descriptions=self._prop_descriptions))\n\u001b[0m\u001b[1;32m   3010\u001b[0m \u001b[0;34m\u001b[0m\u001b[0m\n\u001b[1;32m   3011\u001b[0m     \u001b[0;32mdef\u001b[0m \u001b[0mupdate\u001b[0m\u001b[0;34m(\u001b[0m\u001b[0mself\u001b[0m\u001b[0;34m,\u001b[0m \u001b[0mdict1\u001b[0m\u001b[0;34m=\u001b[0m\u001b[0;32mNone\u001b[0m\u001b[0;34m,\u001b[0m \u001b[0;34m**\u001b[0m\u001b[0mkwargs\u001b[0m\u001b[0;34m)\u001b[0m\u001b[0;34m:\u001b[0m\u001b[0;34m\u001b[0m\u001b[0;34m\u001b[0m\u001b[0m\n",
      "\u001b[0;31mValueError\u001b[0m: Invalid property specified for object of type plotly.graph_objs.Pie: 'xaxis'\n\n    Valid properties:\n        customdata\n            Assigns extra data each datum. This may be useful when\n            listening to hover, click and selection events. Note\n            that, \"scatter\" traces also appends customdata items in\n            the markers DOM elements\n        customdatasrc\n            Sets the source reference on plot.ly for  customdata .\n        direction\n            Specifies the direction at which succeeding sectors\n            follow one another.\n        dlabel\n            Sets the label step. See `label0` for more info.\n        domain\n            plotly.graph_objs.pie.Domain instance or dict with\n            compatible properties\n        hole\n            Sets the fraction of the radius to cut out of the pie.\n            Use this to make a donut chart.\n        hoverinfo\n            Determines which trace information appear on hover. If\n            `none` or `skip` are set, no information is displayed\n            upon hovering. But, if `none` is set, click and hover\n            events are still fired.\n        hoverinfosrc\n            Sets the source reference on plot.ly for  hoverinfo .\n        hoverlabel\n            plotly.graph_objs.pie.Hoverlabel instance or dict with\n            compatible properties\n        hovertemplate\n            Template string used for rendering the information that\n            appear on hover box. Note that this will override\n            `hoverinfo`. Variables are inserted using %{variable},\n            for example \"y: %{y}\". Numbers are formatted using\n            d3-format's syntax %{variable:d3-format}, for example\n            \"Price: %{y:$.2f}\". See https://github.com/d3/d3-format\n            /blob/master/README.md#locale_format for details on the\n            formatting syntax. The variables available in\n            `hovertemplate` are the ones emitted as event data\n            described at this link\n            https://plot.ly/javascript/plotlyjs-events/#event-data.\n            Additionally, every attributes that can be specified\n            per-point (the ones that are `arrayOk: true`) are\n            available. variables `label`, `color`, `value`,\n            `percent` and `text`. Anything contained in tag\n            `<extra>` is displayed in the secondary box, for\n            example \"<extra>{fullData.name}</extra>\".\n        hovertemplatesrc\n            Sets the source reference on plot.ly for  hovertemplate\n            .\n        hovertext\n            Sets hover text elements associated with each sector.\n            If a single string, the same string appears for all\n            data points. If an array of string, the items are\n            mapped in order of this trace's sectors. To be seen,\n            trace `hoverinfo` must contain a \"text\" flag.\n        hovertextsrc\n            Sets the source reference on plot.ly for  hovertext .\n        ids\n            Assigns id labels to each datum. These ids for object\n            constancy of data points during animation. Should be an\n            array of strings, not numbers or any other type.\n        idssrc\n            Sets the source reference on plot.ly for  ids .\n        insidetextfont\n            Sets the font used for `textinfo` lying inside the pie.\n        label0\n            Alternate to `labels`. Builds a numeric set of labels.\n            Use with `dlabel` where `label0` is the starting label\n            and `dlabel` the step.\n        labels\n            Sets the sector labels. If `labels` entries are\n            duplicated, we sum associated `values` or simply count\n            occurrences if `values` is not provided. For other\n            array attributes (including color) we use the first\n            non-empty entry among all occurrences of the label.\n        labelssrc\n            Sets the source reference on plot.ly for  labels .\n        legendgroup\n            Sets the legend group for this trace. Traces part of\n            the same legend group hide/show at the same time when\n            toggling legend items.\n        marker\n            plotly.graph_objs.pie.Marker instance or dict with\n            compatible properties\n        name\n            Sets the trace name. The trace name appear as the\n            legend item and on hover.\n        opacity\n            Sets the opacity of the trace.\n        outsidetextfont\n            Sets the font used for `textinfo` lying outside the\n            pie.\n        pull\n            Sets the fraction of larger radius to pull the sectors\n            out from the center. This can be a constant to pull all\n            slices apart from each other equally or an array to\n            highlight one or more slices.\n        pullsrc\n            Sets the source reference on plot.ly for  pull .\n        rotation\n            Instead of the first slice starting at 12 o'clock,\n            rotate to some other angle.\n        scalegroup\n            If there are multiple pies that should be sized\n            according to their totals, link them by providing a\n            non-empty group id here shared by every trace in the\n            same group.\n        selectedpoints\n            Array containing integer indices of selected points.\n            Has an effect only for traces that support selections.\n            Note that an empty array means an empty selection where\n            the `unselected` are turned on for all points, whereas,\n            any other non-array values means no selection all where\n            the `selected` and `unselected` styles have no effect.\n        showlegend\n            Determines whether or not an item corresponding to this\n            trace is shown in the legend.\n        sort\n            Determines whether or not the sectors are reordered\n            from largest to smallest.\n        stream\n            plotly.graph_objs.pie.Stream instance or dict with\n            compatible properties\n        text\n            Sets text elements associated with each sector. If\n            trace `textinfo` contains a \"text\" flag, these elements\n            will be seen on the chart. If trace `hoverinfo`\n            contains a \"text\" flag and \"hovertext\" is not set,\n            these elements will be seen in the hover labels.\n        textfont\n            Sets the font used for `textinfo`.\n        textinfo\n            Determines which trace information appear on the graph.\n        textposition\n            Specifies the location of the `textinfo`.\n        textpositionsrc\n            Sets the source reference on plot.ly for  textposition\n            .\n        textsrc\n            Sets the source reference on plot.ly for  text .\n        title\n            plotly.graph_objs.pie.Title instance or dict with\n            compatible properties\n        titlefont\n            Deprecated: Please use pie.title.font instead. Sets the\n            font used for `title`. Note that the title's font used\n            to be set by the now deprecated `titlefont` attribute.\n        titleposition\n            Deprecated: Please use pie.title.position instead.\n            Specifies the location of the `title`. Note that the\n            title's position used to be set by the now deprecated\n            `titleposition` attribute.\n        uid\n            Assign an id to this trace, Use this to provide object\n            constancy between traces during animations and\n            transitions.\n        uirevision\n            Controls persistence of some user-driven changes to the\n            trace: `constraintrange` in `parcoords` traces, as well\n            as some `editable: true` modifications such as `name`\n            and `colorbar.title`. Defaults to `layout.uirevision`.\n            Note that other user-driven trace attribute changes are\n            controlled by `layout` attributes: `trace.visible` is\n            controlled by `layout.legend.uirevision`,\n            `selectedpoints` is controlled by\n            `layout.selectionrevision`, and `colorbar.(x|y)`\n            (accessible with `config: {editable: true}`) is\n            controlled by `layout.editrevision`. Trace changes are\n            tracked by `uid`, which only falls back on trace index\n            if no `uid` is provided. So if your app can add/remove\n            traces before the end of the `data` array, such that\n            the same trace has a different index, you can still\n            preserve user-driven changes if you give each trace a\n            `uid` that stays with it as it moves.\n        values\n            Sets the values of the sectors of this pie chart. If\n            omitted, we count occurrences of each label.\n        valuessrc\n            Sets the source reference on plot.ly for  values .\n        visible\n            Determines whether or not this trace is visible. If\n            \"legendonly\", the trace is not drawn, but can appear as\n            a legend item (provided that the legend itself is\n            visible).\n        "
     ]
    }
   ],
   "source": [
    "# Now put them side by side\n",
    "# OK there's a fundamental problm that I don't think can be resolved\n",
    "# Pie charts can only use the \"domain\" attribute for lining up multiple plots\n",
    "# They can't use layout (see https://plot.ly/python/pie-charts/)\n",
    "# However, bar charts must use the layout \n",
    "# I'm not sure there's any way to put pie/donut and bar chart side by side in plotly\n",
    "df_data = df_data.sort_values(by='togo_sort_value', ascending=False)\n",
    "\n",
    "trace0 = go.Pie(\n",
    "   labels=df_data['Item'],\n",
    "   values=df_data['Number per 100m of beach'],\n",
    "   hoverinfo='label+value', \n",
    "   textfont=dict(size=12),\n",
    "   hole=.6,\n",
    "    marker=dict(\n",
    "        colors=df_data['togo_color'],\n",
    "        line=dict(\n",
    "            color='gray',\n",
    "            width=2)\n",
    "    ), \n",
    "   textinfo='label', \n",
    "   textposition='outside'\n",
    ")\n",
    "\n",
    "trace1 = go.Bar(\n",
    "    x=df_data['Number per 100m of beach'],\n",
    "    y=df_data['Item'],\n",
    "    hoverinfo='y+x', \n",
    "    marker=dict(\n",
    "        color=df_data['togo_color'],\n",
    "        line=dict(\n",
    "            color='gray',\n",
    "            width=2)\n",
    "    ),\n",
    "    orientation='h'\n",
    ")\n",
    "\n",
    "fig = tools.make_subplots(rows=1, cols=2)\n",
    "fig.append_trace(trace0, 1, 1)\n",
    "fig.append_trace(trace1, 1, 2)\n",
    "fig['layout'].update(height=600, width=800, subplot_titles=('Donut', 'Bar'))\n",
    "\n",
    "py.iplot(fig, filename='simple-subplot-with-annotations')"
   ]
  },
  {
   "cell_type": "code",
   "execution_count": 13,
   "metadata": {},
   "outputs": [
    {
     "data": {
      "application/vnd.plotly.v1+json": {
       "config": {
        "linkText": "Export to plot.ly",
        "plotlyServerURL": "https://plot.ly",
        "showLink": false
       },
       "data": [
        {
         "domain": {
          "x": [
           0,
           0.48
          ]
         },
         "hole": 0.6,
         "hoverinfo": "label+value",
         "labels": [
          "Packets (crisp, sweet, lolly, sandwich)",
          "Glass",
          "Caps & lids",
          "Cutlery / trays / straws",
          "Plastic / polystyrene pieces (0–50 cm)",
          "Unspecified",
          "Cigarette stubs",
          "String / cord (thickness 0–1 cm)",
          "Wet wipes",
          "Cotton bud sticks",
          "Fishing line"
         ],
         "marker": {
          "colors": [
           "lightsteelblue",
           "lightsteelblue",
           "lightsteelblue",
           "lightsteelblue",
           "whitesmoke",
           "whitesmoke",
           "whitesmoke",
           "whitesmoke",
           "whitesmoke",
           "whitesmoke",
           "whitesmoke"
          ],
          "line": {
           "color": "gray",
           "width": 2
          }
         },
         "name": "donut chart",
         "sort": false,
         "text": [
          "",
          "To-Go Trash",
          "",
          "",
          "",
          "",
          "",
          "",
          "",
          "",
          ""
         ],
         "textinfo": "text",
         "textposition": "outside",
         "type": "pie",
         "uid": "3d052e93-a229-44dd-93a2-121b2e00e984",
         "values": [
          42.3,
          40.4,
          32.9,
          15.1,
          225.3,
          224.2,
          34.5,
          31,
          27.4,
          26.9,
          18
         ]
        },
        {
         "marker": {
          "color": [
           "lightsteelblue",
           "lightsteelblue",
           "lightsteelblue",
           "lightsteelblue",
           "whitesmoke",
           "whitesmoke",
           "whitesmoke",
           "whitesmoke",
           "whitesmoke",
           "whitesmoke",
           "whitesmoke"
          ],
          "line": {
           "color": "gray",
           "width": 2
          }
         },
         "name": "bar chart",
         "orientation": "h",
         "type": "bar",
         "uid": "a1c8ca60-f6b8-4b4e-8b35-c26870010bbc",
         "x": [
          42.3,
          40.4,
          32.9,
          15.1,
          225.3,
          224.2,
          34.5,
          31,
          27.4,
          26.9,
          18
         ],
         "y": [
          "Packets (crisp, sweet, lolly, sandwich)",
          "Glass",
          "Caps & lids",
          "Cutlery / trays / straws",
          "Plastic / polystyrene pieces (0–50 cm)",
          "Unspecified",
          "Cigarette stubs",
          "String / cord (thickness 0–1 cm)",
          "Wet wipes",
          "Cotton bud sticks",
          "Fishing line"
         ]
        }
       ],
       "layout": {
        "showlegend": false,
        "title": {
         "text": "To-go Trash Found on UK Beaches"
        }
       }
      },
      "text/html": [
       "<div id=\"eda63a5e-5cf7-45f3-9cd0-e1d5add66cca\" style=\"height: 525px; width: 100%;\" class=\"plotly-graph-div\"></div><script type=\"text/javascript\">require([\"plotly\"], function(Plotly) { window.PLOTLYENV=window.PLOTLYENV || {};window.PLOTLYENV.BASE_URL=\"https://plot.ly\";\n",
       "if (document.getElementById(\"eda63a5e-5cf7-45f3-9cd0-e1d5add66cca\")) {\n",
       "    Plotly.newPlot(\"eda63a5e-5cf7-45f3-9cd0-e1d5add66cca\", [{\"domain\": {\"x\": [0, 0.48]}, \"hole\": 0.6, \"hoverinfo\": \"label+value\", \"labels\": [\"Packets (crisp, sweet, lolly, sandwich)\", \"Glass\", \"Caps & lids\", \"Cutlery / trays / straws\", \"Plastic / polystyrene pieces (0\\u201350 cm)\", \"Unspecified\", \"Cigarette stubs\", \"String / cord (thickness 0\\u20131 cm)\", \"Wet wipes\", \"Cotton bud sticks\", \"Fishing line\"], \"marker\": {\"colors\": [\"lightsteelblue\", \"lightsteelblue\", \"lightsteelblue\", \"lightsteelblue\", \"whitesmoke\", \"whitesmoke\", \"whitesmoke\", \"whitesmoke\", \"whitesmoke\", \"whitesmoke\", \"whitesmoke\"], \"line\": {\"color\": \"gray\", \"width\": 2}}, \"name\": \"donut chart\", \"sort\": false, \"text\": [\"\", \"To-Go Trash\", \"\", \"\", \"\", \"\", \"\", \"\", \"\", \"\", \"\"], \"textinfo\": \"text\", \"textposition\": \"outside\", \"values\": [42.3, 40.4, 32.9, 15.1, 225.3, 224.2, 34.5, 31.0, 27.4, 26.9, 18.0], \"type\": \"pie\", \"uid\": \"595a7bc3-45b8-4a28-8d74-3fb2c5fb4ab8\"}, {\"marker\": {\"color\": [\"lightsteelblue\", \"lightsteelblue\", \"lightsteelblue\", \"lightsteelblue\", \"whitesmoke\", \"whitesmoke\", \"whitesmoke\", \"whitesmoke\", \"whitesmoke\", \"whitesmoke\", \"whitesmoke\"], \"line\": {\"color\": \"gray\", \"width\": 2}}, \"name\": \"bar chart\", \"orientation\": \"h\", \"x\": [42.3, 40.4, 32.9, 15.1, 225.3, 224.2, 34.5, 31.0, 27.4, 26.9, 18.0], \"y\": [\"Packets (crisp, sweet, lolly, sandwich)\", \"Glass\", \"Caps & lids\", \"Cutlery / trays / straws\", \"Plastic / polystyrene pieces (0\\u201350 cm)\", \"Unspecified\", \"Cigarette stubs\", \"String / cord (thickness 0\\u20131 cm)\", \"Wet wipes\", \"Cotton bud sticks\", \"Fishing line\"], \"type\": \"bar\", \"uid\": \"04535c80-89fa-4eb0-ae2b-82abe4ce7705\"}], {\"showlegend\": false, \"title\": {\"text\": \"To-go Trash Found on UK Beaches\"}}, {\"showLink\": false, \"linkText\": \"Export to plot.ly\", \"plotlyServerURL\": \"https://plot.ly\"}); \n",
       "}\n",
       "});</script><script type=\"text/javascript\">window.addEventListener(\"resize\", function(){if (document.getElementById(\"eda63a5e-5cf7-45f3-9cd0-e1d5add66cca\")) {window._Plotly.Plots.resize(document.getElementById(\"eda63a5e-5cf7-45f3-9cd0-e1d5add66cca\"));};})</script>"
      ],
      "text/vnd.plotly.v1+html": [
       "<div id=\"eda63a5e-5cf7-45f3-9cd0-e1d5add66cca\" style=\"height: 525px; width: 100%;\" class=\"plotly-graph-div\"></div><script type=\"text/javascript\">require([\"plotly\"], function(Plotly) { window.PLOTLYENV=window.PLOTLYENV || {};window.PLOTLYENV.BASE_URL=\"https://plot.ly\";\n",
       "if (document.getElementById(\"eda63a5e-5cf7-45f3-9cd0-e1d5add66cca\")) {\n",
       "    Plotly.newPlot(\"eda63a5e-5cf7-45f3-9cd0-e1d5add66cca\", [{\"domain\": {\"x\": [0, 0.48]}, \"hole\": 0.6, \"hoverinfo\": \"label+value\", \"labels\": [\"Packets (crisp, sweet, lolly, sandwich)\", \"Glass\", \"Caps & lids\", \"Cutlery / trays / straws\", \"Plastic / polystyrene pieces (0\\u201350 cm)\", \"Unspecified\", \"Cigarette stubs\", \"String / cord (thickness 0\\u20131 cm)\", \"Wet wipes\", \"Cotton bud sticks\", \"Fishing line\"], \"marker\": {\"colors\": [\"lightsteelblue\", \"lightsteelblue\", \"lightsteelblue\", \"lightsteelblue\", \"whitesmoke\", \"whitesmoke\", \"whitesmoke\", \"whitesmoke\", \"whitesmoke\", \"whitesmoke\", \"whitesmoke\"], \"line\": {\"color\": \"gray\", \"width\": 2}}, \"name\": \"donut chart\", \"sort\": false, \"text\": [\"\", \"To-Go Trash\", \"\", \"\", \"\", \"\", \"\", \"\", \"\", \"\", \"\"], \"textinfo\": \"text\", \"textposition\": \"outside\", \"values\": [42.3, 40.4, 32.9, 15.1, 225.3, 224.2, 34.5, 31.0, 27.4, 26.9, 18.0], \"type\": \"pie\", \"uid\": \"595a7bc3-45b8-4a28-8d74-3fb2c5fb4ab8\"}, {\"marker\": {\"color\": [\"lightsteelblue\", \"lightsteelblue\", \"lightsteelblue\", \"lightsteelblue\", \"whitesmoke\", \"whitesmoke\", \"whitesmoke\", \"whitesmoke\", \"whitesmoke\", \"whitesmoke\", \"whitesmoke\"], \"line\": {\"color\": \"gray\", \"width\": 2}}, \"name\": \"bar chart\", \"orientation\": \"h\", \"x\": [42.3, 40.4, 32.9, 15.1, 225.3, 224.2, 34.5, 31.0, 27.4, 26.9, 18.0], \"y\": [\"Packets (crisp, sweet, lolly, sandwich)\", \"Glass\", \"Caps & lids\", \"Cutlery / trays / straws\", \"Plastic / polystyrene pieces (0\\u201350 cm)\", \"Unspecified\", \"Cigarette stubs\", \"String / cord (thickness 0\\u20131 cm)\", \"Wet wipes\", \"Cotton bud sticks\", \"Fishing line\"], \"type\": \"bar\", \"uid\": \"04535c80-89fa-4eb0-ae2b-82abe4ce7705\"}], {\"showlegend\": false, \"title\": {\"text\": \"To-go Trash Found on UK Beaches\"}}, {\"showLink\": false, \"linkText\": \"Export to plot.ly\", \"plotlyServerURL\": \"https://plot.ly\"}); \n",
       "}\n",
       "});</script><script type=\"text/javascript\">window.addEventListener(\"resize\", function(){if (document.getElementById(\"eda63a5e-5cf7-45f3-9cd0-e1d5add66cca\")) {window._Plotly.Plots.resize(document.getElementById(\"eda63a5e-5cf7-45f3-9cd0-e1d5add66cca\"));};})</script>"
      ]
     },
     "metadata": {},
     "output_type": "display_data"
    }
   ],
   "source": [
    "fig = {\n",
    "  \"data\": [\n",
    "    {\n",
    "        \"values\": df_data['Number per 100m of beach'],\n",
    "      \"labels\": df_data['Item'],\n",
    "      \"domain\": {\"x\": [0, .48]},\n",
    "      \"name\": \"donut chart\",\n",
    "      \"hoverinfo\":'label+value', \n",
    "      \"hole\": .6,\n",
    "      \"type\": \"pie\",\n",
    "      \"textinfo\":\"text\",\n",
    "      \"text\": ['To-Go Trash' if val == 'Glass'\n",
    "                            else '' for val in df_data['Item']], \n",
    "        \"sort\":False,    # Remove the default sort of largest value to smallest\n",
    "      \"textposition\":'outside',\n",
    "      'marker': {'colors': df_data['togo_color'],\n",
    "                    'line':{'color':'gray', 'width':2}\n",
    "                }\n",
    "    },\n",
    "    {\n",
    "      \"x\": df_data['Number per 100m of beach'],\n",
    "      \"y\": df_data['Item'],\n",
    "      #\"domain\": {\"x\": [.52, 1]},\n",
    "      'marker': {'color': df_data['togo_color'],\n",
    "                    'line':{'color':'gray', 'width':2}\n",
    "                },\n",
    "      \"name\": \"bar chart\",\n",
    "      \"orientation\":\"h\",\n",
    "      \"type\": \"bar\"\n",
    "    }], \n",
    "  \"layout\": {\n",
    "        \"title\":\"To-go Trash Found on UK Beaches\",\n",
    "        'showlegend': False,\n",
    "    }\n",
    "}\n",
    "iplot(fig, filename='donut_and_bar')\n"
   ]
  },
  {
   "cell_type": "code",
   "execution_count": null,
   "metadata": {},
   "outputs": [],
   "source": [
    "# All right this isn't going to work!"
   ]
  },
  {
   "cell_type": "code",
   "execution_count": 131,
   "metadata": {},
   "outputs": [
    {
     "data": {
      "application/vnd.plotly.v1+json": {
       "config": {
        "linkText": "Export to plot.ly",
        "plotlyServerURL": "https://plot.ly",
        "showLink": true
       },
       "data": [
        {
         "hole": 0.6,
         "labels": [
          "Packets (crisp, sweet, lolly, sandwich)",
          "Glass",
          "Caps & lids",
          "Cutlery / trays / straws",
          "Plastic / polystyrene pieces (0–50 cm)",
          "Unspecified",
          "Cigarette stubs",
          "String / cord (thickness 0–1 cm)",
          "Wet wipes",
          "Cotton bud sticks",
          "Fishing line"
         ],
         "marker": {
          "colors": [
           "rgba(255, 153, 51, 1.0)",
           "rgba(55, 128, 191, 1.0)",
           "rgba(50, 171, 96, 1.0)",
           "rgba(128, 0, 128, 1.0)",
           "rgba(219, 64, 82, 1.0)",
           "rgba(0, 128, 128, 1.0)",
           "rgba(255, 255, 51, 1.0)",
           "rgba(128, 128, 0, 1.0)",
           "rgba(251, 128, 114, 1.0)",
           "rgba(128, 177, 211, 1.0)",
           "rgba(128, 177, 211, 0.8999999999999999)"
          ]
         },
         "name": "",
         "textinfo": "label",
         "textposition": "outside",
         "type": "pie",
         "values": [
          42.3,
          40.4,
          32.9,
          15.1,
          225.3,
          224.2,
          34.5,
          31,
          27.4,
          26.9,
          18
         ]
        }
       ],
       "layout": {
        "legend": {
         "bgcolor": "#F5F6F9",
         "font": {
          "color": "#4D5663"
         }
        },
        "paper_bgcolor": "#F5F6F9",
        "plot_bgcolor": "#F5F6F9",
        "titlefont": {
         "color": "#4D5663"
        }
       }
      },
      "text/html": [
       "<div id=\"834db47e-3f3d-4212-9561-ad3b67446122\" style=\"height: 525px; width: 100%;\" class=\"plotly-graph-div\"></div><script type=\"text/javascript\">require([\"plotly\"], function(Plotly) { window.PLOTLYENV=window.PLOTLYENV || {};window.PLOTLYENV.BASE_URL=\"https://plot.ly\";\n",
       "if (document.getElementById(\"834db47e-3f3d-4212-9561-ad3b67446122\")) {\n",
       "    Plotly.newPlot(\"834db47e-3f3d-4212-9561-ad3b67446122\", [{\"hole\": 0.6, \"labels\": [\"Packets (crisp, sweet, lolly, sandwich)\", \"Glass\", \"Caps & lids\", \"Cutlery / trays / straws\", \"Plastic / polystyrene pieces (0\\u201350 cm)\", \"Unspecified\", \"Cigarette stubs\", \"String / cord (thickness 0\\u20131 cm)\", \"Wet wipes\", \"Cotton bud sticks\", \"Fishing line\"], \"marker\": {\"colors\": [\"rgba(255, 153, 51, 1.0)\", \"rgba(55, 128, 191, 1.0)\", \"rgba(50, 171, 96, 1.0)\", \"rgba(128, 0, 128, 1.0)\", \"rgba(219, 64, 82, 1.0)\", \"rgba(0, 128, 128, 1.0)\", \"rgba(255, 255, 51, 1.0)\", \"rgba(128, 128, 0, 1.0)\", \"rgba(251, 128, 114, 1.0)\", \"rgba(128, 177, 211, 1.0)\", \"rgba(128, 177, 211, 0.8999999999999999)\"]}, \"name\": \"\", \"textinfo\": \"label\", \"textposition\": \"outside\", \"values\": [42.3, 40.4, 32.9, 15.1, 225.3, 224.2, 34.5, 31.0, 27.4, 26.9, 18.0], \"type\": \"pie\"}], {\"legend\": {\"bgcolor\": \"#F5F6F9\", \"font\": {\"color\": \"#4D5663\"}}, \"paper_bgcolor\": \"#F5F6F9\", \"plot_bgcolor\": \"#F5F6F9\", \"titlefont\": {\"color\": \"#4D5663\"}}, {\"showLink\": true, \"linkText\": \"Export to plot.ly\", \"plotlyServerURL\": \"https://plot.ly\"}); \n",
       "}\n",
       "});</script><script type=\"text/javascript\">window.addEventListener(\"resize\", function(){if (document.getElementById(\"834db47e-3f3d-4212-9561-ad3b67446122\")) {window._Plotly.Plots.resize(document.getElementById(\"834db47e-3f3d-4212-9561-ad3b67446122\"));};})</script>"
      ],
      "text/vnd.plotly.v1+html": [
       "<div id=\"834db47e-3f3d-4212-9561-ad3b67446122\" style=\"height: 525px; width: 100%;\" class=\"plotly-graph-div\"></div><script type=\"text/javascript\">require([\"plotly\"], function(Plotly) { window.PLOTLYENV=window.PLOTLYENV || {};window.PLOTLYENV.BASE_URL=\"https://plot.ly\";\n",
       "if (document.getElementById(\"834db47e-3f3d-4212-9561-ad3b67446122\")) {\n",
       "    Plotly.newPlot(\"834db47e-3f3d-4212-9561-ad3b67446122\", [{\"hole\": 0.6, \"labels\": [\"Packets (crisp, sweet, lolly, sandwich)\", \"Glass\", \"Caps & lids\", \"Cutlery / trays / straws\", \"Plastic / polystyrene pieces (0\\u201350 cm)\", \"Unspecified\", \"Cigarette stubs\", \"String / cord (thickness 0\\u20131 cm)\", \"Wet wipes\", \"Cotton bud sticks\", \"Fishing line\"], \"marker\": {\"colors\": [\"rgba(255, 153, 51, 1.0)\", \"rgba(55, 128, 191, 1.0)\", \"rgba(50, 171, 96, 1.0)\", \"rgba(128, 0, 128, 1.0)\", \"rgba(219, 64, 82, 1.0)\", \"rgba(0, 128, 128, 1.0)\", \"rgba(255, 255, 51, 1.0)\", \"rgba(128, 128, 0, 1.0)\", \"rgba(251, 128, 114, 1.0)\", \"rgba(128, 177, 211, 1.0)\", \"rgba(128, 177, 211, 0.8999999999999999)\"]}, \"name\": \"\", \"textinfo\": \"label\", \"textposition\": \"outside\", \"values\": [42.3, 40.4, 32.9, 15.1, 225.3, 224.2, 34.5, 31.0, 27.4, 26.9, 18.0], \"type\": \"pie\"}], {\"legend\": {\"bgcolor\": \"#F5F6F9\", \"font\": {\"color\": \"#4D5663\"}}, \"paper_bgcolor\": \"#F5F6F9\", \"plot_bgcolor\": \"#F5F6F9\", \"titlefont\": {\"color\": \"#4D5663\"}}, {\"showLink\": true, \"linkText\": \"Export to plot.ly\", \"plotlyServerURL\": \"https://plot.ly\"}); \n",
       "}\n",
       "});</script><script type=\"text/javascript\">window.addEventListener(\"resize\", function(){if (document.getElementById(\"834db47e-3f3d-4212-9561-ad3b67446122\")) {window._Plotly.Plots.resize(document.getElementById(\"834db47e-3f3d-4212-9561-ad3b67446122\"));};})</script>"
      ]
     },
     "metadata": {},
     "output_type": "display_data"
    }
   ],
   "source": [
    "df_data.iplot(\n",
    "    kind='pie',\n",
    "    labels='Item',\n",
    "   values='Number per 100m of beach',\n",
    "   hoverinfo='label+value', \n",
    "   hole=.6,\n",
    "   textinfo='label', \n",
    "   textposition='outside')"
   ]
  },
  {
   "cell_type": "code",
   "execution_count": 31,
   "metadata": {},
   "outputs": [
    {
     "data": {
      "text/plain": [
       "<BarContainer object of 11 artists>"
      ]
     },
     "execution_count": 31,
     "metadata": {},
     "output_type": "execute_result"
    },
    {
     "data": {
      "image/png": "[encoded data removed]",
      "text/plain": [
       "<Figure size 720x360 with 2 Axes>"
      ]
     },
     "metadata": {
      "needs_background": "light"
     },
     "output_type": "display_data"
    }
   ],
   "source": [
    "# Let's try side by side using matplotlib and subplots\n",
    "import matplotlib as mpl\n",
    "import matplotlib.pyplot as plt\n",
    "\n",
    "# Bar plots and line plots don't use colormaps.\n",
    "# To change default colors, you need to change the color cycler\n",
    "# See https://stackoverflow.com/questions/46768859/how-to-change-the-default-colors-for-multiple-plots-in-matplotlib\n",
    "plt.rcParams['axes.prop_cycle'] = plt.cycler(color=plt.cm.Set3.colors)\n",
    "\n",
    "plt.figure(figsize = [10, 5]) # larger figure size for subplots\n",
    "\n",
    "# pie chart\n",
    "# Needed to add extra blank column because labels overflowed\n",
    "plt.subplot(1, 3, 1) # 1 row, 3 cols, subplot 1\n",
    "plt.pie(df_data['Number per 100m of beach'], \n",
    "        labels = df_data['Item'], \n",
    "        startangle = 90, \n",
    "        wedgeprops = {'width' : 0.4}); \n",
    "        # startangle = 90: start first slice vertically upward);\n",
    "plt.axis('square'); # scale x and y axis equally\n",
    "\n",
    "# bar plot\n",
    "plt.subplot(1, 3, 3) # 1 row, 3 cols, subplot 2\n",
    "plt.barh(df_data['shortname'], df_data['Number per 100m of beach'], align='center', alpha=0.5)\n",
    " \n",
    "#plt.show()"
   ]
  },
  {
   "cell_type": "code",
   "execution_count": null,
   "metadata": {},
   "outputs": [],
   "source": []
  }
 ],
 "metadata": {
  "kernelspec": {
   "display_name": "Python 3",
   "language": "python",
   "name": "python3"
  },
  "language_info": {
   "codemirror_mode": {
    "name": "ipython",
    "version": 3
   },
   "file_extension": ".py",
   "mimetype": "text/x-python",
   "name": "python",
   "nbconvert_exporter": "python",
   "pygments_lexer": "ipython3",
   "version": "3.7.2"
  }
 },
 "nbformat": 4,
 "nbformat_minor": 2
}
